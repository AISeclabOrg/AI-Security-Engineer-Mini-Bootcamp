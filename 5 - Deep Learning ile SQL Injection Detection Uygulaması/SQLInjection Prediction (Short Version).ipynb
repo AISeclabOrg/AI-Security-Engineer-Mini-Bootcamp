{
 "cells": [
  {
   "cell_type": "markdown",
   "id": "58cd2bea-7ca2-4ce8-af5b-b1002608b20c",
   "metadata": {},
   "source": [
    "# Import Libraries"
   ]
  },
  {
   "cell_type": "code",
   "execution_count": 93,
   "id": "f54fbb20-7aad-4ac5-9949-5346f8d1555f",
   "metadata": {},
   "outputs": [
    {
     "name": "stderr",
     "output_type": "stream",
     "text": [
      "[nltk_data] Downloading package stopwords to /home/alper/nltk_data...\n",
      "[nltk_data]   Package stopwords is already up-to-date!\n"
     ]
    },
    {
     "data": {
      "text/plain": [
       "True"
      ]
     },
     "execution_count": 93,
     "metadata": {},
     "output_type": "execute_result"
    }
   ],
   "source": [
    "import numpy as np\n",
    "import pandas as pd\n",
    "import matplotlib.pyplot as plt\n",
    "from sklearn.feature_extraction.text import CountVectorizer\n",
    "from sklearn.model_selection import train_test_split\n",
    "from nltk.corpus import stopwords\n",
    "import tensorflow as tf\n",
    "from tensorflow.keras.models import Sequential\n",
    "import pickle\n",
    "import warnings\n",
    "\n",
    "nltk.download(\"stopwords\")"
   ]
  },
  {
   "cell_type": "markdown",
   "id": "25d4c10c-7117-44e4-b350-173097417347",
   "metadata": {},
   "source": [
    "# Import Dataset"
   ]
  },
  {
   "cell_type": "code",
   "execution_count": 7,
   "id": "aae5a904-1589-466a-8538-1e921f3f16d5",
   "metadata": {},
   "outputs": [],
   "source": [
    "df = pd.read_csv(\"sqli.csv\", encoding=\"utf-16\")"
   ]
  },
  {
   "cell_type": "code",
   "execution_count": 8,
   "id": "be1d36c0-bef3-4c2c-a3f1-839dbae34672",
   "metadata": {},
   "outputs": [
    {
     "data": {
      "text/html": [
       "<div>\n",
       "<style scoped>\n",
       "    .dataframe tbody tr th:only-of-type {\n",
       "        vertical-align: middle;\n",
       "    }\n",
       "\n",
       "    .dataframe tbody tr th {\n",
       "        vertical-align: top;\n",
       "    }\n",
       "\n",
       "    .dataframe thead th {\n",
       "        text-align: right;\n",
       "    }\n",
       "</style>\n",
       "<table border=\"1\" class=\"dataframe\">\n",
       "  <thead>\n",
       "    <tr style=\"text-align: right;\">\n",
       "      <th></th>\n",
       "      <th>Sentence</th>\n",
       "      <th>Label</th>\n",
       "    </tr>\n",
       "  </thead>\n",
       "  <tbody>\n",
       "    <tr>\n",
       "      <th>0</th>\n",
       "      <td>a</td>\n",
       "      <td>1</td>\n",
       "    </tr>\n",
       "    <tr>\n",
       "      <th>1</th>\n",
       "      <td>a'</td>\n",
       "      <td>1</td>\n",
       "    </tr>\n",
       "    <tr>\n",
       "      <th>2</th>\n",
       "      <td>a' --</td>\n",
       "      <td>1</td>\n",
       "    </tr>\n",
       "    <tr>\n",
       "      <th>3</th>\n",
       "      <td>a' or 1 = 1; --</td>\n",
       "      <td>1</td>\n",
       "    </tr>\n",
       "    <tr>\n",
       "      <th>4</th>\n",
       "      <td>@</td>\n",
       "      <td>1</td>\n",
       "    </tr>\n",
       "  </tbody>\n",
       "</table>\n",
       "</div>"
      ],
      "text/plain": [
       "          Sentence  Label\n",
       "0                a      1\n",
       "1              a'       1\n",
       "2            a' --      1\n",
       "3  a' or 1 = 1; --      1\n",
       "4                @      1"
      ]
     },
     "execution_count": 8,
     "metadata": {},
     "output_type": "execute_result"
    }
   ],
   "source": [
    "df.head()"
   ]
  },
  {
   "cell_type": "code",
   "execution_count": 11,
   "id": "8fa92ede-2e84-40ef-94eb-5a93acf3babb",
   "metadata": {},
   "outputs": [
    {
     "data": {
      "text/plain": [
       "Sentence    4187\n",
       "Label       4200\n",
       "dtype: int64"
      ]
     },
     "execution_count": 11,
     "metadata": {},
     "output_type": "execute_result"
    }
   ],
   "source": [
    "df.count()"
   ]
  },
  {
   "cell_type": "markdown",
   "id": "4f26c1dc-c5b3-4851-9599-071332a7ba31",
   "metadata": {},
   "source": [
    "# Vectorization"
   ]
  },
  {
   "cell_type": "code",
   "execution_count": 12,
   "id": "6d81f7a4-4c59-4a8b-8430-c389676b2070",
   "metadata": {},
   "outputs": [],
   "source": [
    "max_df = 0.7\n",
    "max_features = 4096"
   ]
  },
  {
   "cell_type": "code",
   "execution_count": 13,
   "id": "d99196cf-ce32-4a1b-9db2-a89abfcf73ab",
   "metadata": {},
   "outputs": [],
   "source": [
    "stopwords_lst = stopwords.words(\"english\")"
   ]
  },
  {
   "cell_type": "code",
   "execution_count": 16,
   "id": "d3599731-feb9-4a9e-822d-a85166b859a9",
   "metadata": {},
   "outputs": [
    {
     "data": {
      "text/plain": [
       "['i',\n",
       " 'me',\n",
       " 'my',\n",
       " 'myself',\n",
       " 'we',\n",
       " 'our',\n",
       " 'ours',\n",
       " 'ourselves',\n",
       " 'you',\n",
       " \"you're\",\n",
       " \"you've\",\n",
       " \"you'll\",\n",
       " \"you'd\",\n",
       " 'your',\n",
       " 'yours',\n",
       " 'yourself',\n",
       " 'yourselves',\n",
       " 'he',\n",
       " 'him',\n",
       " 'his',\n",
       " 'himself',\n",
       " 'she',\n",
       " \"she's\",\n",
       " 'her',\n",
       " 'hers',\n",
       " 'herself',\n",
       " 'it',\n",
       " \"it's\",\n",
       " 'its',\n",
       " 'itself',\n",
       " 'they',\n",
       " 'them',\n",
       " 'their',\n",
       " 'theirs',\n",
       " 'themselves',\n",
       " 'what',\n",
       " 'which',\n",
       " 'who',\n",
       " 'whom',\n",
       " 'this',\n",
       " 'that',\n",
       " \"that'll\",\n",
       " 'these',\n",
       " 'those',\n",
       " 'am',\n",
       " 'is',\n",
       " 'are',\n",
       " 'was',\n",
       " 'were',\n",
       " 'be',\n",
       " 'been',\n",
       " 'being',\n",
       " 'have',\n",
       " 'has',\n",
       " 'had',\n",
       " 'having',\n",
       " 'do',\n",
       " 'does',\n",
       " 'did',\n",
       " 'doing',\n",
       " 'a',\n",
       " 'an',\n",
       " 'the',\n",
       " 'and',\n",
       " 'but',\n",
       " 'if',\n",
       " 'or',\n",
       " 'because',\n",
       " 'as',\n",
       " 'until',\n",
       " 'while',\n",
       " 'of',\n",
       " 'at',\n",
       " 'by',\n",
       " 'for',\n",
       " 'with',\n",
       " 'about',\n",
       " 'against',\n",
       " 'between',\n",
       " 'into',\n",
       " 'through',\n",
       " 'during',\n",
       " 'before',\n",
       " 'after',\n",
       " 'above',\n",
       " 'below',\n",
       " 'to',\n",
       " 'from',\n",
       " 'up',\n",
       " 'down',\n",
       " 'in',\n",
       " 'out',\n",
       " 'on',\n",
       " 'off',\n",
       " 'over',\n",
       " 'under',\n",
       " 'again',\n",
       " 'further',\n",
       " 'then',\n",
       " 'once',\n",
       " 'here',\n",
       " 'there',\n",
       " 'when',\n",
       " 'where',\n",
       " 'why',\n",
       " 'how',\n",
       " 'all',\n",
       " 'any',\n",
       " 'both',\n",
       " 'each',\n",
       " 'few',\n",
       " 'more',\n",
       " 'most',\n",
       " 'other',\n",
       " 'some',\n",
       " 'such',\n",
       " 'no',\n",
       " 'nor',\n",
       " 'not',\n",
       " 'only',\n",
       " 'own',\n",
       " 'same',\n",
       " 'so',\n",
       " 'than',\n",
       " 'too',\n",
       " 'very',\n",
       " 's',\n",
       " 't',\n",
       " 'can',\n",
       " 'will',\n",
       " 'just',\n",
       " 'don',\n",
       " \"don't\",\n",
       " 'should',\n",
       " \"should've\",\n",
       " 'now',\n",
       " 'd',\n",
       " 'll',\n",
       " 'm',\n",
       " 'o',\n",
       " 're',\n",
       " 've',\n",
       " 'y',\n",
       " 'ain',\n",
       " 'aren',\n",
       " \"aren't\",\n",
       " 'couldn',\n",
       " \"couldn't\",\n",
       " 'didn',\n",
       " \"didn't\",\n",
       " 'doesn',\n",
       " \"doesn't\",\n",
       " 'hadn',\n",
       " \"hadn't\",\n",
       " 'hasn',\n",
       " \"hasn't\",\n",
       " 'haven',\n",
       " \"haven't\",\n",
       " 'isn',\n",
       " \"isn't\",\n",
       " 'ma',\n",
       " 'mightn',\n",
       " \"mightn't\",\n",
       " 'mustn',\n",
       " \"mustn't\",\n",
       " 'needn',\n",
       " \"needn't\",\n",
       " 'shan',\n",
       " \"shan't\",\n",
       " 'shouldn',\n",
       " \"shouldn't\",\n",
       " 'wasn',\n",
       " \"wasn't\",\n",
       " 'weren',\n",
       " \"weren't\",\n",
       " 'won',\n",
       " \"won't\",\n",
       " 'wouldn',\n",
       " \"wouldn't\"]"
      ]
     },
     "execution_count": 16,
     "metadata": {},
     "output_type": "execute_result"
    }
   ],
   "source": [
    "stopwords_lst"
   ]
  },
  {
   "cell_type": "code",
   "execution_count": 17,
   "id": "feb99e5e-fe25-42f2-85a0-7e2d1a4c8f2f",
   "metadata": {},
   "outputs": [],
   "source": [
    "vector = CountVectorizer(\n",
    "    max_df=max_df,\n",
    "    max_features=max_features,\n",
    "    stop_words=stopwords_lst\n",
    ")\n",
    "\n",
    "# https://scikit-learn.org/stable/modules/generated/sklearn.feature_extraction.text.CountVectorizer.html\n",
    "    # \"Convert a collection of text documents to a matrix of token counts.\"\n",
    "\n",
    "# https://www.geeksforgeeks.com/using-countrvectorizer-to-extracting-features-from-text/\n",
    "    # It is used to transform a given text into a vector on the basis of the frequency (count) of each word that occurs in the entire text.\n",
    "    # This is helpful when we have multiple such texts, and we wish to convert each word in each text into vectors (for using in further text analysis)."
   ]
  },
  {
   "cell_type": "code",
   "execution_count": 18,
   "id": "6c42cb90-8ade-472a-8f41-d652b75a9107",
   "metadata": {},
   "outputs": [
    {
     "data": {
      "text/html": [
       "<style>#sk-container-id-1 {color: black;background-color: white;}#sk-container-id-1 pre{padding: 0;}#sk-container-id-1 div.sk-toggleable {background-color: white;}#sk-container-id-1 label.sk-toggleable__label {cursor: pointer;display: block;width: 100%;margin-bottom: 0;padding: 0.3em;box-sizing: border-box;text-align: center;}#sk-container-id-1 label.sk-toggleable__label-arrow:before {content: \"▸\";float: left;margin-right: 0.25em;color: #696969;}#sk-container-id-1 label.sk-toggleable__label-arrow:hover:before {color: black;}#sk-container-id-1 div.sk-estimator:hover label.sk-toggleable__label-arrow:before {color: black;}#sk-container-id-1 div.sk-toggleable__content {max-height: 0;max-width: 0;overflow: hidden;text-align: left;background-color: #f0f8ff;}#sk-container-id-1 div.sk-toggleable__content pre {margin: 0.2em;color: black;border-radius: 0.25em;background-color: #f0f8ff;}#sk-container-id-1 input.sk-toggleable__control:checked~div.sk-toggleable__content {max-height: 200px;max-width: 100%;overflow: auto;}#sk-container-id-1 input.sk-toggleable__control:checked~label.sk-toggleable__label-arrow:before {content: \"▾\";}#sk-container-id-1 div.sk-estimator input.sk-toggleable__control:checked~label.sk-toggleable__label {background-color: #d4ebff;}#sk-container-id-1 div.sk-label input.sk-toggleable__control:checked~label.sk-toggleable__label {background-color: #d4ebff;}#sk-container-id-1 input.sk-hidden--visually {border: 0;clip: rect(1px 1px 1px 1px);clip: rect(1px, 1px, 1px, 1px);height: 1px;margin: -1px;overflow: hidden;padding: 0;position: absolute;width: 1px;}#sk-container-id-1 div.sk-estimator {font-family: monospace;background-color: #f0f8ff;border: 1px dotted black;border-radius: 0.25em;box-sizing: border-box;margin-bottom: 0.5em;}#sk-container-id-1 div.sk-estimator:hover {background-color: #d4ebff;}#sk-container-id-1 div.sk-parallel-item::after {content: \"\";width: 100%;border-bottom: 1px solid gray;flex-grow: 1;}#sk-container-id-1 div.sk-label:hover label.sk-toggleable__label {background-color: #d4ebff;}#sk-container-id-1 div.sk-serial::before {content: \"\";position: absolute;border-left: 1px solid gray;box-sizing: border-box;top: 0;bottom: 0;left: 50%;z-index: 0;}#sk-container-id-1 div.sk-serial {display: flex;flex-direction: column;align-items: center;background-color: white;padding-right: 0.2em;padding-left: 0.2em;position: relative;}#sk-container-id-1 div.sk-item {position: relative;z-index: 1;}#sk-container-id-1 div.sk-parallel {display: flex;align-items: stretch;justify-content: center;background-color: white;position: relative;}#sk-container-id-1 div.sk-item::before, #sk-container-id-1 div.sk-parallel-item::before {content: \"\";position: absolute;border-left: 1px solid gray;box-sizing: border-box;top: 0;bottom: 0;left: 50%;z-index: -1;}#sk-container-id-1 div.sk-parallel-item {display: flex;flex-direction: column;z-index: 1;position: relative;background-color: white;}#sk-container-id-1 div.sk-parallel-item:first-child::after {align-self: flex-end;width: 50%;}#sk-container-id-1 div.sk-parallel-item:last-child::after {align-self: flex-start;width: 50%;}#sk-container-id-1 div.sk-parallel-item:only-child::after {width: 0;}#sk-container-id-1 div.sk-dashed-wrapped {border: 1px dashed gray;margin: 0 0.4em 0.5em 0.4em;box-sizing: border-box;padding-bottom: 0.4em;background-color: white;}#sk-container-id-1 div.sk-label label {font-family: monospace;font-weight: bold;display: inline-block;line-height: 1.2em;}#sk-container-id-1 div.sk-label-container {text-align: center;}#sk-container-id-1 div.sk-container {/* jupyter's `normalize.less` sets `[hidden] { display: none; }` but bootstrap.min.css set `[hidden] { display: none !important; }` so we also need the `!important` here to be able to override the default hidden behavior on the sphinx rendered scikit-learn.org. See: https://github.com/scikit-learn/scikit-learn/issues/21755 */display: inline-block !important;position: relative;}#sk-container-id-1 div.sk-text-repr-fallback {display: none;}</style><div id=\"sk-container-id-1\" class=\"sk-top-container\"><div class=\"sk-text-repr-fallback\"><pre>CountVectorizer(max_df=0.7, max_features=4096,\n",
       "                stop_words=[&#x27;i&#x27;, &#x27;me&#x27;, &#x27;my&#x27;, &#x27;myself&#x27;, &#x27;we&#x27;, &#x27;our&#x27;, &#x27;ours&#x27;,\n",
       "                            &#x27;ourselves&#x27;, &#x27;you&#x27;, &quot;you&#x27;re&quot;, &quot;you&#x27;ve&quot;, &quot;you&#x27;ll&quot;,\n",
       "                            &quot;you&#x27;d&quot;, &#x27;your&#x27;, &#x27;yours&#x27;, &#x27;yourself&#x27;, &#x27;yourselves&#x27;,\n",
       "                            &#x27;he&#x27;, &#x27;him&#x27;, &#x27;his&#x27;, &#x27;himself&#x27;, &#x27;she&#x27;, &quot;she&#x27;s&quot;,\n",
       "                            &#x27;her&#x27;, &#x27;hers&#x27;, &#x27;herself&#x27;, &#x27;it&#x27;, &quot;it&#x27;s&quot;, &#x27;its&#x27;,\n",
       "                            &#x27;itself&#x27;, ...])</pre><b>In a Jupyter environment, please rerun this cell to show the HTML representation or trust the notebook. <br />On GitHub, the HTML representation is unable to render, please try loading this page with nbviewer.org.</b></div><div class=\"sk-container\" hidden><div class=\"sk-item\"><div class=\"sk-estimator sk-toggleable\"><input class=\"sk-toggleable__control sk-hidden--visually\" id=\"sk-estimator-id-1\" type=\"checkbox\" checked><label for=\"sk-estimator-id-1\" class=\"sk-toggleable__label sk-toggleable__label-arrow\">CountVectorizer</label><div class=\"sk-toggleable__content\"><pre>CountVectorizer(max_df=0.7, max_features=4096,\n",
       "                stop_words=[&#x27;i&#x27;, &#x27;me&#x27;, &#x27;my&#x27;, &#x27;myself&#x27;, &#x27;we&#x27;, &#x27;our&#x27;, &#x27;ours&#x27;,\n",
       "                            &#x27;ourselves&#x27;, &#x27;you&#x27;, &quot;you&#x27;re&quot;, &quot;you&#x27;ve&quot;, &quot;you&#x27;ll&quot;,\n",
       "                            &quot;you&#x27;d&quot;, &#x27;your&#x27;, &#x27;yours&#x27;, &#x27;yourself&#x27;, &#x27;yourselves&#x27;,\n",
       "                            &#x27;he&#x27;, &#x27;him&#x27;, &#x27;his&#x27;, &#x27;himself&#x27;, &#x27;she&#x27;, &quot;she&#x27;s&quot;,\n",
       "                            &#x27;her&#x27;, &#x27;hers&#x27;, &#x27;herself&#x27;, &#x27;it&#x27;, &quot;it&#x27;s&quot;, &#x27;its&#x27;,\n",
       "                            &#x27;itself&#x27;, ...])</pre></div></div></div></div></div>"
      ],
      "text/plain": [
       "CountVectorizer(max_df=0.7, max_features=4096,\n",
       "                stop_words=['i', 'me', 'my', 'myself', 'we', 'our', 'ours',\n",
       "                            'ourselves', 'you', \"you're\", \"you've\", \"you'll\",\n",
       "                            \"you'd\", 'your', 'yours', 'yourself', 'yourselves',\n",
       "                            'he', 'him', 'his', 'himself', 'she', \"she's\",\n",
       "                            'her', 'hers', 'herself', 'it', \"it's\", 'its',\n",
       "                            'itself', ...])"
      ]
     },
     "execution_count": 18,
     "metadata": {},
     "output_type": "execute_result"
    }
   ],
   "source": [
    "vector"
   ]
  },
  {
   "cell_type": "code",
   "execution_count": 19,
   "id": "af01291d-9fa3-443f-8f90-8d8ddf812d63",
   "metadata": {},
   "outputs": [
    {
     "data": {
      "text/plain": [
       "sklearn.feature_extraction.text.CountVectorizer"
      ]
     },
     "execution_count": 19,
     "metadata": {},
     "output_type": "execute_result"
    }
   ],
   "source": [
    "type(vector)"
   ]
  },
  {
   "cell_type": "code",
   "execution_count": 21,
   "id": "dc94f861-6003-40e1-9d0c-0baf2b121d99",
   "metadata": {},
   "outputs": [
    {
     "data": {
      "text/plain": [
       "4096"
      ]
     },
     "execution_count": 21,
     "metadata": {},
     "output_type": "execute_result"
    }
   ],
   "source": [
    "vector.max_df\n",
    "vector.max_features\n",
    "vector.stop_words"
   ]
  },
  {
   "cell_type": "code",
   "execution_count": 22,
   "id": "ffafdc74-f60e-4248-a17a-b72c4b769fc8",
   "metadata": {},
   "outputs": [],
   "source": [
    "data_val = df[\"Sentence\"]"
   ]
  },
  {
   "cell_type": "code",
   "execution_count": 23,
   "id": "722243b1-0357-483f-8b5f-ed09ec646dab",
   "metadata": {},
   "outputs": [
    {
     "data": {
      "text/plain": [
       "0                                                       a\n",
       "1                                                     a' \n",
       "2                                                   a' --\n",
       "3                                         a' or 1 = 1; --\n",
       "4                                                       @\n",
       "                              ...                        \n",
       "4195     org/?option = com_k2  <a href = \"http://corfopym\n",
       "4196    com/?option = com_k2  <act>  <![CDATA[procMemb...\n",
       "4197                                            picsearch\n",
       "4198    com/is?-WZx-uhyLezKNiYLvAbKL3W4oh5F749nr2KUmFF...\n",
       "4199    de]]>  </email_address>   <find_account_answer...\n",
       "Name: Sentence, Length: 4200, dtype: object"
      ]
     },
     "execution_count": 23,
     "metadata": {},
     "output_type": "execute_result"
    }
   ],
   "source": [
    "data_val"
   ]
  },
  {
   "cell_type": "code",
   "execution_count": 24,
   "id": "d90ff508-3b67-4e04-92e0-97491e9738da",
   "metadata": {},
   "outputs": [
    {
     "data": {
      "text/plain": [
       "30          ' or username is not NULL or username  =  '\n",
       "31    1 and ascii ( lower ( substring  (  (  select ...\n",
       "32    1 union all select 1,2,3,4,5,6,name from sysob...\n",
       "33                    1 uni/**/on select all from where\n",
       "34                                        ’ or ‘1’ = ’1\n",
       "35                                        ' or '1' = '1\n",
       "36    '||utl_http.request ( 'httP://192.168.1.1/' ) ||'\n",
       "37    ' || myappadmin.adduser ( 'admin', 'newpass' )...\n",
       "38    ' AND 1 = utl_inaddr.get_host_address  (  (  S...\n",
       "39    ' AND 1 = utl_inaddr.get_host_address  (  (  S...\n",
       "Name: Sentence, dtype: object"
      ]
     },
     "execution_count": 24,
     "metadata": {},
     "output_type": "execute_result"
    }
   ],
   "source": [
    "data_val[30:40]"
   ]
  },
  {
   "cell_type": "code",
   "execution_count": 25,
   "id": "037c6a91-05b9-4548-98f3-abf4abec44c4",
   "metadata": {},
   "outputs": [
    {
     "data": {
      "text/plain": [
       "100                                         ' or 1 = 1--\n",
       "101                                         \" or 1 = 1--\n",
       "102                                        ' or 1 = 1 /*\n",
       "103                                           or 1 = 1--\n",
       "104                                        ' or 'a' = 'a\n",
       "105                                        \" or \"a\" = \"a\n",
       "106                                  ' )  or  ( 'a' = 'a\n",
       "107                                          admin' or '\n",
       "108          ' select * from information_schema.tables--\n",
       "109     )  union select * from information_schema.tab...\n",
       "110                                     ' having 1 = 1--\n",
       "111                                     ' having 1 = 1--\n",
       "112                     ' group by userid having 1 = 1--\n",
       "113    ' select name from syscolumns where id  =   ( ...\n",
       "114                   ' or 1 in  ( select @@version ) --\n",
       "115                       ' union all select @@version--\n",
       "116                         ' or 'unusual'  =  'unusual'\n",
       "117                  ' or 'something'  =  'some'+'thing'\n",
       "118                              ' or 'text'  =  n'text'\n",
       "119                        ' or 'something' like 'some%'\n",
       "120                                           ' or 2 > 1\n",
       "121                                    ' or 'text' > 't'\n",
       "122                  ' or 'whatever' in  ( 'whatever' ) \n",
       "123                               ' or 2 between 1 and 3\n",
       "124                     ' or username like char ( 37 ) ;\n",
       "125    ' union select * from users where login  =  ch...\n",
       "126                                      ' union select \n",
       "127                                    password:*/ = 1--\n",
       "128                                 uni/**/on sel/**/ect\n",
       "129       '; execute immediate 'sel' || 'ect us' || 'er'\n",
       "130                '; exec  ( 'sel' + 'ect us' + 'er' ) \n",
       "131                             '/**/or/**/1/**/ = /**/1\n",
       "132                                             ' or 1/*\n",
       "133                                or isNULL ( 1/0 )  /*\n",
       "134                                  ' or '7659' = '7659\n",
       "135                              \" or isNULL ( 1/0 )  /*\n",
       "136                                    ' -- &password = \n",
       "137    '; begin declare @var varchar ( 8000 )  set @v...\n",
       "138             @var select @var as var into temp end --\n",
       "139              ' and 1 in  ( select var from temp ) --\n",
       "140    ' union select 1,load_file ( '/etc/passwd' ) ,...\n",
       "141    1; ( load_file ( char ( 47,101,116,99,47,112,9...\n",
       "142    ' and 1 =  (  if  (  (  load_file ( char ( 110...\n",
       "143       '; exec master..xp_cmdshell 'ping 10.10.1.2'--\n",
       "144             create user name identified by 'pass123'\n",
       "145    create user name identified by pass123 tempora...\n",
       "146                               ' ; drop table temp --\n",
       "147                 exec sp_addlogin 'name' , 'password'\n",
       "148         exec sp_addsrvrolemember 'name' , 'sysadmin'\n",
       "149    insert into mysql.user  ( user, host, password...\n",
       "Name: Sentence, dtype: object"
      ]
     },
     "execution_count": 25,
     "metadata": {},
     "output_type": "execute_result"
    }
   ],
   "source": [
    "data_val[100:150]"
   ]
  },
  {
   "cell_type": "code",
   "execution_count": 26,
   "id": "7bf11c55-cc0e-4d34-8f46-64423ab71934",
   "metadata": {},
   "outputs": [],
   "source": [
    "data_val2 = df[\"Sentence\"].values"
   ]
  },
  {
   "cell_type": "code",
   "execution_count": 27,
   "id": "d2e8323e-a7d5-4905-80cc-d57ba7ad00b3",
   "metadata": {},
   "outputs": [
    {
     "data": {
      "text/plain": [
       "array(['a', \"a' \", \"a' --\", ..., 'picsearch',\n",
       "       'com/is?-WZx-uhyLezKNiYLvAbKL3W4oh5F749nr2KUmFFjZOU  <email_address>  <![CDATA[elwoodbuckley@freenet',\n",
       "       'de]]>  </email_address>   <find_account_answer>  <![CDATA[fqaepqdkct]]>  </find_account_answer>   <find_account_question>  <![CDATA[6]]>  </find_account_question>   <homepage>  <![CDATA[]]>  </homepage>   <is_secret>  <![CDATA[]]>  </is_secret>   <methodCall>   <mid>  <![CDATA[qna]]>  </mid>   <module>  <![CDATA[member]]>  </module>   <nick_name>  <![CDATA[ElwoodBuckley041104]]>  </nick_name>   <params>   <password2>  <![CDATA[Yxg6dsF5iU]]>  </password2>   <password>  <![CDATA[Yxg6dsF5iU]]>  </password>   <reward_point>  <![CDATA[0]]>  </reward_point>   <title>  <![CDATA[Ways To Make Cash Online - Make Money From Home]]>  </title>   <user_id>  <![CDATA[ElwoodBuckley041104]]>  </user_id>   <user_name>  <![CDATA[ElwoodBuckley041104]]>  </user_name>   =  =   =  = 01 @7520 A3B10 A3B12C41 A3B12C411 APP AR-203 ASCd AgAHMzM3MsdfjMwMExG6Pvz1i3DhGd7DSt5Ve9Qu/n91BdfdEB5EbdeO/M5lphLOo5yOn/ZyS1jabRmzu2WUHoScLEwJjaDz2yHm9tJWbLuELC/JM8Eix/VtyWmMO5osa8FbYZnPanAxI7Ty0n7avQytu2rEK2F+N+C390zLVThtSXL1Isk49OSEWuEAzdaRlmLUWcpx6XSDjFZ++1cgwEoAILJ9Q5NObm6nYipbGovJ6YZgiEncnT9GU6x6sgKNppX0YgXXmss+0Qi5eXWmDn30UlwjfTbmc+Ta17XLDXGm6f/hiM7f4fde+5c+Pavn9EIZXYe9K6G/GyCM7I0dzjPIsjEOwl96y+fYXoZoJcp79kLwtTy6F1dL1HAs8DSFoIrfoUs7zyFtzgMnV2K0sT68IwWkiof2eM1Xes5nbDzmHOEQZ+loGLF2UBIyGcz4cSCtdZhrJXt7TxSIzeHKYpCgtVhNo4zJDlHo7zpUnR+8dSlUsdf18e08zs4iGMRK43bhv6oGA6dUw/dX+exrGTL+NMOThQUQvFdYNsc+AFGWo3PqLFhjQ9s3RzK5krr6II3e2vKhs36q7NgNgaIlQNiqNo8cNbE8iVUxZcHhvxaOStpiUN+N9KY4sZ51Ole8offosPb1NqXs3575SXU+1dEpaggUrUJqKjeUM4Hu90KoHmbL2+/zt6Bk+GCnk2WBKJENscEetfLBCBzBGXPlKC7/G5W4k8Gviynn4qCUoD9FvagtKTTF4MaA5rZtrKRabUae++259WRUZ3VEHfzjpXLaogS9DoeVHDebAClkkuAdU6F6fa2wFIM58 =  AgAHMzM3MjMwMJnS2WotX5wisoSRNiccx9VSfDnC/TFaDo/9wddE55SqhLOo5yOn/ZyS1jabRmzu2WUHoScLEwJjDz2yHsm9tJWa4Oyj22HdAIrJSshxe0KmKTxD4lBsReQqG6IN3ULz8oaEwMT7lKcx4Ukfep1IwCe7xHXlsW2gCFxdZmh731jKLuFDn/9rcY4AkdgqajLoHmVnLk3uBcTxbQS8XWJJk8++VnGu9toYSualxl0CgjSRgl01ddYqiaVYQOBShAcHCdfbHmbDZIPrPowSVFUAGpYsVDx3fVEdDa8NKRAPMI3wAlq40FqZDdhNXNr70OL9ZRzS82kWdHP8w2hd1KcIheAxDSw4a5FLAjzSWrdjcOvUfJQO5QT/90J19i2IWnuTNIdTzOcf3uVy23sHyWmsBEWHyaSsKDm7dfOPPwHIWamQKkdcm5KoWp/FgoIR09S0cn/BZzLOsdcFSbhYOxA =  =  B_qna B_solution Bn2GepSdoAsdfe4V4a1@V$K@Bn2GepSdoAe4V4a1@23V$K@PlVEBnTVHAYa01hH@V$K@eTZyMZ0F3YBl4Ozr@V$K@Bn2GepSdoAe4V4a1@V$K@xJ8t+K+x1e6/nqCp@V$a1K@PLnd8fSYoXD3QL3s Board00001 C CYsdfSL7J/aXGaV/30TU412JWfjHA =  =  Cont Content-Disposi Content-Disposition: form- Content-Disposition: form-data; name = \"app\" Content-Disposition: form-data; name = \"cd_loan_type\" Content-Disposition: form-data; name = \"id_finance\" Content-Disposition: form-data; name = \"mode\" Content-Disposition: form-data; name = \"no\" Content-Disposition: form-data; name = \"no_goods\" Content-Disposition: form-data; name = \"path\" Content-Disposition: form-data; name = \"pnm\" Content-Disposition: form-data; name = \"return_page\" Content-Disposition: form-data; name = \"type\" D2 D3 DC-3000 DF Del E EA F1 F4 F5 F6 FG123P8HQ+vasd0pVzD2O+YlD+v1V2g =  =  FmsdfVDvlXqIVetUIzs@V$K@Vj+fqZ6TuN123pq1X2w@V$K@dqRLntgax88tXGB3@V$K@R43SsinxoXFCKjAy FmVDvlXqIVetUIzs@V$K@n5aESvV0q4Se1iBn8@Vasd$K@M5IvfWDvvs5y1TnouS@V$K@Vj+fqZ6TuNpq1X2w@V$K@fuvKbfOrsGKtsDsdf7l@V$K@ZtgfO1WcVPD67KFos@V$K@dqRLntgax88tXGB3 Free Fun Hf6DNiDdq1xzaB3bdDT@V$512K@MRn61gAqhi0iae213dd@V$K@Hf6DNisdfDxzaB3bdDT@V$K@rSTgzjcYIY7Iirl+@V$K@iTI/NtJsfFTdH8ah@V$K@Hf6DNiDxzaB3bdDT@V$K@EdodGNxPNEYWbWcs JVwH/8xSq6ezJPYt@V$s23K@vPr4I41U8oeym0BEi+@V$K@3WPcTx1mJ5sBdACl@V$K@3WPcTx1mJ5sBdACl@V$K@QpmadUUMPKv2tSJP@V$K@JVwH/8xSq6ezasdfJPYt@V$K@vPr4IU8oeym0BEi+ L-840 360ml 트리거 L-840 450 트리거 L5VSRxv4dfoDXwH+hZ@V$K@T0NO9ASwF7J4gKAh@V$K@VWvmclMqqannOAJf@V$K@ERQVjx2OGeE0Mxdf@V$K@VicBva15FL1xm0WH@Va123$K@T0NO9ASwF7J4gKAh@V$K@VicBva15FL1xm0WH PSC-1 NPP Purchase omnicef without prescri QJt5lWbasdftpJ3yciKW@V$K@Hf6DNi123Dxz1aB3bdDT@V$K@iTI/NtJsfFaTdH8vah@V$K@MRn61gAqhi0iaedd QNA_7 R RandD S SF-1013 SR-600 School TC-100 TP1 TracyJat TzwvXJPEcaaOZ9DhJ0@V$K@6DPV+YkQBHbJYSMo@V$Kw@fykXPjdnQQrXTvasdfSr@V$K@c1LOcyiCkFas+XHzbo@V$K@LIHG/+VLgv8RRGR01123@V$K@TzwvXJPEcOZ9DhJ0@V$K@uiGFBm0312rIUaiuBxk UWxvAe743xrPY10JM@V$K@rojWCf7y+OXORcBK@V$Kv@0AIa2oYla5Nt1ckw3@V$K@GMPMso40NCSoArEA V V0hYD71LOy24uhiN4N@3V$K@L5VSRxv4oDXwH+hZ@Vsdf$K@znwrm3vjnUyJBkle@V$K@OuJAnfBzCHbLSge1 VISITVIEW WJyyJ+94QQ2bZbMjn@V$K@kyzIU123+92FxfeBsdfaTn@V$K@3GcBPScFJ6QQEw12gn@V$K@kyzIU+92FsdxfeBaTn@V$K@kNefOsew6E+LZCD51r@V$K@WJyyJ+94Q4asdfkQbZbMjn@V123$K@WJyyJ+94QQbZbMjn WlDxZ/Xl9Gqymv123SWnoZdkHQ =  =  WnuIfx55kZ XQg12SK2QaeLWOadsfsa124yeMxePT1Pg =  =  Y Y&check_name Y,Y,Y,Y,Y,Y,Y,Y,Y,Y,Y,Y Y29k123ZT1mcmVlJnNlYXJjaasdvFa9pdGVtPSZzZWFyY2hfb3JkZXI9JnVuc2luZ2NvZGUxPTEyNTc3NTU2OTEkljoimdW5zasadfW5nY29kZTI9MTI1Nzc1NTc4123OCZ1asdfbnNpbmdjb232Rl41Mz0mY2F0ZT0mcHdkPQ =  = || Y29kZTasdf1xbmEmc2VcwehcmNoX2l0ZW09JnNlYXJjaF9vcmRlcasdj0mdW5zaW5nY29kZTE9MTIc131Nzc1NTY5MSZ1bnNpbmdjb2RlMj0xMjU3NzU1NzczJnVuc2412sasdfqluZ2NvasdfpwZGUzPSZjYXRlPSZwd2Q9|| YM YYkswPo6JL4ZZMkx@V$K@JnrdZp35dfasbHSPasldfp1123x571@V$K@7QbUi7a/9aCtxupAas;ldf@V$K@7QbUi7a/9aCtxupA@V$Ks;dlfsalkl;k@jW4BJJFvS0sJfNr9@V$K@YYkswPo6JL4ZZMkx@V$asdlkfjK@cM7J0WfRkiELyEje YcrJWg5O Yfrhmym9asdfkHyKybz9y@V$K@7asdlfksaldfXRKgdViFaBwTq7N@V$K@Yfrhmym9HyasldfkpoKybz9y@V$K@ZIKXXH1fCD3qlt7L add again_loan_Mobile agree_10_1 agree_20_1 agree_20_2 agree_30_1 agree_30_2 agree_30_3 agree_30_4 agree_40_1 agree_40_2 and1 ap14 application apply2 checkPwd'],\n",
       "      dtype=object)"
      ]
     },
     "execution_count": 27,
     "metadata": {},
     "output_type": "execute_result"
    }
   ],
   "source": [
    "data_val2"
   ]
  },
  {
   "cell_type": "code",
   "execution_count": 28,
   "id": "004ef477-d351-454e-a003-ba0fffbb3f57",
   "metadata": {},
   "outputs": [
    {
     "data": {
      "text/plain": [
       "4200"
      ]
     },
     "execution_count": 28,
     "metadata": {},
     "output_type": "execute_result"
    }
   ],
   "source": [
    "len(data_val2)"
   ]
  },
  {
   "cell_type": "code",
   "execution_count": 29,
   "id": "c3294203-7fea-4c1d-a7d9-65fc1fbbeb1f",
   "metadata": {},
   "outputs": [],
   "source": [
    "data_lbl = df[\"Label\"]"
   ]
  },
  {
   "cell_type": "code",
   "execution_count": 30,
   "id": "9e921fd0-5ca3-4895-9df7-7bd46b045b1a",
   "metadata": {},
   "outputs": [
    {
     "data": {
      "text/plain": [
       "0       1\n",
       "1       1\n",
       "2       1\n",
       "3       1\n",
       "4       1\n",
       "       ..\n",
       "4195    0\n",
       "4196    0\n",
       "4197    0\n",
       "4198    0\n",
       "4199    0\n",
       "Name: Label, Length: 4200, dtype: int64"
      ]
     },
     "execution_count": 30,
     "metadata": {},
     "output_type": "execute_result"
    }
   ],
   "source": [
    "data_lbl"
   ]
  },
  {
   "cell_type": "code",
   "execution_count": 32,
   "id": "a5aeefbe-047d-4f43-97dc-84565194e974",
   "metadata": {},
   "outputs": [
    {
     "data": {
      "text/plain": [
       "30    1\n",
       "31    1\n",
       "32    1\n",
       "33    1\n",
       "34    1\n",
       "35    1\n",
       "36    1\n",
       "37    1\n",
       "38    1\n",
       "39    1\n",
       "Name: Label, dtype: int64"
      ]
     },
     "execution_count": 32,
     "metadata": {},
     "output_type": "execute_result"
    }
   ],
   "source": [
    "data_lbl[30:40]"
   ]
  },
  {
   "cell_type": "code",
   "execution_count": 33,
   "id": "55bc1a6e-166b-4140-9669-0ca3ef0ecbba",
   "metadata": {},
   "outputs": [
    {
     "data": {
      "text/plain": [
       "100    1\n",
       "101    1\n",
       "102    1\n",
       "103    1\n",
       "104    1\n",
       "105    1\n",
       "106    1\n",
       "107    1\n",
       "108    1\n",
       "109    1\n",
       "110    1\n",
       "111    1\n",
       "112    1\n",
       "113    1\n",
       "114    1\n",
       "115    1\n",
       "116    1\n",
       "117    1\n",
       "118    1\n",
       "119    1\n",
       "120    1\n",
       "121    1\n",
       "122    1\n",
       "123    1\n",
       "124    1\n",
       "125    1\n",
       "126    1\n",
       "127    1\n",
       "128    1\n",
       "129    1\n",
       "130    1\n",
       "131    1\n",
       "132    1\n",
       "133    1\n",
       "134    1\n",
       "135    1\n",
       "136    1\n",
       "137    1\n",
       "138    1\n",
       "139    1\n",
       "140    1\n",
       "141    1\n",
       "142    1\n",
       "143    1\n",
       "144    1\n",
       "145    1\n",
       "146    1\n",
       "147    1\n",
       "148    1\n",
       "149    1\n",
       "Name: Label, dtype: int64"
      ]
     },
     "execution_count": 33,
     "metadata": {},
     "output_type": "execute_result"
    }
   ],
   "source": [
    "data_lbl[100:150]"
   ]
  },
  {
   "cell_type": "code",
   "execution_count": 34,
   "id": "a238ce5d-6e0b-4bf0-9a67-7884eab0ae56",
   "metadata": {},
   "outputs": [],
   "source": [
    "data_lbl2 = df[\"Label\"].values"
   ]
  },
  {
   "cell_type": "code",
   "execution_count": 35,
   "id": "8ac6c1ad-99f4-48d0-986e-37152104ae5f",
   "metadata": {},
   "outputs": [
    {
     "data": {
      "text/plain": [
       "array([1, 1, 1, ..., 0, 0, 0])"
      ]
     },
     "execution_count": 35,
     "metadata": {},
     "output_type": "execute_result"
    }
   ],
   "source": [
    "data_lbl2"
   ]
  },
  {
   "cell_type": "code",
   "execution_count": 36,
   "id": "013bb661-6e23-4f68-959d-64a954b25934",
   "metadata": {},
   "outputs": [
    {
     "data": {
      "text/plain": [
       "4200"
      ]
     },
     "execution_count": 36,
     "metadata": {},
     "output_type": "execute_result"
    }
   ],
   "source": [
    "len(data_lbl2)"
   ]
  },
  {
   "cell_type": "code",
   "execution_count": 37,
   "id": "f8f60708-f8ff-4d76-91f9-4a37ce8df1a8",
   "metadata": {},
   "outputs": [],
   "source": [
    "n_sent = vector.fit_transform(df[\"Sentence\"].values.astype(\"U\")).toarray()\n",
    "\n",
    "# fit_transform : Fit to data, then transform it.\n",
    "    # https://scikit-learn.org/stable/modules/generated/sklearn.preprocessing.StandardScaler.html#sklearn.preprocessing.StandardScaler.fit_transform"
   ]
  },
  {
   "cell_type": "code",
   "execution_count": 38,
   "id": "f7beb039-8b61-4442-b7b7-85a2781122af",
   "metadata": {},
   "outputs": [
    {
     "data": {
      "text/plain": [
       "array([[0, 0, 0, ..., 0, 0, 0],\n",
       "       [0, 0, 0, ..., 0, 0, 0],\n",
       "       [0, 0, 0, ..., 0, 0, 0],\n",
       "       ...,\n",
       "       [0, 0, 0, ..., 0, 0, 0],\n",
       "       [0, 0, 0, ..., 0, 0, 0],\n",
       "       [0, 0, 1, ..., 0, 0, 2]])"
      ]
     },
     "execution_count": 38,
     "metadata": {},
     "output_type": "execute_result"
    }
   ],
   "source": [
    "n_sent"
   ]
  },
  {
   "cell_type": "code",
   "execution_count": 39,
   "id": "cd8587db-650d-4b7a-bebf-7c155a7b61cd",
   "metadata": {},
   "outputs": [
    {
     "data": {
      "text/plain": [
       "4200"
      ]
     },
     "execution_count": 39,
     "metadata": {},
     "output_type": "execute_result"
    }
   ],
   "source": [
    "len(n_sent)"
   ]
  },
  {
   "cell_type": "code",
   "execution_count": 40,
   "id": "722ced3f-d1bc-44a3-bba1-e3adf0cfeea4",
   "metadata": {},
   "outputs": [
    {
     "name": "stdout",
     "output_type": "stream",
     "text": [
      "Sentences:  {'union': 3829, 'userid': 3866, 'null': 2491, 'email': 1248, 'anything': 309, 'select': 3271, 'count': 966, 'tabname': 3633, 'members': 2308, 'full_name': 1501, 'like': 2126, 'bob': 537, '23': 55, 'exec': 1320, 'master': 2265, 'xp_cmdshell': 4061, 'ping': 2695, '172': 26, '10': 4, '255': 59, 'user_name': 3865, 'dbo': 1053, 'desc': 1103, 'users': 3868, 'username': 3867, 'lower': 2191, 'substring': 3573, 'top': 3729, 'name': 2436, 'sysobjects': 3625, 'xtype': 4063, '116': 17, 'uni': 3828, 'utl_http': 3875, 'request': 3039, 'http': 1740, 'admin': 184, 'utl_inaddr': 3876, 'get_host_address': 1534, 'banner': 448, 'version': 3908, 'rownum': 3144, 'sys': 3624, 'login_user': 2163, 'dual': 1194, 'instance': 1858, 'distinct': 1157, 'all_users': 240, 'password': 2631, 'user': 3863, 'table_name': 3629, 'all_tables': 239, 'column_name': 799, 'all_tab_columns': 238, 'granted_role': 1571, 'dba_role_privs': 1052, 'grantee': 1572, 'limit': 2129, 'loginuser': 2164, 'bin': 511, '15': 22, 'hex': 1674, 'char': 714, '45': 87, 'isnull': 1916, '7659': 107, 'information_schema': 1830, 'tables': 3630, 'group': 1586, 'id': 1760, 'unusual': 3845, 'something': 3432, 'thing': 3694, 'text': 3684, 'whatever': 3986, '37': 75, 'login': 2162, '111': 14, 'sel': 3270, 'ect': 1217, 'execute': 1321, 'immediate': 1777, 'us': 3859, 'er': 1283, 'begin': 476, 'declare': 1074, 'var': 3888, 'varchar': 3889, '8000': 114, 'set': 3305, 'temp': 3668, 'end': 1263, 'load_file': 2153, 'etc': 1294, 'passwd': 2630, '47': 90, '101': 8, '99': 130, '112': 15, '115': 16, '100': 5, '110': 13, '46': 89, '120': 19, '39': 77, 'create': 984, 'identified': 1765, 'pass123': 2623, 'drop': 1191, 'table': 3628, 'insert': 1849, 'host': 1722, 'values': 3886, 'grant': 1569, 'level': 2108, '0x65': 3, '25': 57, 'waitfor': 3943, 'delay': 1084, '24': 56, 'sa': 3162, 'serverproperty': 3298, 'isintegratedsecurityonly': 1913, '11': 12, '1a': 31, 'true': 3784, '81dc9bdb52d04dc20036dbd8313ed055': 115, 'sqlvuln': 3495, 'nvarchar': 2495, '4000': 81, '22': 54, 'hi': 1676, 'variable': 3890, 'print': 2818, 'procedure': 2830, 'order': 2547, 'asc': 363, 'delete': 1085, 'update': 3848, 'replace': 3023, 'handler': 1624, 'bfilename': 501, 'xp': 4060, 'sp': 3453, 'xp_regread': 4062, 'nslookup': 2488, 'www': 4057, 'google': 1561, 'com': 800, 'sp_password': 3454, 'x27union': 4058, 'exists': 1331, '27': 61, 'sleep': 3395, '50': 92, '4039': 82, '41': 84, '40select': 83, 'apos': 312, 'sqlattempt1': 3493, 'sqlattempt2': 3494, '7c': 110, '2a': 64, 'mail': 2209, '28': 62, '3d': 78, '29': 63, '26': 60, '21': 53, 'benchmark': 491, '10000000': 6, 'md5': 2284, '__time__': 131, 'pg_sleep': 2679, '200': 33, '17': 25, 'nan': 2439, 'add': 174, 'extra': 1358, 'man': 2229, 'star': 3514, 'soul': 3444, 'render': 3014, 'honest': 1709, 'perfect': 2661, 'light': 2123, 'nothing': 2480, 'falls': 1381, 'early': 1203, 'late': 2055, 'acts': 171, 'angels': 283, 'good': 1558, 'ill': 1769, 'shadows': 3318, 'walk': 3947, 'still': 3536, 'cast': 674, 'wolf': 4026, 'fox': 1479, 'power': 2773, 'speed': 3472, 'hands': 1626, 'feet': 1409, 'read': 2959, 'day': 1050, 'verses': 3907, 'written': 4053, 'original': 2555, 'conventional': 931, 'always': 262, 'hears': 1653, 'lines': 2134, 'let': 2105, 'subject': 3568, 'may': 2280, 'sentiment': 3288, 'instil': 1862, 'value': 3884, 'thought': 3701, 'contain': 909, 'believe': 483, 'private': 2823, 'heart': 1654, 'men': 2313, 'genius': 1525, 'speak': 3462, 'conviction': 935, 'shall': 3320, 'universal': 3834, 'sense': 3281, 'due': 1196, 'time': 3714, 'becomes': 469, 'first': 1442, 'rendered': 3015, 'back': 427, 'last': 2053, 'judgment': 1969, 'familiar': 1383, 'voice': 3933, 'mind': 2354, 'highest': 1680, 'milton': 2353, 'books': 546, 'spoke': 3481, 'learn': 2081, 'watch': 3962, 'across': 159, 'within': 4021, 'yet': 4074, 'without': 4022, 'notice': 2481, 'every': 1306, 'work': 4034, 'rejected': 2998, 'thoughts': 3702, 'come': 802, 'certain': 698, 'majesty': 2216, 'great': 1576, 'works': 4039, 'art': 361, 'lesson': 2104, 'spontaneous': 3485, 'impression': 1791, 'whole': 3992, 'cry': 1012, 'voices': 3935, 'side': 3351, 'else': 1246, 'morrow': 2401, 'say': 3191, 'precisely': 2784, 'forced': 1463, 'take': 3637, 'shame': 3321, 'opinion': 2540, 'another': 299, 'education': 1223, 'arrives': 358, 'suicide': 3584, 'must': 2431, 'better': 499, 'worse': 4044, 'portion': 2752, 'though': 3700, 'wide': 3995, 'universe': 3835, 'full': 1500, 'corn': 943, 'plot': 2727, 'ground': 1584, 'given': 1541, 'new': 2464, 'nature': 2445, 'none': 2475, 'knows': 2023, 'know': 2019, 'tried': 3779, 'one': 2525, 'face': 1367, 'character': 715, 'fact': 1373, 'makes': 2222, 'much': 2420, 'memory': 2312, 'eye': 1361, 'placed': 2701, 'ray': 2952, 'fall': 1379, 'might': 2342, 'particular': 2614, 'half': 1616, 'express': 1349, 'ashamed': 365, 'idea': 1761, 'represents': 3036, 'safely': 3167, 'issues': 1921, 'god': 1553, 'made': 2205, 'manifest': 2240, 'cowards': 981, 'gay': 1517, 'put': 2910, 'done': 1174, 'best': 498, 'said': 3170, 'otherwise': 2559, 'give': 1540, 'peace': 2653, 'deliver': 1088, 'attempt': 396, 'hope': 1710, 'trust': 3786, 'accept': 143, 'place': 2700, 'found': 1475, 'society': 3417, 'contemporaries': 912, 'connection': 884, 'events': 1304, 'age': 214, 'absolutely': 140, 'seated': 3238, 'working': 4038, 'invalids': 1894, 'protected': 2870, 'corner': 945, 'effort': 1228, 'advancing': 191, 'dark': 1042, 'pretty': 2806, 'behaviour': 481, 'children': 735, 'even': 1301, 'divided': 1160, 'strength': 3557, 'means': 2289, 'opposed': 2542, 'purpose': 2905, 'look': 2170, 'faces': 1370, 'nobody': 2473, 'four': 1478, 'five': 1443, 'adults': 189, 'play': 2715, 'armed': 346, 'youth': 4084, 'puberty': 2889, 'manhood': 2239, 'less': 2103, 'claims': 759, 'stand': 3508, 'think': 3696, 'force': 1462, 'cannot': 644, 'next': 2468, 'room': 3131, 'sufficiently': 3581, 'clear': 763, 'seems': 3261, 'make': 2219, 'boys': 561, 'sure': 3603, 'dinner': 1140, 'would': 4047, 'lord': 2175, 'human': 1746, 'boy': 560, 'parlour': 2606, 'independent': 1820, 'looking': 2172, 'people': 2658, 'pass': 2622, 'sentences': 3287, 'merits': 2320, 'way': 3969, 'bad': 431, 'interesting': 1880, 'silly': 3364, 'never': 2462, 'consequences': 887, 'interests': 1881, 'gives': 1542, 'genuine': 1526, 'verdict': 3906, 'court': 976, 'jail': 1930, 'consciousness': 885, 'soon': 3439, 'acted': 161, 'spoken': 3482, 'person': 2670, 'watched': 3964, 'hatred': 1640, 'hundreds': 1749, 'whose': 3993, 'enter': 1274, 'account': 150, 'could': 960, 'thus': 3709, 'avoid': 419, 'observe': 2502, 'passing': 2628, 'affairs': 204, 'seen': 3262, 'necessary': 2449, 'fear': 1396, 'hear': 1650, 'solitude': 3428, 'grow': 1588, 'world': 4041, 'conspiracy': 898, 'joint': 1955, 'stock': 3537, 'company': 825, 'agree': 219, 'surrender': 3609, 'liberty': 2116, 'culture': 1018, 'virtue': 3926, 'conformity': 876, 'self': 3273, 'loves': 2189, 'creators': 989, 'names': 2438, 'customs': 1027, 'goodness': 1559, 'sacred': 3163, 'integrity': 1872, 'remember': 3011, 'answer': 300, 'quite': 2922, 'young': 4082, 'prompted': 2852, 'adviser': 197, 'old': 2522, 'church': 748, 'saying': 3192, 'live': 2146, 'friend': 1494, 'replied': 3025, 'seem': 3259, 'child': 734, 'law': 2062, 'right': 3105, 'constitution': 900, 'wrong': 4054, 'carry': 665, 'presence': 2795, 'opposition': 2544, 'easily': 1209, 'large': 2047, 'societies': 3416, 'dead': 1057, 'institutions': 1865, 'well': 3983, 'individual': 1823, 'go': 1549, 'upright': 3853, 'rude': 3148, 'truth': 3787, 'ways': 3970, 'wear': 3973, 'coat': 784, 'angry': 286, 'cause': 680, 'comes': 804, 'news': 2466, 'love': 2186, 'thy': 3710, 'wood': 4031, 'hard': 1633, 'incredible': 1816, 'black': 517, 'folk': 1451, 'miles': 2346, 'spite': 3479, 'home': 1705, 'rough': 3136, 'greeting': 1580, 'affectation': 206, 'doctrine': 1164, 'father': 1392, 'mother': 2403, 'wife': 4002, 'brother': 587, 'calls': 631, 'write': 4050, 'door': 1175, 'post': 2764, 'somewhat': 3435, 'spend': 3473, 'expect': 1334, 'show': 3343, 'seek': 3256, 'tell': 3666, 'poor': 2745, 'foolish': 1457, 'dollar': 1170, 'cent': 690, 'belong': 486, 'class': 762, 'persons': 2674, 'spiritual': 3478, 'bought': 555, 'sold': 3423, 'prison': 2821, 'need': 2452, 'popular': 2749, 'college': 794, 'building': 600, 'meeting': 2305, 'houses': 1731, 'vain': 3878, 'many': 2247, 'sometimes': 3434, 'virtues': 3927, 'estimate': 1291, 'rather': 2950, 'rule': 3150, 'called': 630, 'action': 163, 'piece': 2691, 'courage': 973, 'pay': 2650, 'fine': 1434, 'daily': 1035, 'non': 2474, 'appearance': 319, 'apology': 311, 'living': 2151, 'high': 1678, 'board': 535, 'wish': 4018, 'life': 2121, 'strain': 3551, 'equal': 1279, 'sound': 3445, 'diet': 1130, 'ask': 368, 'primary': 2816, 'evidence': 1309, 'appeal': 314, 'actions': 164, 'difference': 1132, 'whether': 3989, 'mean': 2286, 'actually': 173, 'secondary': 3243, 'concerns': 854, 'arduous': 339, 'actual': 172, 'serve': 3295, 'greatness': 1578, 'harder': 1634, 'find': 1431, 'duty': 1199, 'easy': 1211, 'midst': 2341, 'crowd': 1006, 'keeps': 1992, 'independence': 1819, 'become': 468, 'maintain': 2213, 'contribute': 926, 'bible': 504, 'vote': 3937, 'party': 2620, 'either': 1234, 'government': 1564, 'spread': 3489, 'base': 457, 'precise': 2783, 'course': 974, 'withdrawn': 4020, 'proper': 2856, 'consider': 888, 'game': 1511, 'sect': 3248, 'argument': 345, 'topic': 3730, 'beforehand': 474, 'possibly': 2763, 'word': 4032, 'grounds': 1585, 'institution': 1864, 'permitted': 2668, 'parish': 2598, 'minister': 2358, 'retained': 3078, 'attorney': 401, 'eyes': 1362, 'communities': 822, 'false': 1382, 'particulars': 2616, 'lies': 2120, 'two': 3804, 'real': 2963, 'meantime': 2291, 'slow': 3400, 'cut': 1028, 'figure': 1424, 'acquire': 158, 'experience': 1338, 'fail': 1376, 'also': 257, 'general': 1522, 'history': 1690, 'praise': 2780, 'smile': 3406, 'feel': 1406, 'ease': 1207, 'conversation': 932, 'interest': 1878, 'moved': 2410, 'low': 2190, 'therefore': 3693, 'sour': 3447, 'public': 2891, 'street': 3556, 'origin': 2554, 'resistance': 3056, 'sad': 3164, 'deep': 1077, 'wind': 4009, 'blows': 530, 'newspaper': 2467, 'senate': 3277, 'enough': 1272, 'firm': 1441, 'rage': 2931, 'vulnerable': 3941, 'added': 175, 'brute': 593, 'bottom': 554, 'needs': 2454, 'habit': 1611, 'treat': 3770, 'terror': 3678, 'consistency': 895, 'past': 2633, 'act': 160, 'others': 2558, 'data': 1044, 'computing': 848, 'loath': 2156, 'keep': 1990, 'head': 1645, 'corpse': 947, 'contradict': 925, 'stated': 3521, 'wisdom': 4017, 'alone': 253, 'pure': 2904, 'bring': 576, 'present': 2796, 'ever': 1305, 'denied': 1095, 'personality': 2672, 'yield': 4076, 'shape': 3322, 'leave': 2087, 'theory': 3692, 'joseph': 1960, 'hand': 1621, 'little': 2144, 'minds': 2355, 'simply': 3370, 'concern': 852, 'shadow': 3317, 'wall': 3948, 'words': 4033, 'misunderstood': 2370, 'luther': 2200, 'spirit': 3477, 'took': 3728, 'rounded': 3139, 'matter': 2272, 'try': 3788, 'forward': 1474, 'allows': 251, 'record': 2979, 'doubt': 1177, 'see': 3254, 'book': 545, 'window': 4010, 'straw': 3552, 'bill': 509, 'communicate': 817, 'vice': 3913, 'emit': 1253, 'breath': 573, 'moment': 2388, 'agreement': 221, 'variety': 3892, 'natural': 2444, 'hour': 1727, 'however': 1734, 'unlike': 3840, 'lost': 2181, 'sight': 3355, 'distance': 1155, 'height': 1657, 'tendency': 3671, 'ship': 3333, 'line': 2132, 'hundred': 1748, 'sufficient': 3580, 'average': 417, 'explain': 1343, 'explains': 1345, 'singly': 3377, 'already': 256, 'justify': 1979, 'appeals': 317, 'future': 1509, 'scorn': 3225, 'defend': 1080, 'appearances': 320, 'days': 1051, 'health': 1648, 'heroes': 1671, 'field': 1418, 'train': 3758, 'victories': 3916, 'behind': 482, 'shed': 3327, 'united': 3832, 'actor': 170, 'attended': 399, 'washington': 3960, 'port': 2751, 'america': 267, 'ancient': 276, 'homage': 1704, 'shown': 3346, 'heard': 1651, 'ridiculous': 3101, 'instead': 1861, 'coming': 805, 'house': 1729, 'please': 2721, 'kind': 2009, 'smooth': 3411, 'times': 3715, 'trade': 3750, 'office': 2514, 'responsible': 3066, 'wherever': 3988, 'belongs': 488, 'centre': 693, 'things': 3695, 'measures': 2296, 'body': 539, 'takes': 3639, 'creation': 988, 'circumstances': 751, 'country': 970, 'requires': 3046, 'fully': 1502, 'design': 1105, 'follow': 1452, 'steps': 3535, 'clients': 766, 'born': 549, 'ages': 217, 'roman': 3129, 'empire': 1256, 'millions': 2352, 'possible': 2762, 'standard': 3509, 'automatic': 413, 'speech': 3470, 'output': 2564, 'streams': 3555, 'neither': 2457, 'perform': 2663, 'segmentation': 3264, 'predict': 2786, 'punctuation': 2898, 'symbols': 3620, 'unavailable': 3814, 'punctuations': 2899, 'sentence': 3285, 'transcribed': 3761, 'texts': 3685, 'barriers': 455, 'subsequent': 3571, 'processing': 2834, 'tasks': 3653, 'information': 1829, 'question': 2918, 'machine': 2203, 'translation': 3763, 'long': 2168, 'applications': 326, 'example': 1313, 'segmented': 3266, 'fed': 1402, 'systems': 3627, 'et': 1293, 'al': 232, '2009': 43, 'current': 1022, 'mt': 2418, 'various': 3893, 'models': 2380, 'used': 3862, 'trained': 3759, 'algorithms': 235, 'inside': 1850, 'complexity': 840, 'regard': 2989, 'length': 2102, 'inputs': 1846, 'prediction': 2788, 'problem': 2828, 'attracted': 402, 'research': 3049, 'community': 823, 'language': 2045, 'previous': 2811, 'primarily': 2815, 'exploits': 1346, 'local': 2157, 'features': 1399, 'prosodic': 2868, 'cues': 1016, 'hidden': 1677, 'event': 1303, 'model': 2379, 'liu': 2145, '2005': 39, 'matusov': 2276, '2006': 40, 'huang': 1741, 'zweig': 4094, '2002': 36, 'views': 3922, 'input': 1845, 'achieve': 153, 'satisfied': 3184, 'performance': 2664, 'limited': 2131, 'context': 916, 'access': 144, 'favre': 1394, '2008': 42, 'global': 1545, 'contexts': 917, 'required': 3043, 'especially': 1287, 'range': 2943, 'dependencies': 1098, 'english': 1269, 'mark': 2253, 'initial': 1834, 'lu': 2195, '2010': 44, 'trying': 3789, 'incorporate': 1811, 'syntactic': 3621, 'view': 3921, 'roark': 3119, 'methods': 2329, 'separated': 3290, 'parsing': 2608, 'suffer': 3577, 'error': 1284, 'addition': 178, 'approaches': 331, 'able': 136, 'process': 2833, 'cases': 672, 'number': 2492, 'larger': 2049, 'thousands': 3703, 'paper': 2590, 'propose': 2862, 'jointly': 1956, 'transition': 3762, 'based': 458, 'dependency': 1099, 'stream': 3554, 'left': 2093, 'shift': 3331, 'reduce': 2984, 'predicted': 2787, 'tree': 3773, 'proposed': 2863, 'conduct': 865, 'followed': 1453, 'predictions': 2789, 'associate': 385, 'directly': 1143, 'linear': 2133, 'handling': 1625, 'use': 3861, 'rich': 3098, 'improve': 1794, 'shows': 3347, 'helps': 1666, 'adverbial': 193, 'period': 2667, 'menu': 2317, 'modifier': 2383, 'completed': 836, 'determined': 1118, 'direct': 1141, 'together': 3721, 'segmentations': 3265, 'formed': 1470, 'according': 149, 'results': 3076, 'training': 3760, 'keeping': 1991, 'search': 3233, 'get': 1533, 'test': 3680, 'sets': 3306, 'method': 2327, 'higher': 1679, 'section': 3249, 'survey': 3611, 'related': 2999, 'introduced': 1892, 'approach': 330, 'conclusion': 858, 'boundary': 556, 'studied': 3563, 'task': 3651, '2001': 35, 'integrate': 1871, 'pitch': 2698, 'grams': 1568, 'uses': 3869, 'maximum': 2279, 'focus': 1450, 'state': 3520, 'layer': 2069, 'conditional': 863, 'random': 2942, 'fields': 1419, 'available': 416, 'inaccessible': 1797, 'log': 2161, 'framework': 1480, 'type': 3805, 'achieved': 154, 'chinese': 737, 'knowledge': 2021, 'including': 1809, 'parser': 2607, 'scores': 3224, 'performed': 2665, 'step': 3533, 'built': 602, 'advance': 190, 'complex': 839, 'short': 3339, 'limitations': 2130, 'numerous': 2493, 'graph': 1573, 'compared': 826, 'offer': 2511, 'leverage': 2110, '2003': 37, 'nivre': 2472, 'zhang': 4089, 'starting': 3518, '2011': 45, 'extend': 1352, 'pos': 2754, '2012': 46, 'improvements': 1796, 'reported': 3027, 'pipeline': 2697, 'although': 260, 'different': 1134, 'former': 1471, 'usually': 3874, 'single': 3376, 'latter': 2058, 'quality': 2913, 'sensitive': 3282, 'entire': 1276, 'orlando': 2557, 'bloom': 527, 'miranda': 2364, 'kerr': 1997, 'want': 3951, 'separate': 3289, 'interview': 1891, 'parents': 2596, 'year': 4069, 'flynn': 1449, 'announced': 293, 'journalist': 1961, 'katie': 1988, 'friday': 1492, 'quot': 2923, 'exactly': 1311, 'plan': 2703, 'emphasised': 1255, '36': 73, 'going': 1554, 'support': 3599, 'married': 2259, 'since': 3371, 'son': 3436, 'jet': 1940, 'makers': 2221, 'seat': 3236, 'width': 4000, 'big': 506, 'orders': 2549, 'row': 3143, 'leading': 2077, 'plane': 2704, 'tourist': 3737, 'seats': 3240, 'confrontation': 877, 'month': 2396, 'dubai': 1195, 'dispute': 1153, 'provided': 2878, 'haul': 1641, 'economy': 1216, 'passengers': 2627, 'ones': 2526, 'airlines': 229, 'space': 3456, 'holds': 1698, 'key': 1999, 'efficiency': 1227, 'latest': 2057, 'jets': 1941, 'airbus': 225, 'boeing': 540, 'co': 779, 'week': 3977, 'industry': 1826, 'provide': 2877, 'least': 2086, '18': 27, 'inches': 1804, 'cabins': 623, 'arch': 336, 'rival': 3114, 'says': 3194, 'decide': 1069, 'sell': 3274, 'twin': 3802, 'aircraft': 226, 'potentially': 2770, 'expected': 1336, 'november': 2485, 'laid': 2037, 'particularly': 2615, 'seating': 3239, 'abreast': 137, 'central': 692, 'economic': 1214, 'jumbo': 1973, '777x': 109, 'hold': 1695, 'competing': 830, 'inch': 1803, 'often': 2520, 'technical': 3661, 'matters': 2273, 'advertising': 194, 'press': 2804, 'appealing': 316, 'ahead': 222, 'recently': 2973, 'start': 3516, 'war': 3954, 'showing': 3345, 'slide': 3397, 'three': 3706, 'restaurant': 3069, 'flying': 1448, 'regional': 2992, 'sales': 3173, 'chief': 733, 'john': 1951, 'change': 709, 'bigger': 507, 'changed': 710, '1970s': 29, 'defined': 1082, 'modern': 2381, 'travel': 3767, 'turn': 3795, 'century': 695, 'weight': 3981, 'american': 268, '40': 80, '49': 91, 'male': 2225, 'increased': 1813, 'per': 2659, 'department': 1096, 'concept': 851, 'newly': 2465, 'commissioned': 812, '53': 97, 'disputes': 1154, 'figures': 1425, 'measurements': 2295, 'manufacturers': 2245, 'decisions': 1073, 'balance': 439, 'facilities': 1371, 'cabin': 622, 'really': 2966, 'providing': 2882, 'allowing': 250, 'successful': 3575, 'expert': 1341, 'business': 612, 'anyone': 308, 'increasingly': 1815, 'issue': 1919, 'affect': 205, 'earnings': 1205, 'race': 2926, '700': 105, 'billion': 510, 'estimated': 1292, 'list': 2138, 'prices': 2814, 'decades': 1067, 'tip': 3716, 'scales': 3196, 'european': 1299, 'reuters': 3083, 'july': 1972, 'layout': 2070, 'drives': 1189, 'battle': 461, '20': 32, 'market': 2255, 'leader': 2074, '365': 74, '777': 108, 'part': 2609, 'unit': 3831, 'costs': 956, 'reason': 2967, 'competitive': 832, 'products': 2838, 'passenger': 2626, 'europe': 1298, 'analysts': 275, 'existing': 1330, 'voting': 3940, 'cheaper': 727, 'point': 2730, 'proposal': 2860, 'driven': 1186, 'threat': 3704, 'founder': 1477, 'editor': 1222, 'girl': 1538, 'network': 2459, 'supply': 3598, 'choose': 740, 'sellers': 3275, 'tape': 3648, 'check': 728, 'layouts': 2071, 'cost': 954, 'offers': 2513, 'offering': 2512, 'wider': 3999, 'maker': 2220, 'experts': 1342, 'call': 629, 'unlikely': 3841, 'wave': 3967, 'faa': 1366, 'restrictions': 3072, 'electronic': 1243, 'gadgets': 1510, 'airplanes': 230, 'chatting': 725, 'prohibited': 2846, 'warplanes': 3958, 'attack': 393, 'store': 3546, 'russian': 3160, 'missiles': 2367, 'city': 756, 'latakia': 2054, 'official': 2517, 'israel': 1917, 'campaign': 637, 'arms': 347, 'federal': 1403, 'blocks': 524, 'judge': 1967, 'ruling': 3153, 'nypd': 2496, 'controversial': 930, 'tactic': 3634, 'minorities': 2362, 'nearly': 2448, 'african': 212, 'hoping': 1714, 'die': 1127, 'trucks': 3783, 'break': 568, 'middle': 2339, 'violence': 3925, '14': 21, 'seven': 3307, 'chance': 707, 'sign': 3356, 'growing': 1589, 'shutdown': 3350, 'investors': 1905, 'kept': 1996, 'probably': 2825, 'california': 628, 'woman': 4028, 'plans': 2712, 'challenge': 703, 'internet': 1888, 'connected': 882, 'easier': 1208, 'police': 2734, 'video': 3919, 'mayor': 2281, 'smoking': 3410, 'pipe': 2696, 'close': 771, 'allies': 244, 'angle': 285, 'held': 1658, 'vatican': 3897, 'wants': 3953, 'catholic': 677, 'parishes': 2599, 'around': 351, 'handle': 1623, 'seriously': 3294, 'injured': 1840, 'following': 1454, 'collision': 796, 'afternoon': 213, 'car': 649, 'drivers': 1188, '44': 86, 'rural': 3156, 'road': 3117, 'completely': 837, 'blocked': 523, 'immediately': 1778, 'initially': 1835, 'comment': 806, 'accident': 146, 'mention': 2315, 'witness': 4023, 'statements': 3523, 'assessed': 377, '19': 28, 'female': 1413, 'driver': 1187, 'golf': 1556, 'driving': 1190, 'direction': 1142, '38': 76, 'came': 633, 'towards': 3741, 'vehicles': 3902, 'collided': 795, 'whereby': 3987, 'stuck': 3561, 'fire': 1437, 'service': 3301, 'almost': 252, 'free': 1485, 'vehicle': 3901, 'remained': 3009, 'unclear': 3816, 'parties': 2617, 'taken': 3638, 'nearby': 2447, 'hospitals': 1721, 'hours': 1728, 'crews': 992, 'rescue': 3048, 'puppy': 2901, 'got': 1562, '50ft': 94, 'precarious': 2782, 'ledge': 2091, 'quarry': 2915, 'cocker': 786, 'spaniel': 3458, 'ruby': 3147, 'run': 3154, 'minor': 2361, 'crash': 982, 'spotted': 3488, 'later': 2056, 'dog': 1168, 'firefighters': 1439, 'cliff': 767, 'death': 1063, 'lucky': 2196, 'lift': 2122, 'safety': 3168, 'nine': 2471, 'involved': 1908, 'sunday': 3592, 'wednesday': 3976, 'owners': 2577, 'scott': 3228, 'hall': 1617, 'west': 3985, 'yorkshire': 4081, 'thanked': 3688, 'searched': 3234, 'posted': 2766, 'social': 3415, 'networking': 2460, 'sites': 3381, 'ran': 2941, 'team': 3659, 'station': 3525, 'rushed': 3158, 'scene': 3201, 'pet': 2676, 'transport': 3765, 'specialist': 3466, 'officer': 2515, 'situation': 3383, 'move': 2409, 'solid': 3427, 'peter': 2677, 'potential': 2769, 'vets': 3909, 'miss': 2366, 'amazing': 264, 'became': 465, 'exhausted': 1327, 'fallen': 1380, 'mr': 2416, 'scared': 3200, 'stayed': 3530, 'report': 3026, 'obama': 2498, 'considered': 892, 'dumping': 1197, 'biden': 505, 'hillary': 1684, 'clinton': 770, 'president': 2802, 'barack': 450, 'closest': 774, 'advisers': 198, 'replacing': 3024, 'joe': 1948, 'ticket': 3711, 'york': 4080, 'revelation': 3086, 'anticipated': 306, 'double': 1176, 'thursday': 3708, 'evening': 1302, 'conducted': 866, 'extensive': 1355, 'polling': 2742, 'help': 1662, 'election': 1237, 'hopes': 1713, 'national': 2442, 'political': 2737, 'correspondent': 948, 'jonathan': 1958, 'martin': 2260, 'provides': 2881, 'thorough': 3699, 'senior': 3280, 'officials': 2519, 'white': 3991, 'staff': 3502, 'daley': 1036, 'measure': 2293, 'effect': 1225, 'secretary': 3246, 'polls': 2743, 'switch': 3619, 'closely': 772, 'guarded': 1594, 'secret': 3245, 'infrastructure': 1832, 'jim': 1944, 'david': 1049, 'knew': 2017, 'consideration': 891, 'despite': 1109, 'personal': 2671, 'ultimately': 3810, 'deciding': 1071, 'showed': 3344, 'adding': 177, 'confirmed': 874, 'administration': 185, 'told': 3722, 'holy': 1703, 'cnn': 778, 'anderson': 277, 'cooper': 937, 'significant': 3360, 'investment': 1903, 'finding': 1432, 'campaigns': 638, 'money': 2392, 'groups': 1587, 'unless': 3839, 'asked': 369, 'boss': 551, 'aware': 422, 'admitted': 187, 'reached': 2955, 'desk': 1108, 'thanks': 3689, 'mgv': 2334, 'dinker': 1139, 'friedrich': 1493, 'wilhelm': 4005, 'issued': 1920, 'anniversary': 292, 'celebration': 685, '52': 96, 'guests': 1598, 'active': 165, 'singers': 3374, 'happy': 1632, 'inn': 1843, 'enjoyed': 1271, 'friendly': 1495, 'music': 2428, 'traditionally': 3755, 'occasion': 2505, 'delighted': 1087, 'receive': 2969, 'special': 3465, 'singer': 3373, 'award': 420, 'countless': 968, 'records': 2981, 'running': 3155, 'choir': 739, 'chairman': 702, 'schlotmann': 3211, 'awards': 421, 'participation': 2613, 'presentation': 2797, 'activity': 169, 'went': 3984, 'director': 1144, 'dieter': 1131, 'schulze': 3218, 'attendance': 398, 'marks': 2258, 'horst': 1719, 'pier': 2692, 'ribbert': 3097, 'winkler': 4011, '42': 85, 'fifth': 1420, 'organising': 2552, 'gave': 1516, 'managed': 2231, 'regular': 2993, 'tuesday': 3791, 'welcome': 3982, 'nsa': 2487, 'revelations': 3087, 'corporate': 946, 'paranoia': 2592, 'surveillance': 3610, 'august': 405, 'german': 1530, 'helicopter': 1659, 'frankfurt': 1483, 'financial': 1430, 'capital': 647, 'germany': 1531, 'instruction': 1867, 'protection': 2871, 'bfv': 502, 'domestic': 1172, 'intelligence': 1873, 'agency': 215, 'mission': 2368, 'located': 2158, 'bank': 445, 'media': 2300, 'hoped': 1711, 'identify': 1766, 'listening': 2141, 'exchange': 1316, 'foreign': 1465, 'ministry': 2360, 'berlin': 497, 'james': 1932, 'insisted': 1852, 'september': 3291, 'capabilities': 645, 'secrets': 3247, 'companies': 824, 'behalf': 480, 'international': 1887, 'increase': 1812, 'edward': 1224, 'snowden': 3414, 'contractor': 924, 'turned': 3796, 'whistleblower': 3990, 'began': 475, 'governments': 1565, 'leaders': 2075, 'longer': 2169, 'reports': 3030, 'security': 3253, 'oil': 2521, 'cloud': 775, 'providers': 2880, 'yahoo': 4064, 'final': 1428, 'revealed': 3085, 'chancellor': 708, 'angela': 281, 'merkel': 2321, 'phone': 2683, 'bugged': 598, 'decade': 1066, 'powerful': 2774, 'targeted': 3650, 'collaboration': 789, 'services': 3302, 'benefit': 494, 'wake': 3945, 'small': 3402, 'medium': 2303, 'sized': 3386, 'risk': 3111, 'china': 736, 'industrial': 1825, 'espionage': 1288, 'published': 2892, 'leaked': 2080, 'date': 1045, 'passed': 2625, 'politicians': 2739, 'expressed': 1350, 'eu': 1295, 'someone': 3431, 'parliament': 2604, 'build': 599, 'shut': 3349, 'slowly': 3401, 'open': 2532, 'software': 3421, 'sap': 3180, 'wanted': 3952, 'strong': 3558, 'years': 4070, 'ago': 218, 'everything': 1308, 'coal': 781, 'cars': 667, 'reach': 2954, 'spy': 3491, 'exposed': 1348, 'shock': 3335, 'previously': 2812, 'biggest': 508, 'executives': 1325, 'stored': 3547, 'jurisdiction': 1976, 'carried': 663, 'cancelled': 640, 'provider': 2879, 'prism': 2820, 'mining': 2357, 'programme': 2844, 'executive': 1324, 'customers': 1026, 'guarantee': 1593, 'argue': 343, 'confirmation': 873, 'states': 3524, 'spying': 3492, 'surprise': 3608, 'discussion': 1150, 'chemical': 730, 'americans': 269, 'commercial': 810, 'businesses': 613, 'generally': 1523, 'case': 671, 'advantage': 192, 'message': 2322, 'leaving': 2088, 'hotel': 1726, 'member': 2307, 'practice': 2777, 'mobile': 2376, 'phones': 2684, 'collected': 792, 'meetings': 2306, 'devices': 1124, 'advises': 199, 'using': 3871, 'simple': 3369, 'prepaid': 2793, 'mobiles': 2377, 'trips': 3782, 'smart': 3404, 'compromised': 845, 'thrown': 3707, 'away': 423, 'remain': 3007, 'hacking': 1613, 'lack': 2033, 'personnel': 2673, 'protect': 2869, 'effectively': 1226, 'countries': 969, 'february': 1401, 'named': 2437, 'france': 1481, 'alongside': 255, 'russia': 3159, 'second': 3242, 'blue': 531, 'french': 1489, 'worst': 4045, 'internal': 1886, 'quoted': 2924, 'perfectly': 2662, 'operate': 2534, 'fight': 1421, 'gechingen': 1519, 'absolute': 139, 'involve': 1907, 'residents': 3055, 'planning': 2711, 'stage': 3503, 'jens': 1938, 'häußler': 1755, 'opening': 2533, 'citizen': 754, 'regarding': 2990, 'flood': 1446, '80': 112, 'participants': 2610, 'planned': 2709, 'explained': 1344, 'submit': 3569, 'ideas': 1763, 'town': 3743, 'council': 962, 'commented': 807, 'raising': 2938, 'river': 3115, 'study': 3565, 'forms': 1472, 'basis': 459, 'goal': 1550, 'developed': 1121, 'land': 2040, 'weather': 3974, 'form': 1467, 'allowance': 248, 'referred': 2985, 'hq': 1736, '100aklima': 7, 'water': 3965, 'caused': 681, 'considerable': 889, 'damage': 1037, 'equivalent': 1282, '000': 1, 'million': 2351, 'invested': 1895, '70': 104, 'indicated': 1822, 'funding': 1506, 'overall': 2568, 'develop': 1120, 'reliant': 3006, 'cooperation': 939, 'citizens': 755, 'approval': 333, 'implementation': 1783, 'among': 272, 'presented': 2798, 'stammheim': 3506, 'valley': 3882, 'conjunction': 881, 'opportunity': 2541, 'raised': 2937, 'detention': 1117, 'location': 2159, 'wald': 3946, 'und': 3818, 'corbe': 941, 'furthermore': 1508, 'solution': 3429, 'joachim': 1945, 'repeatedly': 3021, 'result': 3073, 'canal': 639, 'normal': 2476, 'known': 2022, 'administrative': 186, 'guidelines': 1601, 'package': 2579, '325': 69, 'tasmania': 3654, 'ailing': 223, 'system': 3626, 'tough': 3734, 'conditions': 864, 'ensure': 1273, 'waste': 3961, 'funds': 1507, 'plibersek': 2726, 'commonwealth': 816, 'taking': 3640, 'urgent': 3857, 'crisis': 998, 'island': 1915, 'population': 2750, 'rates': 2949, 'decided': 1070, 'mp': 2415, 'andrew': 279, 'wilkie': 4006, 'emergency': 1252, 'address': 180, 'faced': 1369, 'ms': 2417, 'today': 3719, 'includes': 1808, '31': 67, 'elective': 1239, 'surgery': 3607, 'additional': 179, 'operations': 2537, 'backlog': 430, 'clinics': 769, 'hospital': 1720, 'care': 656, 'medical': 2302, 'investments': 1904, 'respond': 3061, 'front': 1498, 'tend': 3670, 'reporting': 3029, 'levels': 2109, 'cash': 673, 'spending': 3474, 'commission': 811, 'reform': 2986, 'sustainable': 3616, 'nevertheless': 2463, 'praised': 2781, 'responding': 3063, 'assistance': 384, 'prime': 2817, 'beginning': 477, 'hopeful': 1712, 'critical': 1000, 'procedures': 2831, 'largely': 2048, 'reverse': 3089, 'recent': 2972, 'cuts': 1029, 'spokesman': 3483, 'believes': 485, 'announcement': 294, 'band': 443, 'labor': 2031, 'tv': 3800, 'dollars': 1171, '300': 66, 'spent': 3475, 'mozambique': 2414, 'statue': 3527, 'gathered': 1515, 'maputo': 2248, 'rare': 2947, 'stability': 3500, 'de': 1056, 'shirt': 3334, 'demand': 1091, 'joined': 1954, 'crowds': 1007, 'square': 3497, 'weeks': 3979, 'clashes': 761, 'forces': 1464, 'renamo': 3013, 'skirmishes': 3391, 'deal': 1059, 'movement': 2411, 'backed': 428, 'ruled': 3151, 'south': 3450, 'africa': 211, 'efforts': 1229, '1992': 30, 'blown': 529, 'conflict': 875, 'stakes': 3504, 'fast': 1390, 'discovery': 1147, 'huge': 1744, 'gas': 1513, 'reserves': 3051, 'rio': 3108, 'vale': 3879, 'brazil': 566, 'italy': 1924, 'frelimo': 1488, 'blame': 520, 'initiated': 1836, 'sofala': 3419, 'province': 2883, 'october': 2509, 'rebels': 2968, 'attempted': 397, 'kill': 2003, 'dhlakama': 1125, 'mazanga': 2283, 'soldiers': 3424, 'guebuza': 1595, 'sought': 3443, 'instability': 1856, 'saw': 3189, 'remains': 3010, 'prove': 2874, 'impose': 1788, 'grown': 1590, 'meant': 2290, 'respected': 3060, 'vision': 3929, 'negotiations': 2455, 'talks': 3645, 'series': 3292, 'heads': 1647, 'university': 3837, 'prepared': 2794, 'concessions': 856, 'pushing': 2909, 'electoral': 1240, 'reforms': 2987, 'municipal': 2422, 'elections': 1238, 'presidential': 2803, 'parliamentary': 2605, 'scheduled': 3206, 'interpreted': 1889, 'win': 4008, 'share': 3323, 'term': 3675, 'destroy': 1110, 'democracy': 1093, 'capacity': 646, 'hit': 1691, 'attacks': 395, 'stations': 3526, 'north': 2478, 'highway': 1683, 'several': 3308, 'kilometres': 2007, 'hosts': 1724, 'export': 1347, 'june': 1974, 'suspended': 3615, 'railway': 2934, 'concerned': 853, 'corruption': 950, 'pace': 2578, 'development': 1122, 'problems': 2829, 'roads': 3118, 'schools': 3214, 'urged': 3856, 'maths': 2271, 'grammar': 1567, 'literature': 2143, 'courses': 975, 'require': 3042, 'pupils': 2900, 'novel': 2484, 'contemporary': 913, 'british': 581, 'feature': 1398, 'encourage': 1262, 'reading': 2961, 'combined': 801, '2015': 49, 'release': 3003, 'tomorrow': 3724, 'undergo': 3819, 'radical': 2929, 'overhaul': 2569, 'changes': 711, 'core': 942, 'regulator': 2995, 'speaking': 3464, 'summer': 3589, 'michael': 2336, 'restore': 3071, 'confidence': 871, 'challenging': 704, 'ambitious': 266, 'studies': 3564, 'comparison': 827, 'australian': 408, 'singapore': 3372, 'formal': 1468, 'requirement': 3044, 'coalition': 782, 'sources': 3449, 'league': 2079, 'likely': 2127, 'greater': 1577, '2014': 48, 'geisingen': 1520, 'celebrations': 686, 'documented': 1165, 'closer': 773, 'eight': 1233, 'upon': 3851, 'kirchen': 2012, 'hausen': 1644, 'deed': 1076, 'towns': 3744, 'mentioned': 2316, 'march': 2249, 'officially': 2518, 'launched': 2060, 'currently': 1023, 'suitable': 3587, 'launch': 2059, '250': 58, 'celebrate': 683, 'celebratory': 687, 'weekend': 3978, 'ceremony': 697, 'saturday': 3185, 'festival': 1415, 'musical': 2429, 'composed': 842, '91': 124, 'forest': 1466, 'association': 387, '93': 125, 'mid': 2338, '12': 18, 'arena': 342, 'accompanied': 147, '13': 20, 'december': 1068, 'concert': 855, 'venue': 3905, 'chronicle': 747, 'merely': 2319, 'consists': 897, 'leipferdingen': 2099, 'gutmadingen': 1606, 'celebrating': 684, 'birthday': 516, 'region': 2991, 'fool': 1456, 'guild': 1602, 'begins': 478, 'traditional': 3754, '60': 100, '90': 122, 'district': 1158, 'nursing': 2494, 'school': 3213, '150': 23, 'possession': 2759, 'st': 3499, 'drawn': 1180, 'choosing': 741, 'supreme': 3602, 'major': 2217, 'victory': 3918, 'constitutional': 901, 'justices': 1978, 'patient': 2640, 'affordable': 209, 'mandate': 2236, 'buy': 614, 'insurance': 1870, 'penalty': 2655, 'justice': 1977, 'sided': 3352, 'liberal': 2115, 'thomas': 3698, 'sections': 3250, 'page': 2580, 'medicaid': 2301, 'lose': 2177, 'suit': 3586, 'block': 522, 'brought': 589, 'republican': 3038, 'season': 3235, 'mitt': 2371, 'romney': 3130, 'flight': 1445, 'trend': 3775, 'upgraded': 3850, 'profit': 2842, 'australia': 407, 'kingdom': 2011, 'underlying': 3821, 'tax': 3656, 'guidance': 1599, 'represent': 3031, 'growth': 1591, 'managing': 2235, 'turner': 3797, 'started': 3517, 'uk': 3808, 'track': 3745, 'typically': 3806, 'largest': 2050, 'leisure': 2100, 'slightly': 3398, 'weaker': 3971, 'similarly': 3367, 'losses': 2180, 'third': 3697, 'shares': 3325, 'yesterday': 4073, 'jerusalem': 1939, 'syrian': 3623, 'wished': 4019, 'anonymous': 298, 'statement': 3522, 'broadcaster': 582, 'israeli': 1918, 'planes': 2706, 'target': 3649, 'equipment': 1280, 'feared': 1397, 'intended': 1874, 'lebanese': 2089, 'hezbollah': 1675, 'fired': 1438, 'night': 2470, 'television': 3665, 'channel': 712, 'satellite': 3181, 'images': 1776, 'defence': 1079, '35': 72, 'kilograms': 2006, 'believed': 484, 'spokesperson': 3484, 'ben': 490, 'writing': 4052, 'air': 224, 'warned': 3956, 'syria': 3622, 'dangerous': 1041, 'weapons': 3972, 'crossing': 1003, 'red': 2983, 'military': 2347, 'response': 3064, 'buried': 609, 'pension': 2657, 'stolen': 3538, 'elderly': 1235, 'died': 1128, 'wolfsburg': 4027, 'continued': 920, 'collect': 791, 'investigations': 1900, '67': 103, 'resident': 3053, 'continue': 919, 'covered': 979, 'charges': 720, 'near': 2446, 'drew': 1183, 'investigators': 1902, 'travelled': 3768, 'investigate': 1896, 'discovered': 1146, 'residence': 3052, 'finally': 1429, 'acknowledged': 156, 'autopsy': 414, 'fundamental': 1505, 'helping': 1665, 'scandal': 3197, 'green': 1579, 'hans': 1628, 'christian': 744, 'ströbele': 3560, 'addressed': 181, 'employee': 1258, 'investigation': 1899, 'committee': 813, 'legal': 2095, 'unknown': 3838, 'attackers': 394, 'injure': 1839, 'shots': 3341, 'saxony': 3190, 'firing': 1440, 'assailants': 374, 'gun': 1604, 'suffered': 3578, 'injury': 1842, 'workers': 4037, 'six': 3384, 'suddenly': 3576, 'stopped': 3543, 'witnesses': 4024, 'sitting': 3382, 'bus': 611, 'stop': 3542, 'criminal': 996, 'investigating': 1898, 'hoarding': 1692, 'bechtle': 466, 'painted': 2582, 'schweizer': 3220, 'wiese': 4001, 'initiative': 1837, 'spa': 3455, 'widened': 3997, 'footpath': 1461, 'covering': 980, 'premises': 2792, 'manages': 2234, 'site': 3380, 'project': 2847, 'favour': 1393, 'buildings': 601, 'danger': 1040, 'ruins': 3149, 'construction': 902, 'execution': 1323, 'questions': 2919, 'scale': 3195, 'continues': 921, 'stall': 3505, 'answers': 301, 'impact': 1781, 'outcome': 2561, 'appear': 318, 'donated': 1173, 'happiness': 1631, 'camels': 634, 'manage': 2230, 'henne': 1668, 'described': 1104, 'tenth': 3674, 'organisation': 2550, 'impressive': 1792, 'depth': 1100, '2004': 38, 'mauritania': 2277, 'important': 1786, 'journeys': 1964, 'insight': 1851, 'initiatives': 1838, 'border': 548, 'rainer': 2935, 'nagold': 2435, 'suggestion': 3582, 'assume': 388, 'advisory': 200, 'role': 3127, 'baiersbronn': 437, 'charge': 718, 'doctor': 1162, 'doctors': 1163, 'sit': 3379, 'topics': 3731, 'materials': 2270, 'sent': 3284, 'material': 2269, 'plenty': 2725, 'colour': 798, 'telling': 3667, 'mercedes': 2318, 'sharing': 3326, 'experiences': 1340, 'musicians': 2430, 'area': 340, 'budget': 596, 'far': 1389, 'scientists': 3223, 'movements': 2412, 'tail': 3635, 'linked': 2136, 'earlier': 1202, 'dogs': 1169, 'tails': 3636, 'fellow': 1412, 'canines': 643, 'spot': 3487, 'differences': 1133, 'prof': 2839, 'vallortigara': 3883, 'humans': 1747, 'brain': 562, 'differently': 1135, 'positive': 2758, 'emotions': 1254, 'species': 3467, 'handed': 1622, 'played': 2716, 'researchers': 3050, 'monitored': 2394, 'animals': 288, 'measured': 2294, 'understand': 3822, 'rid': 3099, 'predominantly': 2790, 'picked': 2689, 'looked': 2171, 'anxious': 307, 'communicating': 819, 'learned': 2082, 'moves': 2413, 'worried': 4043, 'frequently': 1490, 'associated': 386, 'producing': 2835, 'findings': 1433, 'animal': 287, 'visiting': 3931, 'bristol': 579, 'science': 3222, 'examine': 1312, 'becoming': 470, 'italian': 1923, 'responded': 3062, 'sides': 3353, 'detail': 1113, 'hammered': 1620, 'recorded': 2980, 'usa': 3860, 'position': 2755, 'accused': 152, 'proceedings': 2832, 'psaki': 2885, 'politician': 2738, 'appealed': 315, 'prosecution': 2866, 'comments': 808, 'bird': 513, 'sea': 3232, 'rig': 3104, 'released': 3004, 'wild': 4004, 'rail': 2933, 'scottish': 3229, 'manager': 2233, 'winter': 4015, 'northern': 2479, 'caught': 679, 'refuge': 2988, 'unable': 3813, 'contacted': 908, 'königsfeld': 2029, 'main': 2211, 'autumn': 415, 'eleven': 1244, 'exercise': 1326, 'kammerer': 1985, 'circuit': 750, 'occurred': 2508, 'resulting': 3075, 'smoke': 3407, 'fighters': 1422, 'equipped': 1281, 'inspection': 1853, 'workshop': 4040, 'horses': 1717, 'secure': 3252, 'quantities': 2914, 'machines': 2204, 'surface': 3604, 'metres': 2331, 'satisfaction': 3182, 'rivers': 3116, 'dr': 1178, 'georges': 1528, 'bwelle': 618, 'bringing': 577, 'villages': 3924, 'cameroon': 635, 'seeing': 3255, 'patients': 2641, 'device': 1123, '2013': 47, 'hero': 1670, 'yaounde': 4066, 'broken': 584, 'creating': 987, 'rest': 3067, 'getting': 1536, 'treatment': 3771, 'lot': 2182, 'waiting': 3944, 'organization': 2553, 'afford': 208, 'poverty': 2772, 'quarters': 2917, 'enjoy': 1270, 'volunteers': 3936, 'surgeries': 3606, 'surgeon': 3605, 'ascovime': 364, 'areas': 341, 'helped': 1663, '32': 68, '30': 65, 'supplies': 3597, 'visit': 3930, 'push': 2907, 'arrive': 356, 'singing': 3375, 'truly': 3785, 'energy': 1266, 'join': 1953, 'fun': 1503, 'morning': 2400, 'receiving': 2971, '500': 93, 'trip': 3780, 'village': 3923, 'foot': 1458, 'sexually': 3314, 'pair': 2583, 'birth': 515, 'families': 1384, 'lighting': 2124, 'operating': 2535, 'motivated': 2404, 'tired': 3717, 'mix': 2372, 'received': 2970, 'allow': 245, 'family': 1385, 'holding': 1697, 'job': 1946, 'sleeps': 3396, 'malley': 2227, 'student': 3562, 'missions': 2369, 'arriving': 359, 'transportation': 3766, 'desire': 1107, 'lives': 2150, 'brings': 578, 'joy': 1965, 'sees': 3263, 'website': 3975, 'teams': 3660, 'champion': 706, 'club': 776, 'tennis': 3673, 'tournament': 3738, 'maier': 2208, 'bronner': 585, 'match': 2267, 'division': 1161, 'rohrdorf': 3125, 'sports': 3486, 'fans': 1387, 'clubs': 777, 'playing': 2719, 'matches': 2268, 'points': 2732, 'minutes': 2363, 'anja': 289, 'schlichter': 3210, 'carmen': 660, 'müller': 2434, 'crucial': 1009, 'phase': 2681, 'andre': 278, 'matthias': 2274, 'klippel': 2016, 'sadmin': 3165, 'sg': 3316, 'meaning': 2287, 'games': 1512, 'pleasure': 2723, 'presenting': 2799, 'cup': 1019, 'leg': 2094, 'partnership': 2618, 'sun': 3591, 'coffee': 787, 'cake': 626, 'exceptional': 1315, 'production': 2837, 'heavier': 1656, 'story': 3549, 'film': 1427, 'slips': 3399, 'risks': 3112, 'making': 2223, 'hair': 1615, 'audiences': 404, 'samsung': 3176, 'huawei': 1742, 'nortel': 2477, 'patents': 2638, 'filed': 1426, 'patent': 2637, 'cell': 688, 'rockstar': 3123, 'ltd': 2194, 'htc': 1739, 'infringement': 1833, 'owned': 2575, 'apple': 323, 'microsoft': 2337, 'cover': 977, 'technology': 3662, 'terms': 3677, 'relevant': 3005, 'lawsuit': 2065, 'representatives': 3033, '900': 123, 'losing': 2178, 'seeking': 3258, 'damages': 1038, 'sooner': 3440, 'hispanic': 1687, 'girls': 1539, 'counterparts': 967, 'physical': 2688, 'hormones': 1715, 'chemicals': 731, 'toward': 3740, 'pronounced': 2854, 'daughter': 1047, 'breast': 571, 'pubic': 2890, 'annual': 297, 'conference': 868, 'endocrinologist': 1265, 'paul': 2644, 'kaplowitz': 1987, 'common': 815, 'signal': 3357, 'signs': 3361, 'breasts': 572, 'appearing': 322, 'menarche': 2314, '75': 106, 'author': 409, 'essential': 1289, 'guide': 1600, 'debate': 1064, 'onset': 2529, 'precocious': 2785, 'monitor': 2393, 'warrant': 3959, 'tests': 3683, 'serious': 3293, 'lead': 2073, 'adult': 188, 'drug': 1192, 'rate': 2948, 'aspects': 372, 'acknowledges': 157, 'daughters': 1048, 'talked': 3643, 'friends': 1496, 'lots': 2183, 'milk': 2348, 'environment': 1277, 'sexual': 3312, 'messages': 2323, 'links': 2137, 'fat': 1391, 'varying': 3895, 'patterns': 2643, 'influenced': 1828, 'younger': 4083, 'careful': 658, 'talk': 3642, 'advised': 196, 'calm': 632, 'happens': 1630, 'schedule': 3205, 'issuing': 1922, 'involving': 1910, 'asylum': 390, 'prosecutor': 2867, 'meet': 2304, 'interfax': 1882, 'representative': 3032, 'discuss': 1148, 'cocaine': 785, 'lawyer': 2066, 'jailed': 1931, 'ditta': 1159, 'feed': 1405, 'crime': 994, 'scarbrough': 3199, 'solicitor': 3425, 'addiction': 176, 'liverpool': 2149, 'crown': 1008, 'drugs': 1193, 'inquiries': 1847, 'trafficking': 3757, 'activities': 168, 'criminals': 997, 'arrested': 353, 'operation': 2536, 'scarborough': 3198, 'represented': 3034, 'trial': 3776, 'officers': 2516, 'bags': 435, 'blackburn': 518, 'lancashire': 2039, 'colleagues': 790, 'wallet': 3949, 'credit': 990, 'cards': 655, 'january': 1934, 'arrests': 354, 'suspects': 3614, 'heroin': 1672, 'seized': 3269, 'worth': 4046, 'along': 254, 'solicitors': 3426, 'guilty': 1603, 'counts': 971, 'hearing': 1652, 'contact': 907, 'detectives': 1116, 'suspect': 3612, 'bins': 512, 'football': 1460, 'stadium': 3501, 'park': 2600, 'returned': 3081, 'discover': 1145, 'communications': 821, 'suspected': 3613, 'dealer': 1060, 'client': 765, 'argued': 344, 'discussions': 1151, 'arrest': 352, 'sample': 3175, 'players': 2718, 'chain': 700, 'prosecuting': 2865, 'anne': 291, 'specific': 3468, 'relationship': 3001, 'talking': 3644, 'undoubtedly': 3826, 'beyond': 500, 'profession': 2840, 'allowed': 249, 'wrongdoing': 4055, 'claimed': 758, 'wait': 3942, 'lee': 2092, 'organised': 2551, 'tasked': 3652, 'standards': 3510, 'led': 2090, 'convicted': 934, 'warning': 3957, 'total': 3733, 'offences': 2510, 'session': 3304, 'representing': 3035, 'guest': 1597, 'mohammed': 2387, 'mexico': 2333, 'tunnel': 3793, 'sophisticated': 3441, 'smuggling': 3412, 'tunnels': 3794, 'complete': 835, 'ventilation': 3903, 'authorities': 410, 'warehouses': 3955, 'tijuana': 3713, 'san': 3177, 'diego': 1129, 'conceal': 849, 'loaded': 2154, 'marijuana': 2251, 'pounds': 2771, 'worked': 4035, 'charged': 719, 'imprisonment': 1793, 'vast': 3896, 'underground': 3820, 'passage': 2624, 'presents': 2800, 'cartels': 668, 'quickly': 2920, 'product': 2836, 'consumers': 906, 'yard': 4067, 'tracks': 3747, 'extended': 1353, 'kitchen': 2014, 'frontier': 1499, 'baggage': 434, 'luggage': 2199, 'charging': 721, 'bag': 433, 'soda': 3418, 'fee': 1404, 'overhead': 2571, 'paid': 2581, 'gate': 1514, 'fees': 1408, 'loyal': 2193, 'difficult': 1136, 'tickets': 3712, 'airline': 227, 'similar': 3366, 'inc': 1802, 'jay': 1935, 'sorensen': 3442, 'career': 657, 'split': 3480, 'tea': 3658, 'juice': 1970, 'briefly': 575, 'months': 2397, 'online': 2528, 'gone': 1557, 'giving': 1543, 'mileage': 2345, 'percent': 2660, 'mile': 2344, 'purchased': 2903, 'earn': 1204, 'shrinking': 3348, 'revenue': 3088, 'quarter': 2916, 'parent': 2593, 'republic': 3037, 'selling': 3276, 'super': 3595, 'measuring': 2297, 'electricity': 1242, 'detained': 1115, 'details': 1114, 'dig': 1137, 'radar': 2928, 'southern': 3451, 'laura': 2061, 'mexican': 2332, 'ongoing': 2527, 'killed': 2004, 'ladder': 2034, 'assist': 383, 'illegal': 1770, 'immigration': 1779, 'smaller': 3403, 'routes': 3141, 'squad': 3496, 'ten': 3669, 'lovers': 2188, 'victorious': 3917, 'athletes': 391, 'rally': 2940, 'achim': 155, '94': 126, 'competition': 831, 'rover': 3142, 'interior': 1885, 'racing': 2927, 'options': 2546, 'include': 1806, 'bowler': 557, 'storage': 3545, 'experienced': 1339, 'path': 2639, 'overseas': 2573, 'option': 2545, 'compete': 829, 'east': 1210, 'comedy': 803, 'standup': 3513, 'served': 3296, 'palace': 2584, 'theatre': 3690, 'manner': 2242, 'created': 985, 'hirsch': 1685, 'carolines': 662, 'appeared': 321, 'success': 3574, 'continuing': 922, 'featuring': 1400, 'bruce': 591, 'roger': 3124, 'expanded': 1333, 'participating': 2612, 'kroll': 2026, 'rose': 3132, 'cable': 624, 'jenny': 1937, 'slate': 3394, 'parks': 2603, 'anthony': 302, 'kamau': 1984, 'steinberg': 3532, 'larry': 2051, '2007': 41, 'hosted': 1723, 'center': 691, 'manhattan': 2238, 'definitely': 1083, 'thai': 3686, 'sentenced': 3286, 'phuket': 2687, 'granted': 1570, 'bail': 438, 'bamford': 441, 'assault': 376, 'footage': 1459, 'cells': 689, 'women': 4029, 'player': 2717, 'tunks': 3792, 'extremely': 1360, 'obviously': 2504, 'resort': 3059, 'thailand': 3687, 'increasing': 1814, 'murder': 2424, 'agent': 216, 'repair': 3020, 'image': 1775, 'bombardier': 542, 'deliveries': 1089, 'net': 2458, 'fewer': 1416, 'contract': 923, 'brand': 565, 'cseries': 1014, 'inaugural': 1800, 'testing': 3682, 'fell': 1411, 'doerksen': 1167, 'rating': 2951, 'sector': 3251, 'clearly': 764, 'program': 2843, 'skeptical': 3388, 'buyers': 616, 'savings': 3188, 'operators': 2539, 'beaudoin': 463, 'confident': 872, 'stay': 3529, 'happen': 1629, 'remainder': 3008, 'shortly': 3340, 'customer': 1025, 'pushed': 2908, 'ended': 1264, 'cents': 694, 'unchanged': 3815, 'marginally': 2250, 'planemaker': 2705, '83': 117, 'aerospace': 202, 'affected': 207, 'trading': 3753, 'kenyan': 1995, 'valid': 3881, 'prevent': 2808, 'kenya': 1994, 'radio': 2930, 'tribunal': 3778, 'extension': 1354, 'content': 914, 'listen': 2140, 'return': 3080, 'dealt': 1062, 'blow': 528, 'amid': 270, 'islamist': 1914, 'shopping': 3337, 'mall': 2226, 'reacted': 2956, 'journalists': 1962, 'fined': 1435, 'shillings': 3332, 'listed': 2139, 'seize': 3268, 'property': 2859, 'nation': 2441, 'lively': 2147, 'wrote': 4056, 'source': 3448, 'checks': 729, 'lawmakers': 2063, 'anger': 284, 'voted': 3938, 'ordered': 2548, 'salaries': 3171, 'london': 2167, 'decision': 1072, 'stamp': 3507, 'homes': 1707, 'costing': 955, 'individuals': 1824, 'residential': 3054, 'amp': 274, 'stood': 3541, 'scotland': 3226, 'introduction': 1893, 'anti': 303, 'legislation': 2097, 'dated': 1046, 'housing': 1732, 'price': 2813, 'belt': 489, 'uptick': 3855, 'mainz': 2215, 'bundesliga': 606, 'goals': 1552, 'julian': 1971, 'elite': 1245, 'ready': 2962, 'britain': 580, 'pledge': 2724, 'comprehensive': 844, 'poll': 2741, 'asking': 370, 'sizes': 3387, 'conclusions': 859, 'majority': 2218, 'outside': 2566, 'likes': 2128, 'india': 1821, 'policy': 2736, 'ranging': 2944, 'laws': 2064, 'control': 928, 'brussels': 592, 'benefits': 495, 'agreed': 220, 'pursue': 2906, 'treaty': 3772, 'politics': 2740, 'meaningful': 2288, 'powers': 2775, '16': 24, 'membership': 2309, 'jobs': 1947, 'renewed': 3016, 'regulatory': 2997, 'palmer': 2585, 'tony': 3727, 'abbott': 134, 'parental': 2594, 'scheme': 3207, 'pregnant': 2791, 'paying': 2651, 'carbon': 650, 'votes': 3939, 'taxes': 3657, 'ministers': 2359, 'policies': 2735, 'declared': 1075, 'winner': 4012, 'sunshine': 3594, 'computer': 846, 'studying': 3566, 'zealand': 4087, '59': 99, 'included': 1807, 'airport': 231, 'reward': 3093, 'except': 1314, 'hardly': 1635, 'emptied': 1261, 'sundays': 3593, 'noticed': 2482, 'collection': 793, 'boxes': 559, 'yellow': 4071, 'holidays': 1701, 'fdp': 1395, 'inquiry': 1848, 'ludwig': 2197, 'straße': 3553, 'hofheim': 1694, 'rosengarten': 3133, 'röhrenbeck': 3161, 'postal': 2765, 'cutting': 1030, 'supporting': 3600, 'quiet': 2921, 'unison': 3830, 'box': 558, 'communicated': 818, 'georgia': 1529, 'murdered': 2425, 'mat': 2266, 'gym': 1608, 'johnson': 1952, 'lowndes': 2192, 'county': 972, 'sheriff': 3329, 'concluded': 857, 'crump': 1011, 'moore': 2399, 'conducting': 867, 'objective': 2500, 'civil': 757, 'rights': 3106, 'twice': 3801, 'helmbrechts': 1661, 'retrieve': 3079, 'charred': 724, 'bedroom': 472, 'broke': 583, 'floor': 1447, 'arrived': 357, 'possibility': 2761, 'obstructionism': 2503, 'excuse': 1319, 'memoir': 2310, 'bed': 471, 'inspired': 1855, 'historic': 1688, 'cried': 993, 'saved': 3187, 'headed': 1646, '82': 116, 'dream': 1181, 'distant': 1156, 'indeed': 1818, 'varied': 3891, 'killing': 2005, 'laden': 2035, 'innocent': 1844, 'reveal': 3084, 'silence': 3362, 'failure': 1378, 'signed': 3359, 'supposed': 3601, 'opposing': 2543, 'excited': 1317, 'confusing': 878, 'alternative': 258, 'positions': 2757, 'returning': 3082, 'promises': 2850, 'loss': 2179, 'pennsylvania': 2656, 'needed': 2453, 'baden': 432, 'prevailing': 2807, 'malmon': 2228, 'everyone': 1307, 'winning': 4014, 'coach': 780, 'considerably': 890, 'improved': 1795, 'gutach': 1605, '33': 70, 'pedestrian': 2654, 'lights': 2125, 'traffic': 3756, 'installed': 1857, 'route': 3140, 'cyclists': 1033, 'travelling': 3769, 'importance': 1785, 'sulzbachweg': 3588, 'kirchstrasse': 2013, 'museum': 2427, 'churches': 749, 'arnold': 350, 'goods': 1560, 'accounts': 151, 'roundabout': 3138, 'prior': 2819, 'selection': 3272, 'posts': 2768, 'knocking': 2018, 'eur': 1296, 'sky': 3392, 'consume': 904, 'sensor': 3283, 'status': 3528, 'seconds': 3244, 'gets': 1535, 'barely': 453, 'sped': 3469, 'glow': 1546, 'ice': 1758, 'cream': 983, 'jellyfish': 1936, 'charlie': 723, 'francis': 1482, 'properties': 2858, 'marine': 2252, 'snack': 3413, 'convinced': 936, 'protein': 2872, 'reacts': 2958, 'tongue': 3725, 'ph': 2680, 'chris': 743, 'mouth': 2408, 'lick': 2118, 'delicious': 1086, 'raise': 2936, 'seemed': 3260, 'halloween': 1618, 'wonderful': 4030, 'expensive': 1337, 'gold': 1555, 'beer': 473, 'impossible': 1790, 'freudenstadt': 1491, 'tsv': 3790, 'stepped': 3534, 'gönningen': 1609, 'swabian': 3617, 'evident': 1310, 'cope': 940, 'positioned': 2756, 'simon': 3368, 'schenk': 3208, 'schulz': 3217, 'onto': 2530, 'stronger': 3559, 'felix': 1410, 'stefan': 3531, 'resulted': 3074, 'errors': 1285, 'moments': 2389, 'proved': 2875, 'coulson': 961, 'affair': 203, 'charles': 722, 'clarke': 760, 'edis': 1221, 'attractive': 403, 'pawlby': 2645, 'investigator': 1901, 'mulcaire': 2421, 'voicemails': 3934, 'suggests': 3583, 'notw': 2483, 'stands': 3512, 'stories': 3548, 'yes': 4072, 'interested': 1879, 'occasions': 2506, 'sister': 3378, 'projects': 2849, 'investigated': 1897, 'meanwhile': 2292, 'reporter': 3028, 'involvement': 1909, 'blunkett': 532, 'brooks': 586, '2000': 34, 'catholics': 678, 'heuberg': 1673, 'pastoral': 2634, 'gm': 1547, 'pickup': 2690, 'seatbacks': 3237, 'silverado': 3365, 'sierra': 3354, 'manual': 2243, 'auto': 412, 'regulators': 2996, 'defect': 1078, 'comply': 841, 'properly': 2857, 'roll': 3128, 'review': 3090, 'owner': 2576, 'letter': 2106, 'un': 3812, 'nations': 2443, 'millennium': 2349, 'mdgs': 2285, 'summit': 3590, 'overnight': 2572, 'ban': 442, 'rise': 3109, 'pleased': 2722, 'sdgs': 3230, 'spare': 3459, 'implement': 1782, 'realise': 2964, 'santiago': 3179, 'hemingway': 1667, 'janson': 1933, 'acting': 162, 'neck': 2450, 'chair': 701, 'attention': 400, 'pull': 2893, 'bottles': 553, 'illuminated': 1774, 'boat': 536, 'bar': 449, 'cuban': 1015, 'songs': 3438, 'beautiful': 464, 'accompany': 148, 'food': 1455, 'allergies': 243, 'suffering': 3579, 'contains': 911, 'allergic': 242, 'reaction': 2957, 'occur': 2507, 'recommends': 2976, 'updating': 3849, 'rules': 3152, 'kids': 2002, 'feels': 1407, 'basketball': 460, 'neckar': 2451, 'riesen': 3103, 'ludwigsburg': 2198, 'card': 651, 'applicant': 324, 'towers': 3742, 'application': 325, 'participate': 2611, 'pascal': 2621, 'putting': 2912, 'professional': 2841, 'licence': 2117, 'alexander': 234, 'promoted': 2851, 'documents': 1166, 'arbitration': 335, 'panel': 2587, 'authority': 411, 'universities': 3836, 'hochschwarzwald': 1693, 'factor': 1374, 'pilot': 2693, 'relatives': 3002, 'employed': 1257, 'employees': 1259, 'employment': 1260, 'skills': 3390, 'places': 2702, 'skilled': 3389, 'proximity': 2884, 'journey': 1963, 'freiburg': 1487, 'undertaken': 3824, 'illmensee': 1772, 'mountain': 2407, 'fantastic': 1388, 'lake': 2038, 'amateur': 263, 'metre': 2330, 'climb': 768, 'expectations': 1335, 'defended': 1081, 'title': 3718, 'ladies': 2036, 'podium': 2729, 'riders': 3100, 'ability': 135, 'pangerl': 2588, 'roland': 3126, 'straight': 3550, 'finish': 1436, 'standings': 3511, 'hermann': 1669, 'stuttgart': 3567, 'rbs': 2953, 'traders': 3752, 'royal': 3145, 'probe': 2826, 'manipulation': 2241, 'currency': 1021, 'banks': 447, 'ubs': 3807, 'barclays': 452, 'deutsche': 1119, 'widening': 3998, 'requests': 3041, 'emails': 1249, 'instant': 1860, 'trader': 3751, 'usher': 3870, 'jpmorgan': 1966, 'currencies': 1020, 'bankers': 446, 'swiss': 3618, 'monetary': 2391, 'allegations': 241, 'suisse': 3585, 'probes': 2827, 'instances': 1859, 'units': 3833, 'highly': 1682, 'platforms': 2714, 'contained': 910, 'hs2': 1738, 'england': 1268, 'kramer': 2025, 'keith': 1993, 'brown': 590, 'consist': 894, 'link': 2135, 'instructed': 1866, 'glasgow': 1544, 'edinburgh': 1220, 'cities': 753, 'alistair': 236, 'carmichael': 661, 'adds': 183, 'pawnbrokers': 2647, 'pawnshop': 2649, 'bendemeer': 492, 'amirthalinga': 271, 'ring': 3107, 'husband': 1752, 'income': 1810, 'insufficient': 1869, 'parts': 2619, 'asia': 366, 'household': 1730, 'debt': 1065, 'rising': 3110, 'valuemax': 3885, 'carrying': 666, 'pawning': 2648, 'jewellery': 1942, 'cheap': 726, 'loans': 2155, 'branch': 564, 'requiring': 3047, 'proof': 2855, 'turning': 3798, 'consumer': 905, 'loose': 2174, 'economies': 1215, 'pawn': 2646, 'shops': 3338, 'cited': 752, 'mainly': 2212, 'asian': 367, 'malaysia': 2224, 'emerged': 1251, 'softening': 3420, 'song': 3437, 'historically': 1689, 'rush': 3157, 'items': 1925, 'outlets': 2563, 'looks': 2173, 'operator': 2538, 'expand': 1332, 'yeah': 4068, 'fund': 1504, 'listing': 2142, 'lenders': 2101, 'assets': 378, 'bars': 456, 'purchase': 2902, 'ventures': 3904, 'ham': 1619, 'bonndorf': 544, 'established': 1290, 'legs': 2098, 'factory': 1375, 'schwarzwald': 3219, 'loved': 2187, 'mass': 2263, 'joints': 1957, 'meat': 2298, 'smoker': 3408, 'announcing': 296, 'perspective': 2675, 'waltraud': 3950, 'ries': 3102, 'neighbours': 2456, 'afraid': 210, 'spider': 3476, 'apartment': 310, 'psychological': 2888, 'severe': 3309, 'abroad': 138, 'shared': 3324, 'usual': 3873, 'nowadays': 2486, 'possibilities': 2760, 'appropriate': 332, 'renovation': 3018, 'ideal': 1762, 'vienna': 3920, 'outs': 2565, 'max': 2278, 'announcements': 295, 'atmosphere': 392, 'kleeman': 2015, 'departure': 1097, 'assange': 375, 'extradition': 1359, 'wikileaks': 4003, 'embassy': 1250, 'requested': 3040, 'liable': 2113, 'sex': 3311, 'serving': 3303, 'worker': 4036, '51': 95, 'external': 1357, 'heating': 1655, 'concrete': 860, 'injuries': 1841, 'salzburg': 3174, 'hackers': 1612, 'gov': 1563, 'accessible': 145, 'tonight': 3726, 'resolved': 3058, 'ddos': 1055, 'server': 3297, 'designed': 1106, 'servers': 3299, 'cyber': 1031, 'criticism': 1001, 'programs': 2845, 'incident': 1805, 'revolutionary': 3092, 'liederkranz': 2119, 'dunningen': 1198, 'franz': 1484, 'schubert': 3216, 'messe': 2324, 'rock': 3121, 'spring': 3490, '00': 0, 'johannes': 1950, 'der': 1101, 'patron': 2642, 'hirschen': 1686, 'reconstructed': 2977, 'councils': 965, 'schiltach': 3209, 'bahn': 436, 'crossings': 1004, 'municipalities': 2423, 'reconstruction': 2978, 'grießhaber': 1583, 'logs': 2165, 'oncoming': 2524, 'widen': 3996, 'critics': 1002, 'haas': 1610, 'kuhbach': 2027, 'via': 3911, 'bridge': 574, 'hauptstrasse': 1643, 'bypass': 619, 'renovated': 3017, 'councillors': 964, 'incur': 1817, 'consented': 886, 'connecting': 883, 'weg': 3980, 'responsibility': 3065, 'completion': 838, 'considers': 893, 'kuhn': 2028, 'pop': 2746, 'intersex': 1890, 'gender': 1521, 'undetermined': 3825, 'ambiguous': 265, 'genitalia': 1524, 'assigned': 380, 'unspecified': 3843, 'pressure': 2805, 'assignment': 382, 'chromosomes': 746, 'ovaries': 2567, 'unusually': 3846, 'identification': 1764, 'assign': 379, 'psychiatrist': 2887, 'jack': 1928, 'drescher': 1182, 'sounds': 3446, 'identity': 1767, 'knowing': 2020, 'mystery': 2432, 'exclusively': 1318, 'characteristics': 717, 'overview': 2574, 'bias': 503, 'crimes': 995, 'camp': 636, 'choice': 738, 'maryland': 2261, 'baby': 426, 'zone': 4092, 'parenting': 2595, 'sexuality': 3313, 'psychiatric': 2886, 'environmental': 1278, 'writer': 4051, 'satisfactory': 3183, 'removed': 3012, 'demanded': 1092, 'prevented': 2809, 'learning': 2083, 'infertile': 1827, 'advocates': 201, 'tamar': 3647, 'mattis': 2275, 'informed': 1831, 'activists': 167, 'assigning': 381, 'baratz': 451, 'androgen': 280, 'tourism': 3736, 'beneath': 493, 'cologne': 797, 'preserved': 2801, 'cathedral': 676, 'visitors': 3932, 'tours': 3739, 'tour': 3735, 'tall': 3646, 'parking': 2602, 'd2': 1034, 'archaeological': 337, 'stones': 3540, 'size': 3385, 'shaft': 3319, 'upper': 3852, 'praetorium': 2779, 'rhine': 3096, 'exhibition': 1328, 'leads': 2078, 'sewer': 3310, 'mikwe': 2343, 'ritual': 3113, 'jewish': 1943, 'congregation': 879, 'ymca': 4077, 'nsw': 2489, 'caringbah': 659, 'abuse': 141, 'hare': 1636, 'conceded': 850, 'inaccurate': 1798, 'recognised': 2974, 'management': 2232, 'failed': 1377, 'safe': 3166, 'breaches': 567, 'cultural': 1017, 'letting': 2107, 'testified': 3681, 'ceo': 696, 'uncomfortable': 3817, 'executed': 1322, 'supervision': 3596, 'philip': 2682, 'dick': 1126, 'seeker': 3257, 'extent': 1356, 'massive': 2264, 'chosen': 742, 'mixture': 2374, 'perhaps': 2666, 'realised': 2965, 'computers': 847, 'theology': 3691, 'cold': 788, 'practices': 2778, 'controls': 929, 'victims': 3915, 'creates': 986, 'fighting': 1423, 'frisk': 1497, 'judges': 1968, 'worn': 4042, 'stops': 3544, 'sometime': 3433, '330': 71, 'solve': 3430, 'implemented': 1784, 'slammed': 3393, 'boston': 552, 'addressing': 182, 'coverage': 978, 'marketplace': 2256, 'projected': 2848, 'sebelius': 3241, 'commerce': 809, 'hot': 1725, 'rep': 3019, 'mo': 2375, 'healthcare': 1649, 'burt': 610, 'los': 2176, 'angeles': 282, 'unemployment': 3827, 'untrained': 3844, 'mecklenburg': 2299, 'continually': 918, 'restaurants': 3070, 'chamber': 705, 'discussed': 1149, 'retail': 3077, 'rangnick': 2945, 'mane': 2237, 'ralf': 2939, 'grödig': 1592, 'harkam': 1637, 'schmidt': 3212, 'hütter': 1756, 'sang': 3178, 'tripodi': 3781, 'obeid': 2499, 'watchdog': 3963, 'leases': 2085, 'icac': 1757, 'tender': 3672, 'ports': 2753, 'lease': 2084, 'telephone': 3663, 'conversations': 933, 'rocker': 3122, 'bloody': 526, 'grievous': 1582, 'bodily': 538, 'harm': 1638, 'begun': 479, 'silent': 3363, 'belonged': 487, 'hell': 1660, 'ranking': 2946, 'speaker': 3463, 'invited': 1906, 'intercepted': 1877, 'applies': 328, '457': 88, 'genuineness': 1527, 'applied': 327, 'criteria': 999, 'preventing': 2810, 'loud': 2184, 'institute': 1863, 'labour': 2032, 'sri': 3498, 'recommended': 2975, 'holders': 1696, 'christmas': 745, 'lax': 2067, 'twitter': 3803, 'shooter': 3336, 'custody': 1024, 'terminal': 3676, 'panic': 2589, 'photos': 2686, 'lying': 2201, 'landing': 2041, 'arrival': 355, 'serves': 3300, 'maintenance': 2214, 'met': 2325, 'cottage': 959, 'kaiser': 1982, 'landscape': 2043, 'cooperate': 938, 'instrument': 1868, 'aspect': 371, 'tribukait': 3777, 'councillor': 963, 'grazing': 1575, 'helpers': 1664, 'trees': 3774, 'tractors': 3749, 'stone': 3539, 'condemned': 861, 'victim': 3914, 'kana': 1986, 'booysen': 547, 'assumed': 389, 'pope': 2747, 'cardinals': 654, 'popes': 2748, 'cardinal': 653, 'electors': 1241, 'lombardi': 2166, 'consistory': 896, 'valero': 3880, 'elected': 1236, 'advice': 195, 'bräunlingen': 594, 'load': 2152, 'memorial': 2311, 'submitted': 3570, 'originally': 2556, 'requirements': 3045, 'subsidies': 3572, 'taught': 3655, 'planners': 2710, 'motorist': 2405, 'intense': 1875, 'drive': 1185, 'privacy': 2822, 'congress': 880, 'motorists': 2406, 'gps': 1566, 'tracking': 3746, 'pump': 2895, 'foundation': 1476, 'approved': 334, 'leadership': 2076, 'nevada': 2461, 'illinois': 1771, '95': 128, 'khan': 2000, 'hunt': 1751, 'amount': 273, 'willing': 4007, 'flat': 1444, 'levy': 2111, 'imposed': 1789, 'honeck': 1708, 'relations': 3000, 'arctic': 338, 'monkeys': 2395, 'postpone': 2767, 'gig': 1537, 'alex': 233, 'illness': 1773, 'laryngitis': 2052, 'hydro': 1753, 'lg': 2112, 'birmingham': 514, 'bvb': 617, 'scenes': 3202, 'derby': 1102, 'schalke': 3204, 'borussia': 550, 'vfb': 3910, 'ultras': 3811, 'kick': 2001, 'chants': 713, 'loudest': 2185, 'capo': 648, 'goalkeeper': 1551, 'arsenal': 360, 'shout': 3342, 'winners': 4013, 'watzke': 3966, 'ignore': 1768, 'background': 429, 'blair': 519, 'esa': 1286, 'planets': 2708, 'gravitational': 1574, 'waves': 3968, 'holes': 1699, 'proposals': 2861, 'stars': 3515, 'cosmos': 953, 'earth': 1206, 'cosmic': 952, 'euro': 1297, 'paris': 2597, 'formation': 1469, 'darkness': 1043, 'telescope': 3664, 'exist': 1329, '2017': 50, 'composition': 843, 'solar': 3422, 'magnetic': 2207, 'jupiter': 1975, 'moons': 2398, 'planet': 2707, 'icy': 1759, 'outer': 2562, 'bang': 444, 'gazprom': 1518, 'miller': 2350, 'bulgaria': 603, 'starts': 3519, 'bulgarian': 604, 'pamela': 2586, 'blonde': 525, 'locks': 2160, 'dramatic': 1179, 'pixie': 2699, 'famous': 1386, 'sexy': 3315, 'eggs': 1231, 'egg': 1230, 'wrapped': 4049, 'turns': 3799, 'gerster': 1532, 'budgetary': 597, 'rothmund': 3135, 'contribution': 927, 'compensation': 828, 'lay': 2068, 'communication': 820, 'anna': 290, 'sends': 3279, 'benni': 496, 'gmail': 1548, 'mails': 2210, 'robots': 3120, 'virus': 3928, 'spam': 3457, 'upcoming': 3847, 'holiday': 1700, 'corresponding': 949, 'intercept': 1876, 'metadata': 2326, 'consulting': 903, 'konstanz': 2024, 'schänzle': 3221, 'lane': 2044, 'bmw': 533, 'mirrors': 2365, 'hungry': 1750, 'pfullendorf': 2678, 'jörg': 1981, 'arne': 349, 'calculated': 627, 'plus': 2728, 'rabbits': 2925, 'prizes': 2824, 'iran': 1911, 'nuclear': 2490, 'facebook': 1368, 'haigerloch': 1614, 'protestant': 2873, 'bunker': 607, 'plea': 2720, 'overhauled': 2570, 'chen': 732, 'yongzhou': 4079, 'rectification': 2982, 'yangcheng': 4065, 'zoomlion': 4093, 'undertake': 3823, 'revise': 3091, 'confessions': 870, 'becker': 467, 'spared': 3460, 'magical': 2206, 'candy': 642, 'sheep': 3328, 'costumes': 957, 'zombies': 4091, 'guess': 1596, '600': 101, 'haunted': 1642, 'puts': 2911, 'guy': 1607, 'photo': 2685, 'pumpkins': 2897, 'pumpkin': 2896, 'carving': 669, 'lantern': 2046, 'grew': 1581, '106': 9, 'nasdaq': 2440, 'markets': 2257, 'breakdowns': 569, 'dealing': 1061, 'rhenus': 3095, 'midgard': 2340, 'imports': 1787, 'coals': 783, 'signals': 3358, 'schrell': 3215, 'complaints': 834, 'bulk': 605, 'carriers': 664, 'plant': 2713, 'bali': 440, 'bomb': 541, '202': 52, 'bombing': 543, 'patek': 2636, '88': 120, 'terrorism': 3679, 'corteen': 951, 'destruction': 1112, 'van': 3887, 'parked': 2601, 'hughes': 1745, 'alive': 237, 'marked': 2254, 'immobilientag': 1780, 'börsen': 620, 'zeitung': 4088, 'pointed': 2731, 'ulbrich': 3809, 'sayings': 3193, 'breakfast': 570, 'expressions': 1351, 'proverbs': 2876, 'den': 1094, 'seine': 3267, 'round': 3137, 'mayoral': 2282, 'candidate': 641, 'artisans': 362, 'cosy': 958, 'alternatives': 259, 'vegan': 3898, 'vegetable': 3899, 'mashed': 2262, 'vegetarian': 3900, 'yoghurt': 4078, 'soya': 3452, 'tablespoon': 3631, '800': 113, 'kerry': 1998, 'inappropriately': 1799, 'unprecedented': 3842, 'abused': 142, 'europeans': 1300, 'murphy': 2426, 'threats': 3705, 'itinerary': 1927, 'egypt': 1232, 'spd': 3461, 'passport': 2629, 'toll': 3723, 'pronold': 2853, 'jagger': 1929, 'katy': 1989, 'perry': 2669, 'cyclist': 1032, '63': 102, 'brake': 563, '96': 129, 'barrel': 454, 'manufacturing': 2246, 'crude': 1010, 'delivery': 1090, '108': 10, 'löffingen': 2202, 'köpfler': 2030, 'deadline': 1058, 'monday': 2390, 'nicotine': 2469, 'vaccine': 3877, 'mice': 2335, 'crystal': 1013, 'cornell': 944, 'smokers': 3409, 'antibodies': 304, 'liver': 2148, 'antibody': 305, 'freely': 1486, 'mohamed': 2386, 'morsi': 2402, 'oath': 2497, 'mubarak': 2419, 'ousted': 2560, 'inauguration': 1801, 'brotherhood': 588, '84': 118, 'uprising': 3854, 'cairo': 625, 'army': 348, 'contest': 915, 'constance': 899, 'confession': 869, 'condition': 862, 'characterised': 716, 'josef': 1959, 'speechlessness': 3471, 'prose': 2864, 'repertoire': 3022, 'sausage': 3186, 'kimmich': 2008, 'haslach': 1639, 'scepticism': 3203, 'se': 3231, 'committees': 814, 'practical': 2776, 'tablets': 3632, 'regulations': 2994, 'aviation': 418, 'mode': 2378, 'landings': 2042, 'casa': 670, 'crew': 991, 'wi': 3994, 'fi': 1417, 'entertainment': 1275, 'vary': 3894, 'interference': 1884, 'manuals': 2244, 'readers': 2960, 'smartphones': 3405, 'altitudes': 261, 'drink': 1184, 'howie': 1735, 'horse': 1716, 'cardiff': 652, 'fenton': 1414, 'shetland': 3330, 'pony': 2744, 'toffee': 3720, 'howells': 1733, 'destroyed': 1111, 'poison': 2733, 'activist': 166, 'damascus': 1039, 'mixing': 2373, 'safira': 3169, 'facility': 1372, 'observatory': 2501, 'assad': 373, 'inspectors': 1854, 'opcw': 2531, 'highland': 1681, 'kaltenhof': 1983, 'pulling': 2894, 'competitors': 833, 'tossing': 3732, 'caber': 621, 'horseshoe': 1718, 'bucket': 595, 'tractor': 3748, 'castle': 675, 'scots': 3227, 'lib': 2114, 'austerity': 406, 'le': 2072, 'bloc': 521, 'myths': 2433, 'legends': 2096, 'tales': 3641, 'crossley': 1005, 'holland': 1702, 'salem': 3172, 'johanna': 1949, 'rahner': 2932, 'ecumenical': 1218, 'forum': 1473, 'pastors': 2635, 'burfien': 608, 'kindergarten': 2010, 'buyer': 615, 'winterlingen': 4016, 'rubbish': 3146, 'huerta': 1743, 'airliners': 228, 'restart': 3068, 'modified': 2382, 'rosenker': 3134, 'interfere': 1883, 'resistant': 3057, 'transmissions': 3764, 'minimal': 2356, 'pilots': 2694, 'modify': 2384, 'apply2': 329, '945': 127, 'cgi': 699, 'e_qna': 1200, 'eng': 1267, 'f1': 1363, 'f6': 1365, 'wr_datetime': 4048, 'bbs338': 462, 'hanmail': 1627, 'usr': 3872, 'sendmail': 3278, 'yetglezip': 4075, 'f4': 1364, 'dc': 1054, 'url': 3858, 'eb': 1212, 'b0': 424, 'ec': 1213, 'ed': 1219, 'b8': 425, '8d': 121, 'ea': 1201, 'a7': 133, 'xblizu9cxs34uqm8': 4059, '01': 2, '201704': 51, 'zip': 4090, 'pdf': 2652, '10px': 11, '544473': 98, 'omnicef': 2523, 'diners': 1138, 'methodcall': 2328, 'params': 2591, '_filter': 132, 'cdata': 682, 'href': 1737, 'allow_comment': 246, 'allow_trackback': 247, 'homepage': 1706, 'is_secret': 1912, 'module': 2385, 'elwoodbuckley041104': 1247, 'password2': 2632, 'yxg6dsf5iu': 4085, 'reward_point': 3094, 'user_id': 3864, 'app': 313, 'bn2gepsdoae4v4a1': 534, 'disposition': 1152, 'iti': 1926, 'jvwh': 1980, '3wpctx1mj5sbdacl': 79, '840': 119, '트리거': 4095, 'hz': 1754, 'vicbva15fl1xm0wh': 3912, 'wjyyj': 4025, 'yykswpo6jl4zzmkx': 4086, '7qbui7a': 111}\n"
     ]
    }
   ],
   "source": [
    "print(\"Sentences: \", vector.vocabulary_)\n",
    "# Identified Unique Words\n",
    "# Indices"
   ]
  },
  {
   "cell_type": "code",
   "execution_count": 41,
   "id": "33282627-b231-4612-a59c-fa3c850049ee",
   "metadata": {},
   "outputs": [
    {
     "data": {
      "text/plain": [
       "dict_keys(['union', 'userid', 'null', 'email', 'anything', 'select', 'count', 'tabname', 'members', 'full_name', 'like', 'bob', '23', 'exec', 'master', 'xp_cmdshell', 'ping', '172', '10', '255', 'user_name', 'dbo', 'desc', 'users', 'username', 'lower', 'substring', 'top', 'name', 'sysobjects', 'xtype', '116', 'uni', 'utl_http', 'request', 'http', 'admin', 'utl_inaddr', 'get_host_address', 'banner', 'version', 'rownum', 'sys', 'login_user', 'dual', 'instance', 'distinct', 'all_users', 'password', 'user', 'table_name', 'all_tables', 'column_name', 'all_tab_columns', 'granted_role', 'dba_role_privs', 'grantee', 'limit', 'loginuser', 'bin', '15', 'hex', 'char', '45', 'isnull', '7659', 'information_schema', 'tables', 'group', 'id', 'unusual', 'something', 'thing', 'text', 'whatever', '37', 'login', '111', 'sel', 'ect', 'execute', 'immediate', 'us', 'er', 'begin', 'declare', 'var', 'varchar', '8000', 'set', 'temp', 'end', 'load_file', 'etc', 'passwd', '47', '101', '99', '112', '115', '100', '110', '46', '120', '39', 'create', 'identified', 'pass123', 'drop', 'table', 'insert', 'host', 'values', 'grant', 'level', '0x65', '25', 'waitfor', 'delay', '24', 'sa', 'serverproperty', 'isintegratedsecurityonly', '11', '1a', 'true', '81dc9bdb52d04dc20036dbd8313ed055', 'sqlvuln', 'nvarchar', '4000', '22', 'hi', 'variable', 'print', 'procedure', 'order', 'asc', 'delete', 'update', 'replace', 'handler', 'bfilename', 'xp', 'sp', 'xp_regread', 'nslookup', 'www', 'google', 'com', 'sp_password', 'x27union', 'exists', '27', 'sleep', '50', '4039', '41', '40select', 'apos', 'sqlattempt1', 'sqlattempt2', '7c', '2a', 'mail', '28', '3d', '29', '26', '21', 'benchmark', '10000000', 'md5', '__time__', 'pg_sleep', '200', '17', 'nan', 'add', 'extra', 'man', 'star', 'soul', 'render', 'honest', 'perfect', 'light', 'nothing', 'falls', 'early', 'late', 'acts', 'angels', 'good', 'ill', 'shadows', 'walk', 'still', 'cast', 'wolf', 'fox', 'power', 'speed', 'hands', 'feet', 'read', 'day', 'verses', 'written', 'original', 'conventional', 'always', 'hears', 'lines', 'let', 'subject', 'may', 'sentiment', 'instil', 'value', 'thought', 'contain', 'believe', 'private', 'heart', 'men', 'genius', 'speak', 'conviction', 'shall', 'universal', 'sense', 'due', 'time', 'becomes', 'first', 'rendered', 'back', 'last', 'judgment', 'familiar', 'voice', 'mind', 'highest', 'milton', 'books', 'spoke', 'learn', 'watch', 'across', 'within', 'yet', 'without', 'notice', 'every', 'work', 'rejected', 'thoughts', 'come', 'certain', 'majesty', 'great', 'works', 'art', 'lesson', 'spontaneous', 'impression', 'whole', 'cry', 'voices', 'side', 'else', 'morrow', 'say', 'precisely', 'forced', 'take', 'shame', 'opinion', 'another', 'education', 'arrives', 'suicide', 'must', 'better', 'worse', 'portion', 'though', 'wide', 'universe', 'full', 'corn', 'plot', 'ground', 'given', 'new', 'nature', 'none', 'knows', 'know', 'tried', 'one', 'face', 'character', 'fact', 'makes', 'much', 'memory', 'eye', 'placed', 'ray', 'fall', 'might', 'particular', 'half', 'express', 'ashamed', 'idea', 'represents', 'safely', 'issues', 'god', 'made', 'manifest', 'cowards', 'gay', 'put', 'done', 'best', 'said', 'otherwise', 'give', 'peace', 'deliver', 'attempt', 'hope', 'trust', 'accept', 'place', 'found', 'society', 'contemporaries', 'connection', 'events', 'age', 'absolutely', 'seated', 'working', 'invalids', 'protected', 'corner', 'effort', 'advancing', 'dark', 'pretty', 'behaviour', 'children', 'even', 'divided', 'strength', 'means', 'opposed', 'purpose', 'look', 'faces', 'nobody', 'four', 'five', 'adults', 'play', 'armed', 'youth', 'puberty', 'manhood', 'less', 'claims', 'stand', 'think', 'force', 'cannot', 'next', 'room', 'sufficiently', 'clear', 'seems', 'make', 'boys', 'sure', 'dinner', 'would', 'lord', 'human', 'boy', 'parlour', 'independent', 'looking', 'people', 'pass', 'sentences', 'merits', 'way', 'bad', 'interesting', 'silly', 'never', 'consequences', 'interests', 'gives', 'genuine', 'verdict', 'court', 'jail', 'consciousness', 'soon', 'acted', 'spoken', 'person', 'watched', 'hatred', 'hundreds', 'whose', 'enter', 'account', 'could', 'thus', 'avoid', 'observe', 'passing', 'affairs', 'seen', 'necessary', 'fear', 'hear', 'solitude', 'grow', 'world', 'conspiracy', 'joint', 'stock', 'company', 'agree', 'surrender', 'liberty', 'culture', 'virtue', 'conformity', 'self', 'loves', 'creators', 'names', 'customs', 'goodness', 'sacred', 'integrity', 'remember', 'answer', 'quite', 'young', 'prompted', 'adviser', 'old', 'church', 'saying', 'live', 'friend', 'replied', 'seem', 'child', 'law', 'right', 'constitution', 'wrong', 'carry', 'presence', 'opposition', 'easily', 'large', 'societies', 'dead', 'institutions', 'well', 'individual', 'go', 'upright', 'rude', 'truth', 'ways', 'wear', 'coat', 'angry', 'cause', 'comes', 'news', 'love', 'thy', 'wood', 'hard', 'incredible', 'black', 'folk', 'miles', 'spite', 'home', 'rough', 'greeting', 'affectation', 'doctrine', 'father', 'mother', 'wife', 'brother', 'calls', 'write', 'door', 'post', 'somewhat', 'spend', 'expect', 'show', 'seek', 'tell', 'poor', 'foolish', 'dollar', 'cent', 'belong', 'class', 'persons', 'spiritual', 'bought', 'sold', 'prison', 'need', 'popular', 'college', 'building', 'meeting', 'houses', 'vain', 'many', 'sometimes', 'virtues', 'estimate', 'rather', 'rule', 'called', 'action', 'piece', 'courage', 'pay', 'fine', 'daily', 'non', 'appearance', 'apology', 'living', 'high', 'board', 'wish', 'life', 'strain', 'equal', 'sound', 'diet', 'ask', 'primary', 'evidence', 'appeal', 'actions', 'difference', 'whether', 'mean', 'actually', 'secondary', 'concerns', 'arduous', 'actual', 'serve', 'greatness', 'harder', 'find', 'duty', 'easy', 'midst', 'crowd', 'keeps', 'independence', 'become', 'maintain', 'contribute', 'bible', 'vote', 'party', 'either', 'government', 'spread', 'base', 'precise', 'course', 'withdrawn', 'proper', 'consider', 'game', 'sect', 'argument', 'topic', 'beforehand', 'possibly', 'word', 'grounds', 'institution', 'permitted', 'parish', 'minister', 'retained', 'attorney', 'eyes', 'communities', 'false', 'particulars', 'lies', 'two', 'real', 'meantime', 'slow', 'cut', 'figure', 'acquire', 'experience', 'fail', 'also', 'general', 'history', 'praise', 'smile', 'feel', 'ease', 'conversation', 'interest', 'moved', 'low', 'therefore', 'sour', 'public', 'street', 'origin', 'resistance', 'sad', 'deep', 'wind', 'blows', 'newspaper', 'senate', 'enough', 'firm', 'rage', 'vulnerable', 'added', 'brute', 'bottom', 'needs', 'habit', 'treat', 'terror', 'consistency', 'past', 'act', 'others', 'data', 'computing', 'loath', 'keep', 'head', 'corpse', 'contradict', 'stated', 'wisdom', 'alone', 'pure', 'bring', 'present', 'ever', 'denied', 'personality', 'yield', 'shape', 'leave', 'theory', 'joseph', 'hand', 'little', 'minds', 'simply', 'concern', 'shadow', 'wall', 'words', 'misunderstood', 'luther', 'spirit', 'took', 'rounded', 'matter', 'try', 'forward', 'allows', 'record', 'doubt', 'see', 'book', 'window', 'straw', 'bill', 'communicate', 'vice', 'emit', 'breath', 'moment', 'agreement', 'variety', 'natural', 'hour', 'however', 'unlike', 'lost', 'sight', 'distance', 'height', 'tendency', 'ship', 'line', 'hundred', 'sufficient', 'average', 'explain', 'explains', 'singly', 'already', 'justify', 'appeals', 'future', 'scorn', 'defend', 'appearances', 'days', 'health', 'heroes', 'field', 'train', 'victories', 'behind', 'shed', 'united', 'actor', 'attended', 'washington', 'port', 'america', 'ancient', 'homage', 'shown', 'heard', 'ridiculous', 'instead', 'coming', 'house', 'please', 'kind', 'smooth', 'times', 'trade', 'office', 'responsible', 'wherever', 'belongs', 'centre', 'things', 'measures', 'body', 'takes', 'creation', 'circumstances', 'country', 'requires', 'fully', 'design', 'follow', 'steps', 'clients', 'born', 'ages', 'roman', 'empire', 'millions', 'possible', 'standard', 'automatic', 'speech', 'output', 'streams', 'neither', 'perform', 'segmentation', 'predict', 'punctuation', 'symbols', 'unavailable', 'punctuations', 'sentence', 'transcribed', 'texts', 'barriers', 'subsequent', 'processing', 'tasks', 'information', 'question', 'machine', 'translation', 'long', 'applications', 'example', 'segmented', 'fed', 'systems', 'et', 'al', '2009', 'current', 'mt', 'various', 'models', 'used', 'trained', 'algorithms', 'inside', 'complexity', 'regard', 'length', 'inputs', 'prediction', 'problem', 'attracted', 'research', 'community', 'language', 'previous', 'primarily', 'exploits', 'local', 'features', 'prosodic', 'cues', 'hidden', 'event', 'model', 'liu', '2005', 'matusov', '2006', 'huang', 'zweig', '2002', 'views', 'input', 'achieve', 'satisfied', 'performance', 'limited', 'context', 'access', 'favre', '2008', 'global', 'contexts', 'required', 'especially', 'range', 'dependencies', 'english', 'mark', 'initial', 'lu', '2010', 'trying', 'incorporate', 'syntactic', 'view', 'roark', 'methods', 'separated', 'parsing', 'suffer', 'error', 'addition', 'approaches', 'able', 'process', 'cases', 'number', 'larger', 'thousands', 'paper', 'propose', 'jointly', 'transition', 'based', 'dependency', 'stream', 'left', 'shift', 'reduce', 'predicted', 'tree', 'proposed', 'conduct', 'followed', 'predictions', 'associate', 'directly', 'linear', 'handling', 'use', 'rich', 'improve', 'shows', 'helps', 'adverbial', 'period', 'menu', 'modifier', 'completed', 'determined', 'direct', 'together', 'segmentations', 'formed', 'according', 'results', 'training', 'keeping', 'search', 'get', 'test', 'sets', 'method', 'higher', 'section', 'survey', 'related', 'introduced', 'approach', 'conclusion', 'boundary', 'studied', 'task', '2001', 'integrate', 'pitch', 'grams', 'uses', 'maximum', 'focus', 'state', 'layer', 'conditional', 'random', 'fields', 'available', 'inaccessible', 'log', 'framework', 'type', 'achieved', 'chinese', 'knowledge', 'including', 'parser', 'scores', 'performed', 'step', 'built', 'advance', 'complex', 'short', 'limitations', 'numerous', 'graph', 'compared', 'offer', 'leverage', '2003', 'nivre', 'zhang', 'starting', '2011', 'extend', 'pos', '2012', 'improvements', 'reported', 'pipeline', 'although', 'different', 'former', 'usually', 'single', 'latter', 'quality', 'sensitive', 'entire', 'orlando', 'bloom', 'miranda', 'kerr', 'want', 'separate', 'interview', 'parents', 'year', 'flynn', 'announced', 'journalist', 'katie', 'friday', 'quot', 'exactly', 'plan', 'emphasised', '36', 'going', 'support', 'married', 'since', 'son', 'jet', 'makers', 'seat', 'width', 'big', 'orders', 'row', 'leading', 'plane', 'tourist', 'seats', 'confrontation', 'month', 'dubai', 'dispute', 'provided', 'haul', 'economy', 'passengers', 'ones', 'airlines', 'space', 'holds', 'key', 'efficiency', 'latest', 'jets', 'airbus', 'boeing', 'co', 'week', 'industry', 'provide', 'least', '18', 'inches', 'cabins', 'arch', 'rival', 'says', 'decide', 'sell', 'twin', 'aircraft', 'potentially', 'expected', 'november', 'laid', 'particularly', 'seating', 'abreast', 'central', 'economic', 'jumbo', '777x', 'hold', 'competing', 'inch', 'often', 'technical', 'matters', 'advertising', 'press', 'appealing', 'ahead', 'recently', 'start', 'war', 'showing', 'slide', 'three', 'restaurant', 'flying', 'regional', 'sales', 'chief', 'john', 'change', 'bigger', 'changed', '1970s', 'defined', 'modern', 'travel', 'turn', 'century', 'weight', 'american', '40', '49', 'male', 'increased', 'per', 'department', 'concept', 'newly', 'commissioned', '53', 'disputes', 'figures', 'measurements', 'manufacturers', 'decisions', 'balance', 'facilities', 'cabin', 'really', 'providing', 'allowing', 'successful', 'expert', 'business', 'anyone', 'increasingly', 'issue', 'affect', 'earnings', 'race', '700', 'billion', 'estimated', 'list', 'prices', 'decades', 'tip', 'scales', 'european', 'reuters', 'july', 'layout', 'drives', 'battle', '20', 'market', 'leader', '365', '777', 'part', 'unit', 'costs', 'reason', 'competitive', 'products', 'passenger', 'europe', 'analysts', 'existing', 'voting', 'cheaper', 'point', 'proposal', 'driven', 'threat', 'founder', 'editor', 'girl', 'network', 'supply', 'choose', 'sellers', 'tape', 'check', 'layouts', 'cost', 'offers', 'offering', 'wider', 'maker', 'experts', 'call', 'unlikely', 'wave', 'faa', 'restrictions', 'electronic', 'gadgets', 'airplanes', 'chatting', 'prohibited', 'warplanes', 'attack', 'store', 'russian', 'missiles', 'city', 'latakia', 'official', 'israel', 'campaign', 'arms', 'federal', 'blocks', 'judge', 'ruling', 'nypd', 'controversial', 'tactic', 'minorities', 'nearly', 'african', 'hoping', 'die', 'trucks', 'break', 'middle', 'violence', '14', 'seven', 'chance', 'sign', 'growing', 'shutdown', 'investors', 'kept', 'probably', 'california', 'woman', 'plans', 'challenge', 'internet', 'connected', 'easier', 'police', 'video', 'mayor', 'smoking', 'pipe', 'close', 'allies', 'angle', 'held', 'vatican', 'wants', 'catholic', 'parishes', 'around', 'handle', 'seriously', 'injured', 'following', 'collision', 'afternoon', 'car', 'drivers', '44', 'rural', 'road', 'completely', 'blocked', 'immediately', 'initially', 'comment', 'accident', 'mention', 'witness', 'statements', 'assessed', '19', 'female', 'driver', 'golf', 'driving', 'direction', '38', 'came', 'towards', 'vehicles', 'collided', 'whereby', 'stuck', 'fire', 'service', 'almost', 'free', 'vehicle', 'remained', 'unclear', 'parties', 'taken', 'nearby', 'hospitals', 'hours', 'crews', 'rescue', 'puppy', 'got', '50ft', 'precarious', 'ledge', 'quarry', 'cocker', 'spaniel', 'ruby', 'run', 'minor', 'crash', 'spotted', 'later', 'dog', 'firefighters', 'cliff', 'death', 'lucky', 'lift', 'safety', 'nine', 'involved', 'sunday', 'wednesday', 'owners', 'scott', 'hall', 'west', 'yorkshire', 'thanked', 'searched', 'posted', 'social', 'networking', 'sites', 'ran', 'team', 'station', 'rushed', 'scene', 'pet', 'transport', 'specialist', 'officer', 'situation', 'move', 'solid', 'peter', 'potential', 'vets', 'miss', 'amazing', 'became', 'exhausted', 'fallen', 'mr', 'scared', 'stayed', 'report', 'obama', 'considered', 'dumping', 'biden', 'hillary', 'clinton', 'president', 'barack', 'closest', 'advisers', 'replacing', 'joe', 'ticket', 'york', 'revelation', 'anticipated', 'double', 'thursday', 'evening', 'conducted', 'extensive', 'polling', 'help', 'election', 'hopes', 'national', 'political', 'correspondent', 'jonathan', 'martin', 'provides', 'thorough', 'senior', 'officials', 'white', 'staff', 'daley', 'measure', 'effect', 'secretary', 'polls', 'switch', 'closely', 'guarded', 'secret', 'infrastructure', 'jim', 'david', 'knew', 'consideration', 'despite', 'personal', 'ultimately', 'deciding', 'showed', 'adding', 'confirmed', 'administration', 'told', 'holy', 'cnn', 'anderson', 'cooper', 'significant', 'investment', 'finding', 'campaigns', 'money', 'groups', 'unless', 'asked', 'boss', 'aware', 'admitted', 'reached', 'desk', 'thanks', 'mgv', 'dinker', 'friedrich', 'wilhelm', 'issued', 'anniversary', 'celebration', '52', 'guests', 'active', 'singers', 'happy', 'inn', 'enjoyed', 'friendly', 'music', 'traditionally', 'occasion', 'delighted', 'receive', 'special', 'singer', 'award', 'countless', 'records', 'running', 'choir', 'chairman', 'schlotmann', 'awards', 'participation', 'presentation', 'activity', 'went', 'director', 'dieter', 'schulze', 'attendance', 'marks', 'horst', 'pier', 'ribbert', 'winkler', '42', 'fifth', 'organising', 'gave', 'managed', 'regular', 'tuesday', 'welcome', 'nsa', 'revelations', 'corporate', 'paranoia', 'surveillance', 'august', 'german', 'helicopter', 'frankfurt', 'financial', 'capital', 'germany', 'instruction', 'protection', 'bfv', 'domestic', 'intelligence', 'agency', 'mission', 'located', 'bank', 'media', 'hoped', 'identify', 'listening', 'exchange', 'foreign', 'ministry', 'berlin', 'james', 'insisted', 'september', 'capabilities', 'secrets', 'companies', 'behalf', 'international', 'increase', 'edward', 'snowden', 'contractor', 'turned', 'whistleblower', 'began', 'governments', 'leaders', 'longer', 'reports', 'security', 'oil', 'cloud', 'providers', 'yahoo', 'final', 'revealed', 'chancellor', 'angela', 'merkel', 'phone', 'bugged', 'decade', 'powerful', 'targeted', 'collaboration', 'services', 'benefit', 'wake', 'small', 'medium', 'sized', 'risk', 'china', 'industrial', 'espionage', 'published', 'leaked', 'date', 'passed', 'politicians', 'expressed', 'eu', 'someone', 'parliament', 'build', 'shut', 'slowly', 'open', 'software', 'sap', 'wanted', 'strong', 'years', 'ago', 'everything', 'coal', 'cars', 'reach', 'spy', 'exposed', 'shock', 'previously', 'biggest', 'executives', 'stored', 'jurisdiction', 'carried', 'cancelled', 'provider', 'prism', 'mining', 'programme', 'executive', 'customers', 'guarantee', 'argue', 'confirmation', 'states', 'spying', 'surprise', 'discussion', 'chemical', 'americans', 'commercial', 'businesses', 'generally', 'case', 'advantage', 'message', 'leaving', 'hotel', 'member', 'practice', 'mobile', 'phones', 'collected', 'meetings', 'devices', 'advises', 'using', 'simple', 'prepaid', 'mobiles', 'trips', 'smart', 'compromised', 'thrown', 'away', 'remain', 'hacking', 'lack', 'personnel', 'protect', 'effectively', 'countries', 'february', 'named', 'france', 'alongside', 'russia', 'second', 'blue', 'french', 'worst', 'internal', 'quoted', 'perfectly', 'operate', 'fight', 'gechingen', 'absolute', 'involve', 'residents', 'planning', 'stage', 'jens', 'häußler', 'opening', 'citizen', 'regarding', 'flood', '80', 'participants', 'planned', 'explained', 'submit', 'ideas', 'town', 'council', 'commented', 'raising', 'river', 'study', 'forms', 'basis', 'goal', 'developed', 'land', 'weather', 'form', 'allowance', 'referred', 'hq', '100aklima', 'water', 'caused', 'considerable', 'damage', 'equivalent', '000', 'million', 'invested', '70', 'indicated', 'funding', 'overall', 'develop', 'reliant', 'cooperation', 'citizens', 'approval', 'implementation', 'among', 'presented', 'stammheim', 'valley', 'conjunction', 'opportunity', 'raised', 'detention', 'location', 'wald', 'und', 'corbe', 'furthermore', 'solution', 'joachim', 'repeatedly', 'result', 'canal', 'normal', 'known', 'administrative', 'guidelines', 'package', '325', 'tasmania', 'ailing', 'system', 'tough', 'conditions', 'ensure', 'waste', 'funds', 'plibersek', 'commonwealth', 'taking', 'urgent', 'crisis', 'island', 'population', 'rates', 'decided', 'mp', 'andrew', 'wilkie', 'emergency', 'address', 'faced', 'ms', 'today', 'includes', '31', 'elective', 'surgery', 'additional', 'operations', 'backlog', 'clinics', 'hospital', 'care', 'medical', 'investments', 'respond', 'front', 'tend', 'reporting', 'levels', 'cash', 'spending', 'commission', 'reform', 'sustainable', 'nevertheless', 'praised', 'responding', 'assistance', 'prime', 'beginning', 'hopeful', 'critical', 'procedures', 'largely', 'reverse', 'recent', 'cuts', 'spokesman', 'believes', 'announcement', 'band', 'labor', 'tv', 'dollars', '300', 'spent', 'mozambique', 'statue', 'gathered', 'maputo', 'rare', 'stability', 'de', 'shirt', 'demand', 'joined', 'crowds', 'square', 'weeks', 'clashes', 'forces', 'renamo', 'skirmishes', 'deal', 'movement', 'backed', 'ruled', 'south', 'africa', 'efforts', '1992', 'blown', 'conflict', 'stakes', 'fast', 'discovery', 'huge', 'gas', 'reserves', 'rio', 'vale', 'brazil', 'italy', 'frelimo', 'blame', 'initiated', 'sofala', 'province', 'october', 'rebels', 'attempted', 'kill', 'dhlakama', 'mazanga', 'soldiers', 'guebuza', 'sought', 'instability', 'saw', 'remains', 'prove', 'impose', 'grown', 'meant', 'respected', 'vision', 'negotiations', 'talks', 'series', 'heads', 'university', 'prepared', 'concessions', 'pushing', 'electoral', 'reforms', 'municipal', 'elections', 'presidential', 'parliamentary', 'scheduled', 'interpreted', 'win', 'share', 'term', 'destroy', 'democracy', 'capacity', 'hit', 'attacks', 'stations', 'north', 'highway', 'several', 'kilometres', 'hosts', 'export', 'june', 'suspended', 'railway', 'concerned', 'corruption', 'pace', 'development', 'problems', 'roads', 'schools', 'urged', 'maths', 'grammar', 'literature', 'courses', 'require', 'pupils', 'novel', 'contemporary', 'british', 'feature', 'encourage', 'reading', 'combined', '2015', 'release', 'tomorrow', 'undergo', 'radical', 'overhaul', 'changes', 'core', 'regulator', 'speaking', 'summer', 'michael', 'restore', 'confidence', 'challenging', 'ambitious', 'studies', 'comparison', 'australian', 'singapore', 'formal', 'requirement', 'coalition', 'sources', 'league', 'likely', 'greater', '2014', 'geisingen', 'celebrations', 'documented', 'closer', 'eight', 'upon', 'kirchen', 'hausen', 'deed', 'towns', 'mentioned', 'march', 'officially', 'launched', 'currently', 'suitable', 'launch', '250', 'celebrate', 'celebratory', 'weekend', 'ceremony', 'saturday', 'festival', 'musical', 'composed', '91', 'forest', 'association', '93', 'mid', '12', 'arena', 'accompanied', '13', 'december', 'concert', 'venue', 'chronicle', 'merely', 'consists', 'leipferdingen', 'gutmadingen', 'celebrating', 'birthday', 'region', 'fool', 'guild', 'begins', 'traditional', '60', '90', 'district', 'nursing', 'school', '150', 'possession', 'st', 'drawn', 'choosing', 'supreme', 'major', 'victory', 'constitutional', 'justices', 'patient', 'affordable', 'mandate', 'buy', 'insurance', 'penalty', 'justice', 'sided', 'liberal', 'thomas', 'sections', 'page', 'medicaid', 'lose', 'suit', 'block', 'brought', 'republican', 'season', 'mitt', 'romney', 'flight', 'trend', 'upgraded', 'profit', 'australia', 'kingdom', 'underlying', 'tax', 'guidance', 'represent', 'growth', 'managing', 'turner', 'started', 'uk', 'track', 'typically', 'largest', 'leisure', 'slightly', 'weaker', 'similarly', 'losses', 'third', 'shares', 'yesterday', 'jerusalem', 'syrian', 'wished', 'anonymous', 'statement', 'broadcaster', 'israeli', 'planes', 'target', 'equipment', 'feared', 'intended', 'lebanese', 'hezbollah', 'fired', 'night', 'television', 'channel', 'satellite', 'images', 'defence', '35', 'kilograms', 'believed', 'spokesperson', 'ben', 'writing', 'air', 'warned', 'syria', 'dangerous', 'weapons', 'crossing', 'red', 'military', 'response', 'buried', 'pension', 'stolen', 'elderly', 'died', 'wolfsburg', 'continued', 'collect', 'investigations', '67', 'resident', 'continue', 'covered', 'charges', 'near', 'drew', 'investigators', 'travelled', 'investigate', 'discovered', 'residence', 'finally', 'acknowledged', 'autopsy', 'fundamental', 'helping', 'scandal', 'green', 'hans', 'christian', 'ströbele', 'addressed', 'employee', 'investigation', 'committee', 'legal', 'unknown', 'attackers', 'injure', 'shots', 'saxony', 'firing', 'assailants', 'gun', 'suffered', 'injury', 'workers', 'six', 'suddenly', 'stopped', 'witnesses', 'sitting', 'bus', 'stop', 'criminal', 'investigating', 'hoarding', 'bechtle', 'painted', 'schweizer', 'wiese', 'initiative', 'spa', 'widened', 'footpath', 'covering', 'premises', 'manages', 'site', 'project', 'favour', 'buildings', 'danger', 'ruins', 'construction', 'execution', 'questions', 'scale', 'continues', 'stall', 'answers', 'impact', 'outcome', 'appear', 'donated', 'happiness', 'camels', 'manage', 'henne', 'described', 'tenth', 'organisation', 'impressive', 'depth', '2004', 'mauritania', 'important', 'journeys', 'insight', 'initiatives', 'border', 'rainer', 'nagold', 'suggestion', 'assume', 'advisory', 'role', 'baiersbronn', 'charge', 'doctor', 'doctors', 'sit', 'topics', 'materials', 'sent', 'material', 'plenty', 'colour', 'telling', 'mercedes', 'sharing', 'experiences', 'musicians', 'area', 'budget', 'far', 'scientists', 'movements', 'tail', 'linked', 'earlier', 'dogs', 'tails', 'fellow', 'canines', 'spot', 'differences', 'prof', 'vallortigara', 'humans', 'brain', 'differently', 'positive', 'emotions', 'species', 'handed', 'played', 'researchers', 'monitored', 'animals', 'measured', 'understand', 'rid', 'predominantly', 'picked', 'looked', 'anxious', 'communicating', 'learned', 'moves', 'worried', 'frequently', 'associated', 'producing', 'findings', 'animal', 'visiting', 'bristol', 'science', 'examine', 'becoming', 'italian', 'responded', 'sides', 'detail', 'hammered', 'recorded', 'usa', 'position', 'accused', 'proceedings', 'psaki', 'politician', 'appealed', 'prosecution', 'comments', 'bird', 'sea', 'rig', 'released', 'wild', 'rail', 'scottish', 'manager', 'winter', 'northern', 'caught', 'refuge', 'unable', 'contacted', 'königsfeld', 'main', 'autumn', 'eleven', 'exercise', 'kammerer', 'circuit', 'occurred', 'resulting', 'smoke', 'fighters', 'equipped', 'inspection', 'workshop', 'horses', 'secure', 'quantities', 'machines', 'surface', 'metres', 'satisfaction', 'rivers', 'dr', 'georges', 'bwelle', 'bringing', 'villages', 'cameroon', 'seeing', 'patients', 'device', '2013', 'hero', 'yaounde', 'broken', 'creating', 'rest', 'getting', 'treatment', 'lot', 'waiting', 'organization', 'afford', 'poverty', 'quarters', 'enjoy', 'volunteers', 'surgeries', 'surgeon', 'ascovime', 'areas', 'helped', '32', '30', 'supplies', 'visit', 'push', 'arrive', 'singing', 'truly', 'energy', 'join', 'fun', 'morning', 'receiving', '500', 'trip', 'village', 'foot', 'sexually', 'pair', 'birth', 'families', 'lighting', 'operating', 'motivated', 'tired', 'mix', 'received', 'allow', 'family', 'holding', 'job', 'sleeps', 'malley', 'student', 'missions', 'arriving', 'transportation', 'desire', 'lives', 'brings', 'joy', 'sees', 'website', 'teams', 'champion', 'club', 'tennis', 'tournament', 'maier', 'bronner', 'match', 'division', 'rohrdorf', 'sports', 'fans', 'clubs', 'playing', 'matches', 'points', 'minutes', 'anja', 'schlichter', 'carmen', 'müller', 'crucial', 'phase', 'andre', 'matthias', 'klippel', 'sadmin', 'sg', 'meaning', 'games', 'pleasure', 'presenting', 'cup', 'leg', 'partnership', 'sun', 'coffee', 'cake', 'exceptional', 'production', 'heavier', 'story', 'film', 'slips', 'risks', 'making', 'hair', 'audiences', 'samsung', 'huawei', 'nortel', 'patents', 'filed', 'patent', 'cell', 'rockstar', 'ltd', 'htc', 'infringement', 'owned', 'apple', 'microsoft', 'cover', 'technology', 'terms', 'relevant', 'lawsuit', 'representatives', '900', 'losing', 'seeking', 'damages', 'sooner', 'hispanic', 'girls', 'counterparts', 'physical', 'hormones', 'chemicals', 'toward', 'pronounced', 'daughter', 'breast', 'pubic', 'annual', 'conference', 'endocrinologist', 'paul', 'kaplowitz', 'common', 'signal', 'signs', 'breasts', 'appearing', 'menarche', '75', 'author', 'essential', 'guide', 'debate', 'onset', 'precocious', 'monitor', 'warrant', 'tests', 'serious', 'lead', 'adult', 'drug', 'rate', 'aspects', 'acknowledges', 'daughters', 'talked', 'friends', 'lots', 'milk', 'environment', 'sexual', 'messages', 'links', 'fat', 'varying', 'patterns', 'influenced', 'younger', 'careful', 'talk', 'advised', 'calm', 'happens', 'schedule', 'issuing', 'involving', 'asylum', 'prosecutor', 'meet', 'interfax', 'representative', 'discuss', 'cocaine', 'lawyer', 'jailed', 'ditta', 'feed', 'crime', 'scarbrough', 'solicitor', 'addiction', 'liverpool', 'crown', 'drugs', 'inquiries', 'trafficking', 'activities', 'criminals', 'arrested', 'operation', 'scarborough', 'represented', 'trial', 'officers', 'bags', 'blackburn', 'lancashire', 'colleagues', 'wallet', 'credit', 'cards', 'january', 'arrests', 'suspects', 'heroin', 'seized', 'worth', 'along', 'solicitors', 'guilty', 'counts', 'hearing', 'contact', 'detectives', 'suspect', 'bins', 'football', 'stadium', 'park', 'returned', 'discover', 'communications', 'suspected', 'dealer', 'client', 'argued', 'discussions', 'arrest', 'sample', 'players', 'chain', 'prosecuting', 'anne', 'specific', 'relationship', 'talking', 'undoubtedly', 'beyond', 'profession', 'allowed', 'wrongdoing', 'claimed', 'wait', 'lee', 'organised', 'tasked', 'standards', 'led', 'convicted', 'warning', 'total', 'offences', 'session', 'representing', 'guest', 'mohammed', 'mexico', 'tunnel', 'sophisticated', 'smuggling', 'tunnels', 'complete', 'ventilation', 'authorities', 'warehouses', 'tijuana', 'san', 'diego', 'conceal', 'loaded', 'marijuana', 'pounds', 'worked', 'charged', 'imprisonment', 'vast', 'underground', 'passage', 'presents', 'cartels', 'quickly', 'product', 'consumers', 'yard', 'tracks', 'extended', 'kitchen', 'frontier', 'baggage', 'luggage', 'charging', 'bag', 'soda', 'fee', 'overhead', 'paid', 'gate', 'fees', 'loyal', 'difficult', 'tickets', 'airline', 'similar', 'inc', 'jay', 'sorensen', 'career', 'split', 'tea', 'juice', 'briefly', 'months', 'online', 'gone', 'giving', 'mileage', 'percent', 'mile', 'purchased', 'earn', 'shrinking', 'revenue', 'quarter', 'parent', 'republic', 'selling', 'super', 'measuring', 'electricity', 'detained', 'details', 'dig', 'radar', 'southern', 'laura', 'mexican', 'ongoing', 'killed', 'ladder', 'assist', 'illegal', 'immigration', 'smaller', 'routes', 'squad', 'ten', 'lovers', 'victorious', 'athletes', 'rally', 'achim', '94', 'competition', 'rover', 'interior', 'racing', 'options', 'include', 'bowler', 'storage', 'experienced', 'path', 'overseas', 'option', 'compete', 'east', 'comedy', 'standup', 'served', 'palace', 'theatre', 'manner', 'created', 'hirsch', 'carolines', 'appeared', 'success', 'continuing', 'featuring', 'bruce', 'roger', 'expanded', 'participating', 'kroll', 'rose', 'cable', 'jenny', 'slate', 'parks', 'anthony', 'kamau', 'steinberg', 'larry', '2007', 'hosted', 'center', 'manhattan', 'definitely', 'thai', 'sentenced', 'phuket', 'granted', 'bail', 'bamford', 'assault', 'footage', 'cells', 'women', 'player', 'tunks', 'extremely', 'obviously', 'resort', 'thailand', 'increasing', 'murder', 'agent', 'repair', 'image', 'bombardier', 'deliveries', 'net', 'fewer', 'contract', 'brand', 'cseries', 'inaugural', 'testing', 'fell', 'doerksen', 'rating', 'sector', 'clearly', 'program', 'skeptical', 'buyers', 'savings', 'operators', 'beaudoin', 'confident', 'stay', 'happen', 'remainder', 'shortly', 'customer', 'pushed', 'ended', 'cents', 'unchanged', 'marginally', 'planemaker', '83', 'aerospace', 'affected', 'trading', 'kenyan', 'valid', 'prevent', 'kenya', 'radio', 'tribunal', 'extension', 'content', 'listen', 'return', 'dealt', 'blow', 'amid', 'islamist', 'shopping', 'mall', 'reacted', 'journalists', 'fined', 'shillings', 'listed', 'seize', 'property', 'nation', 'lively', 'wrote', 'source', 'checks', 'lawmakers', 'anger', 'voted', 'ordered', 'salaries', 'london', 'decision', 'stamp', 'homes', 'costing', 'individuals', 'residential', 'amp', 'stood', 'scotland', 'introduction', 'anti', 'legislation', 'dated', 'housing', 'price', 'belt', 'uptick', 'mainz', 'bundesliga', 'goals', 'julian', 'elite', 'ready', 'britain', 'pledge', 'comprehensive', 'poll', 'asking', 'sizes', 'conclusions', 'majority', 'outside', 'likes', 'india', 'policy', 'ranging', 'laws', 'control', 'brussels', 'benefits', 'agreed', 'pursue', 'treaty', 'politics', 'meaningful', 'powers', '16', 'membership', 'jobs', 'renewed', 'regulatory', 'palmer', 'tony', 'abbott', 'parental', 'scheme', 'pregnant', 'paying', 'carbon', 'votes', 'taxes', 'ministers', 'policies', 'declared', 'winner', 'sunshine', 'computer', 'studying', 'zealand', '59', 'included', 'airport', 'reward', 'except', 'hardly', 'emptied', 'sundays', 'noticed', 'collection', 'boxes', 'yellow', 'holidays', 'fdp', 'inquiry', 'ludwig', 'straße', 'hofheim', 'rosengarten', 'röhrenbeck', 'postal', 'cutting', 'supporting', 'quiet', 'unison', 'box', 'communicated', 'georgia', 'murdered', 'mat', 'gym', 'johnson', 'lowndes', 'county', 'sheriff', 'concluded', 'crump', 'moore', 'conducting', 'objective', 'civil', 'rights', 'twice', 'helmbrechts', 'retrieve', 'charred', 'bedroom', 'broke', 'floor', 'arrived', 'possibility', 'obstructionism', 'excuse', 'memoir', 'bed', 'inspired', 'historic', 'cried', 'saved', 'headed', '82', 'dream', 'distant', 'indeed', 'varied', 'killing', 'laden', 'innocent', 'reveal', 'silence', 'failure', 'signed', 'supposed', 'opposing', 'excited', 'confusing', 'alternative', 'positions', 'returning', 'promises', 'loss', 'pennsylvania', 'needed', 'baden', 'prevailing', 'malmon', 'everyone', 'winning', 'coach', 'considerably', 'improved', 'gutach', '33', 'pedestrian', 'lights', 'traffic', 'installed', 'route', 'cyclists', 'travelling', 'importance', 'sulzbachweg', 'kirchstrasse', 'museum', 'churches', 'arnold', 'goods', 'accounts', 'roundabout', 'prior', 'selection', 'posts', 'knocking', 'eur', 'sky', 'consume', 'sensor', 'status', 'seconds', 'gets', 'barely', 'sped', 'glow', 'ice', 'cream', 'jellyfish', 'charlie', 'francis', 'properties', 'marine', 'snack', 'convinced', 'protein', 'reacts', 'tongue', 'ph', 'chris', 'mouth', 'lick', 'delicious', 'raise', 'seemed', 'halloween', 'wonderful', 'expensive', 'gold', 'beer', 'impossible', 'freudenstadt', 'tsv', 'stepped', 'gönningen', 'swabian', 'evident', 'cope', 'positioned', 'simon', 'schenk', 'schulz', 'onto', 'stronger', 'felix', 'stefan', 'resulted', 'errors', 'moments', 'proved', 'coulson', 'affair', 'charles', 'clarke', 'edis', 'attractive', 'pawlby', 'investigator', 'mulcaire', 'voicemails', 'suggests', 'notw', 'stands', 'stories', 'yes', 'interested', 'occasions', 'sister', 'projects', 'investigated', 'meanwhile', 'reporter', 'involvement', 'blunkett', 'brooks', '2000', 'catholics', 'heuberg', 'pastoral', 'gm', 'pickup', 'seatbacks', 'silverado', 'sierra', 'manual', 'auto', 'regulators', 'defect', 'comply', 'properly', 'roll', 'review', 'owner', 'letter', 'un', 'nations', 'millennium', 'mdgs', 'summit', 'overnight', 'ban', 'rise', 'pleased', 'sdgs', 'spare', 'implement', 'realise', 'santiago', 'hemingway', 'janson', 'acting', 'neck', 'chair', 'attention', 'pull', 'bottles', 'illuminated', 'boat', 'bar', 'cuban', 'songs', 'beautiful', 'accompany', 'food', 'allergies', 'suffering', 'contains', 'allergic', 'reaction', 'occur', 'recommends', 'updating', 'rules', 'kids', 'feels', 'basketball', 'neckar', 'riesen', 'ludwigsburg', 'card', 'applicant', 'towers', 'application', 'participate', 'pascal', 'putting', 'professional', 'licence', 'alexander', 'promoted', 'documents', 'arbitration', 'panel', 'authority', 'universities', 'hochschwarzwald', 'factor', 'pilot', 'relatives', 'employed', 'employees', 'employment', 'skills', 'places', 'skilled', 'proximity', 'journey', 'freiburg', 'undertaken', 'illmensee', 'mountain', 'fantastic', 'lake', 'amateur', 'metre', 'climb', 'expectations', 'defended', 'title', 'ladies', 'podium', 'riders', 'ability', 'pangerl', 'roland', 'straight', 'finish', 'standings', 'hermann', 'stuttgart', 'rbs', 'traders', 'royal', 'probe', 'manipulation', 'currency', 'banks', 'ubs', 'barclays', 'deutsche', 'widening', 'requests', 'emails', 'instant', 'trader', 'usher', 'jpmorgan', 'currencies', 'bankers', 'swiss', 'monetary', 'allegations', 'suisse', 'probes', 'instances', 'units', 'highly', 'platforms', 'contained', 'hs2', 'england', 'kramer', 'keith', 'brown', 'consist', 'link', 'instructed', 'glasgow', 'edinburgh', 'cities', 'alistair', 'carmichael', 'adds', 'pawnbrokers', 'pawnshop', 'bendemeer', 'amirthalinga', 'ring', 'husband', 'income', 'insufficient', 'parts', 'asia', 'household', 'debt', 'rising', 'valuemax', 'carrying', 'pawning', 'jewellery', 'cheap', 'loans', 'branch', 'requiring', 'proof', 'turning', 'consumer', 'loose', 'economies', 'pawn', 'shops', 'cited', 'mainly', 'asian', 'malaysia', 'emerged', 'softening', 'song', 'historically', 'rush', 'items', 'outlets', 'looks', 'operator', 'expand', 'yeah', 'fund', 'listing', 'lenders', 'assets', 'bars', 'purchase', 'ventures', 'ham', 'bonndorf', 'established', 'legs', 'factory', 'schwarzwald', 'loved', 'mass', 'joints', 'meat', 'smoker', 'announcing', 'perspective', 'waltraud', 'ries', 'neighbours', 'afraid', 'spider', 'apartment', 'psychological', 'severe', 'abroad', 'shared', 'usual', 'nowadays', 'possibilities', 'appropriate', 'renovation', 'ideal', 'vienna', 'outs', 'max', 'announcements', 'atmosphere', 'kleeman', 'departure', 'assange', 'extradition', 'wikileaks', 'embassy', 'requested', 'liable', 'sex', 'serving', 'worker', '51', 'external', 'heating', 'concrete', 'injuries', 'salzburg', 'hackers', 'gov', 'accessible', 'tonight', 'resolved', 'ddos', 'server', 'designed', 'servers', 'cyber', 'criticism', 'programs', 'incident', 'revolutionary', 'liederkranz', 'dunningen', 'franz', 'schubert', 'messe', 'rock', 'spring', '00', 'johannes', 'der', 'patron', 'hirschen', 'reconstructed', 'councils', 'schiltach', 'bahn', 'crossings', 'municipalities', 'reconstruction', 'grießhaber', 'logs', 'oncoming', 'widen', 'critics', 'haas', 'kuhbach', 'via', 'bridge', 'hauptstrasse', 'bypass', 'renovated', 'councillors', 'incur', 'consented', 'connecting', 'weg', 'responsibility', 'completion', 'considers', 'kuhn', 'pop', 'intersex', 'gender', 'undetermined', 'ambiguous', 'genitalia', 'assigned', 'unspecified', 'pressure', 'assignment', 'chromosomes', 'ovaries', 'unusually', 'identification', 'assign', 'psychiatrist', 'jack', 'drescher', 'sounds', 'identity', 'knowing', 'mystery', 'exclusively', 'characteristics', 'overview', 'bias', 'crimes', 'camp', 'choice', 'maryland', 'baby', 'zone', 'parenting', 'sexuality', 'psychiatric', 'environmental', 'writer', 'satisfactory', 'removed', 'demanded', 'prevented', 'learning', 'infertile', 'advocates', 'tamar', 'mattis', 'informed', 'activists', 'assigning', 'baratz', 'androgen', 'tourism', 'beneath', 'cologne', 'preserved', 'cathedral', 'visitors', 'tours', 'tour', 'tall', 'parking', 'd2', 'archaeological', 'stones', 'size', 'shaft', 'upper', 'praetorium', 'rhine', 'exhibition', 'leads', 'sewer', 'mikwe', 'ritual', 'jewish', 'congregation', 'ymca', 'nsw', 'caringbah', 'abuse', 'hare', 'conceded', 'inaccurate', 'recognised', 'management', 'failed', 'safe', 'breaches', 'cultural', 'letting', 'testified', 'ceo', 'uncomfortable', 'executed', 'supervision', 'philip', 'dick', 'seeker', 'extent', 'massive', 'chosen', 'mixture', 'perhaps', 'realised', 'computers', 'theology', 'cold', 'practices', 'controls', 'victims', 'creates', 'fighting', 'frisk', 'judges', 'worn', 'stops', 'sometime', '330', 'solve', 'implemented', 'slammed', 'boston', 'addressing', 'coverage', 'marketplace', 'projected', 'sebelius', 'commerce', 'hot', 'rep', 'mo', 'healthcare', 'burt', 'los', 'angeles', 'unemployment', 'untrained', 'mecklenburg', 'continually', 'restaurants', 'chamber', 'discussed', 'retail', 'rangnick', 'mane', 'ralf', 'grödig', 'harkam', 'schmidt', 'hütter', 'sang', 'tripodi', 'obeid', 'watchdog', 'leases', 'icac', 'tender', 'ports', 'lease', 'telephone', 'conversations', 'rocker', 'bloody', 'grievous', 'bodily', 'harm', 'begun', 'silent', 'belonged', 'hell', 'ranking', 'speaker', 'invited', 'intercepted', 'applies', '457', 'genuineness', 'applied', 'criteria', 'preventing', 'loud', 'institute', 'labour', 'sri', 'recommended', 'holders', 'christmas', 'lax', 'twitter', 'shooter', 'custody', 'terminal', 'panic', 'photos', 'lying', 'landing', 'arrival', 'serves', 'maintenance', 'met', 'cottage', 'kaiser', 'landscape', 'cooperate', 'instrument', 'aspect', 'tribukait', 'councillor', 'grazing', 'helpers', 'trees', 'tractors', 'stone', 'condemned', 'victim', 'kana', 'booysen', 'assumed', 'pope', 'cardinals', 'popes', 'cardinal', 'electors', 'lombardi', 'consistory', 'valero', 'elected', 'advice', 'bräunlingen', 'load', 'memorial', 'submitted', 'originally', 'requirements', 'subsidies', 'taught', 'planners', 'motorist', 'intense', 'drive', 'privacy', 'congress', 'motorists', 'gps', 'tracking', 'pump', 'foundation', 'approved', 'leadership', 'nevada', 'illinois', '95', 'khan', 'hunt', 'amount', 'willing', 'flat', 'levy', 'imposed', 'honeck', 'relations', 'arctic', 'monkeys', 'postpone', 'gig', 'alex', 'illness', 'laryngitis', 'hydro', 'lg', 'birmingham', 'bvb', 'scenes', 'derby', 'schalke', 'borussia', 'vfb', 'ultras', 'kick', 'chants', 'loudest', 'capo', 'goalkeeper', 'arsenal', 'shout', 'winners', 'watzke', 'ignore', 'background', 'blair', 'esa', 'planets', 'gravitational', 'waves', 'holes', 'proposals', 'stars', 'cosmos', 'earth', 'cosmic', 'euro', 'paris', 'formation', 'darkness', 'telescope', 'exist', '2017', 'composition', 'solar', 'magnetic', 'jupiter', 'moons', 'planet', 'icy', 'outer', 'bang', 'gazprom', 'miller', 'bulgaria', 'starts', 'bulgarian', 'pamela', 'blonde', 'locks', 'dramatic', 'pixie', 'famous', 'sexy', 'eggs', 'egg', 'wrapped', 'turns', 'gerster', 'budgetary', 'rothmund', 'contribution', 'compensation', 'lay', 'communication', 'anna', 'sends', 'benni', 'gmail', 'mails', 'robots', 'virus', 'spam', 'upcoming', 'holiday', 'corresponding', 'intercept', 'metadata', 'consulting', 'konstanz', 'schänzle', 'lane', 'bmw', 'mirrors', 'hungry', 'pfullendorf', 'jörg', 'arne', 'calculated', 'plus', 'rabbits', 'prizes', 'iran', 'nuclear', 'facebook', 'haigerloch', 'protestant', 'bunker', 'plea', 'overhauled', 'chen', 'yongzhou', 'rectification', 'yangcheng', 'zoomlion', 'undertake', 'revise', 'confessions', 'becker', 'spared', 'magical', 'candy', 'sheep', 'costumes', 'zombies', 'guess', '600', 'haunted', 'puts', 'guy', 'photo', 'pumpkins', 'pumpkin', 'carving', 'lantern', 'grew', '106', 'nasdaq', 'markets', 'breakdowns', 'dealing', 'rhenus', 'midgard', 'imports', 'coals', 'signals', 'schrell', 'complaints', 'bulk', 'carriers', 'plant', 'bali', 'bomb', '202', 'bombing', 'patek', '88', 'terrorism', 'corteen', 'destruction', 'van', 'parked', 'hughes', 'alive', 'marked', 'immobilientag', 'börsen', 'zeitung', 'pointed', 'ulbrich', 'sayings', 'breakfast', 'expressions', 'proverbs', 'den', 'seine', 'round', 'mayoral', 'candidate', 'artisans', 'cosy', 'alternatives', 'vegan', 'vegetable', 'mashed', 'vegetarian', 'yoghurt', 'soya', 'tablespoon', '800', 'kerry', 'inappropriately', 'unprecedented', 'abused', 'europeans', 'murphy', 'threats', 'itinerary', 'egypt', 'spd', 'passport', 'toll', 'pronold', 'jagger', 'katy', 'perry', 'cyclist', '63', 'brake', '96', 'barrel', 'manufacturing', 'crude', 'delivery', '108', 'löffingen', 'köpfler', 'deadline', 'monday', 'nicotine', 'vaccine', 'mice', 'crystal', 'cornell', 'smokers', 'antibodies', 'liver', 'antibody', 'freely', 'mohamed', 'morsi', 'oath', 'mubarak', 'ousted', 'inauguration', 'brotherhood', '84', 'uprising', 'cairo', 'army', 'contest', 'constance', 'confession', 'condition', 'characterised', 'josef', 'speechlessness', 'prose', 'repertoire', 'sausage', 'kimmich', 'haslach', 'scepticism', 'se', 'committees', 'practical', 'tablets', 'regulations', 'aviation', 'mode', 'landings', 'casa', 'crew', 'wi', 'fi', 'entertainment', 'vary', 'interference', 'manuals', 'readers', 'smartphones', 'altitudes', 'drink', 'howie', 'horse', 'cardiff', 'fenton', 'shetland', 'pony', 'toffee', 'howells', 'destroyed', 'poison', 'activist', 'damascus', 'mixing', 'safira', 'facility', 'observatory', 'assad', 'inspectors', 'opcw', 'highland', 'kaltenhof', 'pulling', 'competitors', 'tossing', 'caber', 'horseshoe', 'bucket', 'tractor', 'castle', 'scots', 'lib', 'austerity', 'le', 'bloc', 'myths', 'legends', 'tales', 'crossley', 'holland', 'salem', 'johanna', 'rahner', 'ecumenical', 'forum', 'pastors', 'burfien', 'kindergarten', 'buyer', 'winterlingen', 'rubbish', 'huerta', 'airliners', 'restart', 'modified', 'rosenker', 'interfere', 'resistant', 'transmissions', 'minimal', 'pilots', 'modify', 'apply2', '945', 'cgi', 'e_qna', 'eng', 'f1', 'f6', 'wr_datetime', 'bbs338', 'hanmail', 'usr', 'sendmail', 'yetglezip', 'f4', 'dc', 'url', 'eb', 'b0', 'ec', 'ed', 'b8', '8d', 'ea', 'a7', 'xblizu9cxs34uqm8', '01', '201704', 'zip', 'pdf', '10px', '544473', 'omnicef', 'diners', 'methodcall', 'params', '_filter', 'cdata', 'href', 'allow_comment', 'allow_trackback', 'homepage', 'is_secret', 'module', 'elwoodbuckley041104', 'password2', 'yxg6dsf5iu', 'reward_point', 'user_id', 'app', 'bn2gepsdoae4v4a1', 'disposition', 'iti', 'jvwh', '3wpctx1mj5sbdacl', '840', '트리거', 'hz', 'vicbva15fl1xm0wh', 'wjyyj', 'yykswpo6jl4zzmkx', '7qbui7a'])"
      ]
     },
     "execution_count": 41,
     "metadata": {},
     "output_type": "execute_result"
    }
   ],
   "source": [
    "vector.vocabulary_.keys()"
   ]
  },
  {
   "cell_type": "code",
   "execution_count": 42,
   "id": "5dcaaab3-d3c5-43ba-9fc9-09df09dd783e",
   "metadata": {},
   "outputs": [
    {
     "data": {
      "text/plain": [
       "4096"
      ]
     },
     "execution_count": 42,
     "metadata": {},
     "output_type": "execute_result"
    }
   ],
   "source": [
    "len(vector.vocabulary_.keys())"
   ]
  },
  {
   "cell_type": "code",
   "execution_count": 43,
   "id": "035e8a8f-2304-493d-a48b-a331ab3557d2",
   "metadata": {},
   "outputs": [
    {
     "name": "stdout",
     "output_type": "stream",
     "text": [
      "[[0 0 0 ... 0 0 0]\n",
      " [0 0 0 ... 0 0 0]\n",
      " [0 0 0 ... 0 0 0]\n",
      " ...\n",
      " [0 0 0 ... 0 0 0]\n",
      " [0 0 0 ... 0 0 0]\n",
      " [0 0 1 ... 0 0 2]]\n"
     ]
    }
   ],
   "source": [
    "print(n_sent)"
   ]
  },
  {
   "cell_type": "code",
   "execution_count": 44,
   "id": "9072dd7f-ff93-4088-9668-b5dc60012d5f",
   "metadata": {},
   "outputs": [],
   "source": [
    "n_sent.shape = (4200, 64, 64, 1)"
   ]
  },
  {
   "cell_type": "code",
   "execution_count": 45,
   "id": "88b5b0f3-3936-4749-b140-82e1825fda55",
   "metadata": {},
   "outputs": [
    {
     "data": {
      "text/plain": [
       "(4200, 64, 64, 1)"
      ]
     },
     "execution_count": 45,
     "metadata": {},
     "output_type": "execute_result"
    }
   ],
   "source": [
    "n_sent.shape"
   ]
  },
  {
   "cell_type": "code",
   "execution_count": 46,
   "id": "958fbb8a-08fc-4925-9658-eadb045f70e4",
   "metadata": {},
   "outputs": [],
   "source": [
    "X = n_sent\n",
    "y = df[\"Label\"]"
   ]
  },
  {
   "cell_type": "code",
   "execution_count": 48,
   "id": "bdbeefeb-0dba-4bc4-b26d-9e46b8d019db",
   "metadata": {},
   "outputs": [
    {
     "name": "stdout",
     "output_type": "stream",
     "text": [
      "[[[[0]\n",
      "   [0]\n",
      "   [0]\n",
      "   ...\n",
      "   [0]\n",
      "   [0]\n",
      "   [0]]\n",
      "\n",
      "  [[0]\n",
      "   [0]\n",
      "   [0]\n",
      "   ...\n",
      "   [0]\n",
      "   [0]\n",
      "   [0]]\n",
      "\n",
      "  [[0]\n",
      "   [0]\n",
      "   [0]\n",
      "   ...\n",
      "   [0]\n",
      "   [0]\n",
      "   [0]]\n",
      "\n",
      "  ...\n",
      "\n",
      "  [[0]\n",
      "   [0]\n",
      "   [0]\n",
      "   ...\n",
      "   [0]\n",
      "   [0]\n",
      "   [0]]\n",
      "\n",
      "  [[0]\n",
      "   [0]\n",
      "   [0]\n",
      "   ...\n",
      "   [0]\n",
      "   [0]\n",
      "   [0]]\n",
      "\n",
      "  [[0]\n",
      "   [0]\n",
      "   [0]\n",
      "   ...\n",
      "   [0]\n",
      "   [0]\n",
      "   [0]]]\n",
      "\n",
      "\n",
      " [[[0]\n",
      "   [0]\n",
      "   [0]\n",
      "   ...\n",
      "   [0]\n",
      "   [0]\n",
      "   [0]]\n",
      "\n",
      "  [[0]\n",
      "   [0]\n",
      "   [0]\n",
      "   ...\n",
      "   [0]\n",
      "   [0]\n",
      "   [0]]\n",
      "\n",
      "  [[0]\n",
      "   [0]\n",
      "   [0]\n",
      "   ...\n",
      "   [0]\n",
      "   [0]\n",
      "   [0]]\n",
      "\n",
      "  ...\n",
      "\n",
      "  [[0]\n",
      "   [0]\n",
      "   [0]\n",
      "   ...\n",
      "   [0]\n",
      "   [0]\n",
      "   [0]]\n",
      "\n",
      "  [[0]\n",
      "   [0]\n",
      "   [0]\n",
      "   ...\n",
      "   [0]\n",
      "   [0]\n",
      "   [0]]\n",
      "\n",
      "  [[0]\n",
      "   [0]\n",
      "   [0]\n",
      "   ...\n",
      "   [0]\n",
      "   [0]\n",
      "   [0]]]\n",
      "\n",
      "\n",
      " [[[0]\n",
      "   [0]\n",
      "   [0]\n",
      "   ...\n",
      "   [0]\n",
      "   [0]\n",
      "   [0]]\n",
      "\n",
      "  [[0]\n",
      "   [0]\n",
      "   [0]\n",
      "   ...\n",
      "   [0]\n",
      "   [0]\n",
      "   [0]]\n",
      "\n",
      "  [[0]\n",
      "   [0]\n",
      "   [0]\n",
      "   ...\n",
      "   [0]\n",
      "   [0]\n",
      "   [0]]\n",
      "\n",
      "  ...\n",
      "\n",
      "  [[0]\n",
      "   [0]\n",
      "   [0]\n",
      "   ...\n",
      "   [0]\n",
      "   [0]\n",
      "   [0]]\n",
      "\n",
      "  [[0]\n",
      "   [0]\n",
      "   [0]\n",
      "   ...\n",
      "   [0]\n",
      "   [0]\n",
      "   [0]]\n",
      "\n",
      "  [[0]\n",
      "   [0]\n",
      "   [0]\n",
      "   ...\n",
      "   [0]\n",
      "   [0]\n",
      "   [0]]]\n",
      "\n",
      "\n",
      " ...\n",
      "\n",
      "\n",
      " [[[0]\n",
      "   [0]\n",
      "   [0]\n",
      "   ...\n",
      "   [0]\n",
      "   [0]\n",
      "   [0]]\n",
      "\n",
      "  [[0]\n",
      "   [0]\n",
      "   [0]\n",
      "   ...\n",
      "   [0]\n",
      "   [0]\n",
      "   [0]]\n",
      "\n",
      "  [[0]\n",
      "   [0]\n",
      "   [0]\n",
      "   ...\n",
      "   [0]\n",
      "   [0]\n",
      "   [0]]\n",
      "\n",
      "  ...\n",
      "\n",
      "  [[0]\n",
      "   [0]\n",
      "   [0]\n",
      "   ...\n",
      "   [0]\n",
      "   [0]\n",
      "   [0]]\n",
      "\n",
      "  [[0]\n",
      "   [0]\n",
      "   [0]\n",
      "   ...\n",
      "   [0]\n",
      "   [0]\n",
      "   [0]]\n",
      "\n",
      "  [[0]\n",
      "   [0]\n",
      "   [0]\n",
      "   ...\n",
      "   [0]\n",
      "   [0]\n",
      "   [0]]]\n",
      "\n",
      "\n",
      " [[[0]\n",
      "   [0]\n",
      "   [0]\n",
      "   ...\n",
      "   [0]\n",
      "   [0]\n",
      "   [0]]\n",
      "\n",
      "  [[0]\n",
      "   [0]\n",
      "   [0]\n",
      "   ...\n",
      "   [0]\n",
      "   [0]\n",
      "   [0]]\n",
      "\n",
      "  [[0]\n",
      "   [0]\n",
      "   [0]\n",
      "   ...\n",
      "   [0]\n",
      "   [0]\n",
      "   [0]]\n",
      "\n",
      "  ...\n",
      "\n",
      "  [[0]\n",
      "   [0]\n",
      "   [0]\n",
      "   ...\n",
      "   [0]\n",
      "   [0]\n",
      "   [0]]\n",
      "\n",
      "  [[0]\n",
      "   [0]\n",
      "   [0]\n",
      "   ...\n",
      "   [0]\n",
      "   [0]\n",
      "   [0]]\n",
      "\n",
      "  [[0]\n",
      "   [0]\n",
      "   [0]\n",
      "   ...\n",
      "   [0]\n",
      "   [0]\n",
      "   [0]]]\n",
      "\n",
      "\n",
      " [[[0]\n",
      "   [0]\n",
      "   [1]\n",
      "   ...\n",
      "   [0]\n",
      "   [0]\n",
      "   [0]]\n",
      "\n",
      "  [[0]\n",
      "   [0]\n",
      "   [0]\n",
      "   ...\n",
      "   [0]\n",
      "   [0]\n",
      "   [0]]\n",
      "\n",
      "  [[0]\n",
      "   [0]\n",
      "   [0]\n",
      "   ...\n",
      "   [0]\n",
      "   [0]\n",
      "   [0]]\n",
      "\n",
      "  ...\n",
      "\n",
      "  [[0]\n",
      "   [0]\n",
      "   [0]\n",
      "   ...\n",
      "   [0]\n",
      "   [0]\n",
      "   [0]]\n",
      "\n",
      "  [[0]\n",
      "   [0]\n",
      "   [1]\n",
      "   ...\n",
      "   [0]\n",
      "   [0]\n",
      "   [0]]\n",
      "\n",
      "  [[0]\n",
      "   [0]\n",
      "   [0]\n",
      "   ...\n",
      "   [0]\n",
      "   [0]\n",
      "   [2]]]]\n",
      "0       1\n",
      "1       1\n",
      "2       1\n",
      "3       1\n",
      "4       1\n",
      "       ..\n",
      "4195    0\n",
      "4196    0\n",
      "4197    0\n",
      "4198    0\n",
      "4199    0\n",
      "Name: Label, Length: 4200, dtype: int64\n"
     ]
    }
   ],
   "source": [
    "print(X)\n",
    "print(y)"
   ]
  },
  {
   "cell_type": "code",
   "execution_count": 49,
   "id": "30985645-82f6-4bb9-aa93-2d03b48e2bb5",
   "metadata": {},
   "outputs": [
    {
     "data": {
      "text/plain": [
       "array(['00', '000', '01', ..., 'zoomlion', 'zweig', '트리거'], dtype=object)"
      ]
     },
     "execution_count": 49,
     "metadata": {},
     "output_type": "execute_result"
    }
   ],
   "source": [
    "# vector.get_feature_names_out()\n",
    "# len(vector.get_feature_names_out())\n",
    "# vector.get_feature_names_out()[100]\n",
    "\n",
    "# Get output feature names for transformation.\n",
    "    # https://scikit-learn.org/stable/modules/generated/sklearn.feature_extraction.text.CountVectorizer.html"
   ]
  },
  {
   "cell_type": "markdown",
   "id": "4555ce20-a680-4c46-9511-931f38e065dc",
   "metadata": {},
   "source": [
    "# Dataset (Training & Testing Split)"
   ]
  },
  {
   "cell_type": "code",
   "execution_count": 51,
   "id": "a4ba623d-b474-46e2-a62a-f61e925904cf",
   "metadata": {},
   "outputs": [],
   "source": [
    "X_train, X_test, y_train, y_test = train_test_split(X, y, test_size=0.2, random_state=42)"
   ]
  },
  {
   "cell_type": "code",
   "execution_count": 52,
   "id": "1a215da4-adfb-4524-8f13-9830b2f5413c",
   "metadata": {},
   "outputs": [],
   "source": [
    "trainX = X_train.copy()\n",
    "trainX.shape = (trainX.shape[0], trainX.shape[1] * trainX.shape[2])\n",
    "\n",
    "testX = X_test.copy()\n",
    "testX.shape = (testX.shape[0], testX.shape[1] * testX.shape[2])"
   ]
  },
  {
   "cell_type": "code",
   "execution_count": 53,
   "id": "185e611f-9176-4c0e-9dd9-a39621127d19",
   "metadata": {},
   "outputs": [
    {
     "data": {
      "text/plain": [
       "3360"
      ]
     },
     "execution_count": 53,
     "metadata": {},
     "output_type": "execute_result"
    }
   ],
   "source": [
    "len(trainX)"
   ]
  },
  {
   "cell_type": "code",
   "execution_count": 54,
   "id": "bd20ae3a-9fe8-48b0-9684-eb85d6e4ec31",
   "metadata": {},
   "outputs": [
    {
     "data": {
      "text/plain": [
       "840"
      ]
     },
     "execution_count": 54,
     "metadata": {},
     "output_type": "execute_result"
    }
   ],
   "source": [
    "len(testX)"
   ]
  },
  {
   "cell_type": "markdown",
   "id": "cef65b30-2dfe-48af-86ab-73d88b5c96bb",
   "metadata": {},
   "source": [
    "# Neural Network (Convolutional Neural Network)"
   ]
  },
  {
   "cell_type": "code",
   "execution_count": 59,
   "id": "381f54b5-69c5-41db-916f-f9777171a282",
   "metadata": {},
   "outputs": [],
   "source": [
    "model = Sequential()"
   ]
  },
  {
   "cell_type": "code",
   "execution_count": 60,
   "id": "8b0e987b-d061-4d55-a2d5-206e28a21590",
   "metadata": {},
   "outputs": [],
   "source": [
    "model.add(tf.keras.layers.Conv2D(64, (3, 3), activation=\"relu\", input_shape=(64, 64, 1))) # Input Layer\n",
    "model.add(tf.keras.layers.MaxPooling2D((2, 2))) # Pooling Layer\n",
    "model.add(tf.keras.layers.Conv2D(128, (3, 3), activation=\"relu\")) # Convolution Layer\n",
    "model.add(tf.keras.layers.MaxPooling2D((2, 2))) # Pooling Layer\n",
    "model.add(tf.keras.layers.Flatten())\n",
    "model.add(tf.keras.layers.Dense(64, activation=\"relu\")) # Hidden layer 1\n",
    "model.add(tf.keras.layers.Dense(128, activation=\"relu\")) # Hidden layer 2\n",
    "model.add(tf.keras.layers.Dense(1, activation=\"sigmoid\")) # Output Layer"
   ]
  },
  {
   "cell_type": "code",
   "execution_count": 61,
   "id": "9c5d1850-b51b-4ed4-95ce-c92c8082dc03",
   "metadata": {},
   "outputs": [],
   "source": [
    "model.compile(\n",
    "    loss=\"binary_crossentropy\",\n",
    "    optimizer=\"adam\",\n",
    "    metrics=[\"accuracy\"]\n",
    ")"
   ]
  },
  {
   "cell_type": "code",
   "execution_count": 62,
   "id": "f4e3b9fc-a60c-4559-ba6b-d7af06fc9d45",
   "metadata": {},
   "outputs": [
    {
     "name": "stdout",
     "output_type": "stream",
     "text": [
      "Model: \"sequential_1\"\n",
      "_________________________________________________________________\n",
      " Layer (type)                Output Shape              Param #   \n",
      "=================================================================\n",
      " conv2d (Conv2D)             (None, 62, 62, 64)        640       \n",
      "                                                                 \n",
      " max_pooling2d (MaxPooling2  (None, 31, 31, 64)        0         \n",
      " D)                                                              \n",
      "                                                                 \n",
      " conv2d_1 (Conv2D)           (None, 29, 29, 128)       73856     \n",
      "                                                                 \n",
      " max_pooling2d_1 (MaxPoolin  (None, 14, 14, 128)       0         \n",
      " g2D)                                                            \n",
      "                                                                 \n",
      " flatten (Flatten)           (None, 25088)             0         \n",
      "                                                                 \n",
      " dense (Dense)               (None, 64)                1605696   \n",
      "                                                                 \n",
      " dense_1 (Dense)             (None, 128)               8320      \n",
      "                                                                 \n",
      " dense_2 (Dense)             (None, 1)                 129       \n",
      "                                                                 \n",
      "=================================================================\n",
      "Total params: 1688641 (6.44 MB)\n",
      "Trainable params: 1688641 (6.44 MB)\n",
      "Non-trainable params: 0 (0.00 Byte)\n",
      "_________________________________________________________________\n"
     ]
    }
   ],
   "source": [
    "model.summary()"
   ]
  },
  {
   "cell_type": "code",
   "execution_count": 64,
   "id": "1512a780-1371-4841-a530-643fb14d3f35",
   "metadata": {},
   "outputs": [
    {
     "name": "stdout",
     "output_type": "stream",
     "text": [
      "Epoch 1/10\n"
     ]
    },
    {
     "name": "stderr",
     "output_type": "stream",
     "text": [
      "2023-10-18 19:53:30.513027: I tensorflow/compiler/xla/stream_executor/cuda/cuda_dnn.cc:442] Loaded cuDNN version 8904\n",
      "2023-10-18 19:53:30.780764: I tensorflow/tsl/platform/default/subprocess.cc:304] Start cannot spawn child process: No such file or directory\n",
      "2023-10-18 19:53:31.367195: I tensorflow/tsl/platform/default/subprocess.cc:304] Start cannot spawn child process: No such file or directory\n",
      "2023-10-18 19:53:31.931089: I tensorflow/compiler/xla/service/service.cc:168] XLA service 0x7fc7b40ba910 initialized for platform CUDA (this does not guarantee that XLA will be used). Devices:\n",
      "2023-10-18 19:53:31.931115: I tensorflow/compiler/xla/service/service.cc:176]   StreamExecutor device (0): NVIDIA GeForce GTX 1650, Compute Capability 7.5\n",
      "2023-10-18 19:53:31.943056: I tensorflow/compiler/mlir/tensorflow/utils/dump_mlir_util.cc:269] disabling MLIR crash reproducer, set env var `MLIR_CRASH_REPRODUCER_DIRECTORY` to enable.\n",
      "2023-10-18 19:53:32.074848: I ./tensorflow/compiler/jit/device_compiler.h:186] Compiled cluster using XLA!  This line is logged at most once for the lifetime of the process.\n"
     ]
    },
    {
     "name": "stdout",
     "output_type": "stream",
     "text": [
      "105/105 [==============================] - 6s 15ms/step - loss: 0.1598 - accuracy: 0.9262 - val_loss: 0.1146 - val_accuracy: 0.9536\n",
      "Epoch 2/10\n",
      "105/105 [==============================] - 1s 11ms/step - loss: 0.0853 - accuracy: 0.9640 - val_loss: 0.0896 - val_accuracy: 0.9583\n",
      "Epoch 3/10\n",
      "105/105 [==============================] - 1s 11ms/step - loss: 0.0788 - accuracy: 0.9673 - val_loss: 0.0966 - val_accuracy: 0.9583\n",
      "Epoch 4/10\n",
      "105/105 [==============================] - 1s 12ms/step - loss: 0.0647 - accuracy: 0.9729 - val_loss: 0.0967 - val_accuracy: 0.9655\n",
      "Epoch 5/10\n",
      "105/105 [==============================] - 1s 12ms/step - loss: 0.0566 - accuracy: 0.9777 - val_loss: 0.0942 - val_accuracy: 0.9714\n",
      "Epoch 6/10\n",
      "105/105 [==============================] - 1s 12ms/step - loss: 0.0543 - accuracy: 0.9777 - val_loss: 0.1185 - val_accuracy: 0.9643\n",
      "Epoch 7/10\n",
      "105/105 [==============================] - 1s 12ms/step - loss: 0.0556 - accuracy: 0.9780 - val_loss: 0.0897 - val_accuracy: 0.9702\n",
      "Epoch 8/10\n",
      "105/105 [==============================] - 1s 11ms/step - loss: 0.0538 - accuracy: 0.9777 - val_loss: 0.1127 - val_accuracy: 0.9679\n",
      "Epoch 9/10\n",
      "105/105 [==============================] - 1s 11ms/step - loss: 0.0544 - accuracy: 0.9786 - val_loss: 0.0920 - val_accuracy: 0.9702\n",
      "Epoch 10/10\n",
      "105/105 [==============================] - 1s 12ms/step - loss: 0.0524 - accuracy: 0.9780 - val_loss: 0.0884 - val_accuracy: 0.9690\n"
     ]
    }
   ],
   "source": [
    "classifier_nn = model.fit(\n",
    "    X_train,\n",
    "    y_train,\n",
    "    epochs = 10,\n",
    "    validation_data = (X_test, y_test),\n",
    "    batch_size = 32\n",
    ")"
   ]
  },
  {
   "cell_type": "markdown",
   "id": "d4638872-9c9a-4c04-89d7-d353089041fb",
   "metadata": {},
   "source": [
    "# Model Prediction"
   ]
  },
  {
   "cell_type": "code",
   "execution_count": 65,
   "id": "29fbd07a-d9c9-41c8-b573-c86d12fc7aff",
   "metadata": {},
   "outputs": [
    {
     "name": "stdout",
     "output_type": "stream",
     "text": [
      "27/27 [==============================] - 0s 3ms/step\n"
     ]
    }
   ],
   "source": [
    "prediction = model.predict(X_test)"
   ]
  },
  {
   "cell_type": "code",
   "execution_count": 67,
   "id": "b2aac148-7ef5-4bc8-9e95-6fe6e155335c",
   "metadata": {},
   "outputs": [],
   "source": [
    "for i in range(len(prediction)):\n",
    "    if prediction[i] > 0.5:\n",
    "        prediction[i] = 1\n",
    "    elif prediction[i] <= 0.5:\n",
    "        prediction[i] = 0        "
   ]
  },
  {
   "cell_type": "code",
   "execution_count": 68,
   "id": "574b1a52-4da0-4dae-af45-189912e4d326",
   "metadata": {},
   "outputs": [],
   "source": [
    "model.save(\"sqli_model_cnn.keras\")"
   ]
  },
  {
   "cell_type": "code",
   "execution_count": 71,
   "id": "8bb98a46-47dd-4ef1-8286-a58a65de2a5b",
   "metadata": {},
   "outputs": [],
   "source": [
    "with open(\"vect_cnn_2\", \"wb\") as f:\n",
    "    pickle.dump(vector, f)"
   ]
  },
  {
   "cell_type": "code",
   "execution_count": 72,
   "id": "06ea70d2-512e-485a-bde9-104930c2cae2",
   "metadata": {},
   "outputs": [],
   "source": [
    "def accuracy_function(tp, tn, fp, fn):\n",
    "    accuracy = (tp + tn) / (tp + tn + fp + fn)\n",
    "    return accuracy"
   ]
  },
  {
   "cell_type": "code",
   "execution_count": 79,
   "id": "632cd25e-5c5e-4879-a1ea-fa29e22e26b8",
   "metadata": {},
   "outputs": [],
   "source": [
    "def precision_function(tp, fp):\n",
    "    precision = tp / (tp + fp)\n",
    "    return precision"
   ]
  },
  {
   "cell_type": "code",
   "execution_count": 80,
   "id": "be251f96-64cb-499f-a1f1-4975c3c2caf0",
   "metadata": {},
   "outputs": [],
   "source": [
    "def recall_function(tp, fn):\n",
    "    recall = tp / (tp + fn)\n",
    "    return recall"
   ]
  },
  {
   "cell_type": "markdown",
   "id": "4d9828cb-a92d-48b9-b8c5-30a7c2482f0d",
   "metadata": {},
   "source": [
    "# Confusion Matrix"
   ]
  },
  {
   "cell_type": "code",
   "execution_count": 81,
   "id": "8f90a902-76ea-4de6-8c6e-5dc9840559af",
   "metadata": {},
   "outputs": [],
   "source": [
    "def confusion_matrix(actual, predicted):\n",
    "    true_positive = 0\n",
    "    true_negative = 0\n",
    "    false_positive = 0\n",
    "    false_negative = 0\n",
    "\n",
    "    for true, pred in zip(actual, predicted):\n",
    "        if true == 1:\n",
    "            if pred == true:\n",
    "                true_positive += 1\n",
    "            elif pred != true:\n",
    "                false_negative += 1\n",
    "\n",
    "        elif true == 0:\n",
    "            if pred == true:\n",
    "                true_negative += 1\n",
    "            elif pred != true:\n",
    "                false_positive += 1\n",
    "\n",
    "    accuracy = accuracy_function(true_positive, true_negative, false_positive, false_negative)\n",
    "    precision = precision_function(true_positive, false_positive)\n",
    "    recall = recall_function(true_positive, false_negative)\n",
    "\n",
    "    return (accuracy, precision, recall)"
   ]
  },
  {
   "cell_type": "markdown",
   "id": "06384147-0086-4640-a1ce-f2f64916ac93",
   "metadata": {},
   "source": [
    "# Accuracy & Precision & Recall"
   ]
  },
  {
   "cell_type": "code",
   "execution_count": 82,
   "id": "0cb31fb0-ca56-4596-a0b8-4994c970c21b",
   "metadata": {},
   "outputs": [],
   "source": [
    "accuracy, precision, recall = confusion_matrix(y_test, prediction)"
   ]
  },
  {
   "cell_type": "code",
   "execution_count": 83,
   "id": "6783eb30-1644-4c20-a992-a2671cb2b0d8",
   "metadata": {},
   "outputs": [
    {
     "name": "stdout",
     "output_type": "stream",
     "text": [
      " Accuracy Score: 0.969047619047619\n",
      " Precision : 0.9094202898550725\n",
      " Recall: 0.996031746031746\n"
     ]
    }
   ],
   "source": [
    "print(\" Accuracy Score: {0}\\n Precision : {1}\\n Recall: {2}\".format(accuracy, precision, recall))"
   ]
  },
  {
   "cell_type": "markdown",
   "id": "20507bd7-7f42-471a-a940-2a7abcc6f2c7",
   "metadata": {},
   "source": [
    "# Model Testing"
   ]
  },
  {
   "cell_type": "code",
   "execution_count": 84,
   "id": "4a94a283-97cf-4b23-92ca-c05dc5d04aad",
   "metadata": {},
   "outputs": [],
   "source": [
    "modelx = tf.keras.models.load_model(\"sqli_model_cnn.keras\")"
   ]
  },
  {
   "cell_type": "code",
   "execution_count": 85,
   "id": "5b1afcaa-79c2-4eb9-a604-ad1615bb5d38",
   "metadata": {},
   "outputs": [],
   "source": [
    "vectorizerx = pickle.load(open(\"vect_cnn_2\", \"rb\"))"
   ]
  },
  {
   "cell_type": "code",
   "execution_count": 91,
   "id": "63a6c00c-9e1f-4766-af5b-0894cbb110e5",
   "metadata": {},
   "outputs": [],
   "source": [
    "def predict_sqlinjection():\n",
    "    repeat = True\n",
    "\n",
    "    input_val = input(\"SQL Query : \")\n",
    "\n",
    "    if input_val == '0':\n",
    "        repeat = False\n",
    "\n",
    "    input_val = [input_val]\n",
    "    input_val = vectorizerx.transform(input_val).toarray()\n",
    "    input_val.shape = (1, 64, 64, 1)\n",
    "\n",
    "    result = modelx.predict(input_val)\n",
    "\n",
    "    if repeat == True:\n",
    "        if result > 0.5:\n",
    "            print(\"SQL Injection Attack Detected!\")\n",
    "        elif result <= 0.5:\n",
    "            print(\"Safe SQL query.\")\n",
    "        predict_sqlinjection()\n",
    "    elif repeat == False:\n",
    "        print(\"finish.\")"
   ]
  },
  {
   "cell_type": "code",
   "execution_count": 92,
   "id": "ff558bba-8fce-4340-9d07-45c4a396249c",
   "metadata": {},
   "outputs": [
    {
     "name": "stdin",
     "output_type": "stream",
     "text": [
      "SQL Query :  SELECT * FROM email = 'cihan@deeplab.co' OR 1=1;\n"
     ]
    },
    {
     "name": "stdout",
     "output_type": "stream",
     "text": [
      "1/1 [==============================] - 0s 144ms/step\n",
      "SQL Injection Attack Detected!\n"
     ]
    },
    {
     "name": "stdin",
     "output_type": "stream",
     "text": [
      "SQL Query :  0\n"
     ]
    },
    {
     "name": "stdout",
     "output_type": "stream",
     "text": [
      "1/1 [==============================] - 0s 23ms/step\n",
      "finish.\n"
     ]
    }
   ],
   "source": [
    "predict_sqlinjection()"
   ]
  },
  {
   "cell_type": "code",
   "execution_count": null,
   "id": "7c9cc4a0-7661-4b78-8387-4ba8c75892b6",
   "metadata": {},
   "outputs": [],
   "source": []
  }
 ],
 "metadata": {
  "kernelspec": {
   "display_name": "Python 3 (ipykernel)",
   "language": "python",
   "name": "python3"
  },
  "language_info": {
   "codemirror_mode": {
    "name": "ipython",
    "version": 3
   },
   "file_extension": ".py",
   "mimetype": "text/x-python",
   "name": "python",
   "nbconvert_exporter": "python",
   "pygments_lexer": "ipython3",
   "version": "3.10.12"
  }
 },
 "nbformat": 4,
 "nbformat_minor": 5
}
